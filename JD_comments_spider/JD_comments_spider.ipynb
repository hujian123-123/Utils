{
 "cells": [
  {
   "cell_type": "code",
   "execution_count": 27,
   "outputs": [],
   "source": [
    "import requests\n",
    "from bs4 import BeautifulSoup #\n",
    "import json\n",
    "import datetime\n",
    "import urllib\n",
    "import time\n",
    "import re\n",
    "from urllib.parse import urlparse\n",
    "import urllib.request as urllib2\n",
    "import pandas as pd\n",
    "from tqdm import tqdm"
   ],
   "metadata": {
    "collapsed": false,
    "pycharm": {
     "name": "#%%\n"
    }
   }
  },
  {
   "cell_type": "code",
   "execution_count": 2,
   "outputs": [],
   "source": [
    "## Step:1 根据关键词获取商品SKU数据\n",
    "keyword = '西瓜' #关键词(可以修改)\n",
    "data = []\n",
    "for page in range(6):\n",
    "    # click=1 表示按销量排序\n",
    "    params = {'keyword':keyword,'enc':'utf-8','qrst':1,'rt':1,'stop':1,'vt':2,'page':page,'click':1}\n",
    "    res = requests.get(\"https://search.jd.com/Search?\",params = params)\n",
    "    soup = BeautifulSoup(res.content,\"html.parser\")\n",
    "    goods_info = soup.select(\".gl-item\")\n",
    "    for good_info in goods_info:\n",
    "        sku = good_info.get('data-sku')\n",
    "        title = good_info.select_one('.p-name a').get('title')\n",
    "        description = good_info.select_one('.p-name a em').text\n",
    "        price = good_info.select_one('.p-price i').text\n",
    "        image = good_info.select_one('.p-img img').get('data-lazy-img')\n",
    "        shop = good_info.select_one('.p-shop .curr-shop').text\n",
    "        data.append({\n",
    "            'SKU': sku,\n",
    "            'Title': title,\n",
    "            'Description': description,\n",
    "            'Price': price,\n",
    "            'Image': image,\n",
    "            'Shop': shop,\n",
    "        })\n",
    "    time.sleep(2)\n",
    "item_info = pd.DataFrame(data)"
   ],
   "metadata": {
    "collapsed": false,
    "pycharm": {
     "name": "#%%\n"
    }
   }
  },
  {
   "cell_type": "code",
   "execution_count": 16,
   "outputs": [
    {
     "data": {
      "text/plain": "'https://search.jd.com/Search?keyword=%E8%A5%BF%E7%93%9C&enc=utf-8&qrst=1&rt=1&stop=1&vt=2&page=5&click=1'"
     },
     "execution_count": 16,
     "metadata": {},
     "output_type": "execute_result"
    }
   ],
   "source": [
    "res = requests.get(\"https://search.jd.com/Search?\",params = params)\n",
    "res.url"
   ],
   "metadata": {
    "collapsed": false,
    "pycharm": {
     "name": "#%%\n"
    }
   }
  },
  {
   "cell_type": "code",
   "execution_count": 4,
   "outputs": [
    {
     "data": {
      "text/plain": "                SKU                                             Title  \\\n0           4014101              绿衣裹红瓤，果味清新甘甜，果肉鲜脆多汁，喷涌汁液清甜入喉，甜蜜直达心田！   \n1    10028804239779   头茬鲜果，泡沫卡槽箱包装，精选阳面瓜，一瓜一藤，不仅脆而且甜，入口化进心里，留不住的夏天就吃掉   \n2      100055936077                                                     \n3    10070743806818  【精选阳面瓜，一瓜一藤】【不仅脆而且甜，入口化进心里】【留不住的夏天就吃掉】更多京选果蔬请点击~   \n4      100001809857           炎炎夏日，解暑必备，绿衣裹红瓤，果味清新甘甜，果肉鲜脆多汁，甜蜜清凉直达心田！   \n..              ...                                               ...   \n175  10040987514870                                                     \n176  10070479027470              顺丰产地当天现摘24小时发货！皮薄甜脆爽口，入口即化的冰淇淋黄瓤小西瓜。   \n177  10052049704058                                                     \n178  10071821005169                             盛夏之王，麒麟瓜肉紧致，口感脆甜，汁水丰富   \n179  10054706654013                                              优惠促销   \n\n                                           Description   Price  \\\n0                      \\n京鲜生 国产麒麟西瓜 1粒装 单果2.5kg以上 生鲜水果   39.90   \n1     京愿 新鲜8424麒麟西瓜 现摘甜心新鲜大西瓜麒麟西瓜当季应季水果生鲜 优选4-5斤（托盘保护）   32.80   \n2                  京鲜到手剥2k冰糖子西瓜 严选头茬5.5-6斤装（2个瓜）新鲜应季水果   39.90   \n3    爱心东东\\t\\n四叔公果蔬8424冰糖麒麟西瓜 现摘爆甜新鲜西瓜当季水果黑美人脆甜薄皮西瓜 ...   39.00   \n4                       \\n京鲜生 国产麒麟西瓜 1粒装 单果约3.5kg 生鲜水果   46.90   \n..                                                 ...     ...   \n175                          静益乐源8424麒麟西瓜 新鲜水果 一个装4-5斤   29.90   \n176         玫栀山东仁风富硒黄瓤西瓜礼盒黄心水果当季新鲜脆甜迷你整箱顺丰 5斤礼盒装（2-3个）   79.00   \n177                            美都无籽麒麟瓜 当季大西瓜2个装 单个6-7斤  118.00   \n178                   鲜福林云南麒麟西瓜 冰淇淋红壤甜西瓜新鲜应季水果现摘 7-8斤装   39.90   \n179  吕大鲜庞各庄西瓜牛奶冰糖吊瓜正宗北京大兴迷你薄皮小西瓜礼盒装L600 3-4个普通装（12-...   93.90   \n\n                                                 Image        Shop  \n0    //img11.360buyimg.com/n7/jfs/t1/220542/36/7792...    水果京东自营专区  \n1    //img14.360buyimg.com/n7/jfs/t1/97570/19/37945...     荣鼎生鲜专营店  \n2    //img12.360buyimg.com/n7/jfs/t1/173196/10/3069...  京鲜到京东自营旗舰店  \n3    //img13.360buyimg.com/n7/jfs/t1/166066/6/35978...    中国特产·祥符馆  \n4    //img12.360buyimg.com/n7/jfs/t1/83702/2/2163/4...    水果京东自营专区  \n..                                                 ...         ...  \n175  //img10.360buyimg.com/n7/jfs/t1/172675/28/2300...   草帽兄弟果蔬专营店  \n176  //img10.360buyimg.com/n7/jfs/t1/80796/8/24394/...     儒川生鲜专营店  \n177  //img13.360buyimg.com/n7/jfs/t1/196360/37/2523...     柏馋水果旗舰店  \n178  //img14.360buyimg.com/n7/jfs/t1/182224/25/3409...    鲜福林官方旗舰店  \n179  //img13.360buyimg.com/n7/jfs/t1/136815/6/31173...    吕大鲜生鲜旗舰店  \n\n[149 rows x 6 columns]",
      "text/html": "<div>\n<style scoped>\n    .dataframe tbody tr th:only-of-type {\n        vertical-align: middle;\n    }\n\n    .dataframe tbody tr th {\n        vertical-align: top;\n    }\n\n    .dataframe thead th {\n        text-align: right;\n    }\n</style>\n<table border=\"1\" class=\"dataframe\">\n  <thead>\n    <tr style=\"text-align: right;\">\n      <th></th>\n      <th>SKU</th>\n      <th>Title</th>\n      <th>Description</th>\n      <th>Price</th>\n      <th>Image</th>\n      <th>Shop</th>\n    </tr>\n  </thead>\n  <tbody>\n    <tr>\n      <th>0</th>\n      <td>4014101</td>\n      <td>绿衣裹红瓤，果味清新甘甜，果肉鲜脆多汁，喷涌汁液清甜入喉，甜蜜直达心田！</td>\n      <td>\\n京鲜生 国产麒麟西瓜 1粒装 单果2.5kg以上 生鲜水果</td>\n      <td>39.90</td>\n      <td>//img11.360buyimg.com/n7/jfs/t1/220542/36/7792...</td>\n      <td>水果京东自营专区</td>\n    </tr>\n    <tr>\n      <th>1</th>\n      <td>10028804239779</td>\n      <td>头茬鲜果，泡沫卡槽箱包装，精选阳面瓜，一瓜一藤，不仅脆而且甜，入口化进心里，留不住的夏天就吃掉</td>\n      <td>京愿 新鲜8424麒麟西瓜 现摘甜心新鲜大西瓜麒麟西瓜当季应季水果生鲜 优选4-5斤（托盘保护）</td>\n      <td>32.80</td>\n      <td>//img14.360buyimg.com/n7/jfs/t1/97570/19/37945...</td>\n      <td>荣鼎生鲜专营店</td>\n    </tr>\n    <tr>\n      <th>2</th>\n      <td>100055936077</td>\n      <td></td>\n      <td>京鲜到手剥2k冰糖子西瓜 严选头茬5.5-6斤装（2个瓜）新鲜应季水果</td>\n      <td>39.90</td>\n      <td>//img12.360buyimg.com/n7/jfs/t1/173196/10/3069...</td>\n      <td>京鲜到京东自营旗舰店</td>\n    </tr>\n    <tr>\n      <th>3</th>\n      <td>10070743806818</td>\n      <td>【精选阳面瓜，一瓜一藤】【不仅脆而且甜，入口化进心里】【留不住的夏天就吃掉】更多京选果蔬请点击~</td>\n      <td>爱心东东\\t\\n四叔公果蔬8424冰糖麒麟西瓜 现摘爆甜新鲜西瓜当季水果黑美人脆甜薄皮西瓜 ...</td>\n      <td>39.00</td>\n      <td>//img13.360buyimg.com/n7/jfs/t1/166066/6/35978...</td>\n      <td>中国特产·祥符馆</td>\n    </tr>\n    <tr>\n      <th>4</th>\n      <td>100001809857</td>\n      <td>炎炎夏日，解暑必备，绿衣裹红瓤，果味清新甘甜，果肉鲜脆多汁，甜蜜清凉直达心田！</td>\n      <td>\\n京鲜生 国产麒麟西瓜 1粒装 单果约3.5kg 生鲜水果</td>\n      <td>46.90</td>\n      <td>//img12.360buyimg.com/n7/jfs/t1/83702/2/2163/4...</td>\n      <td>水果京东自营专区</td>\n    </tr>\n    <tr>\n      <th>...</th>\n      <td>...</td>\n      <td>...</td>\n      <td>...</td>\n      <td>...</td>\n      <td>...</td>\n      <td>...</td>\n    </tr>\n    <tr>\n      <th>175</th>\n      <td>10040987514870</td>\n      <td></td>\n      <td>静益乐源8424麒麟西瓜 新鲜水果 一个装4-5斤</td>\n      <td>29.90</td>\n      <td>//img10.360buyimg.com/n7/jfs/t1/172675/28/2300...</td>\n      <td>草帽兄弟果蔬专营店</td>\n    </tr>\n    <tr>\n      <th>176</th>\n      <td>10070479027470</td>\n      <td>顺丰产地当天现摘24小时发货！皮薄甜脆爽口，入口即化的冰淇淋黄瓤小西瓜。</td>\n      <td>玫栀山东仁风富硒黄瓤西瓜礼盒黄心水果当季新鲜脆甜迷你整箱顺丰 5斤礼盒装（2-3个）</td>\n      <td>79.00</td>\n      <td>//img10.360buyimg.com/n7/jfs/t1/80796/8/24394/...</td>\n      <td>儒川生鲜专营店</td>\n    </tr>\n    <tr>\n      <th>177</th>\n      <td>10052049704058</td>\n      <td></td>\n      <td>美都无籽麒麟瓜 当季大西瓜2个装 单个6-7斤</td>\n      <td>118.00</td>\n      <td>//img13.360buyimg.com/n7/jfs/t1/196360/37/2523...</td>\n      <td>柏馋水果旗舰店</td>\n    </tr>\n    <tr>\n      <th>178</th>\n      <td>10071821005169</td>\n      <td>盛夏之王，麒麟瓜肉紧致，口感脆甜，汁水丰富</td>\n      <td>鲜福林云南麒麟西瓜 冰淇淋红壤甜西瓜新鲜应季水果现摘 7-8斤装</td>\n      <td>39.90</td>\n      <td>//img14.360buyimg.com/n7/jfs/t1/182224/25/3409...</td>\n      <td>鲜福林官方旗舰店</td>\n    </tr>\n    <tr>\n      <th>179</th>\n      <td>10054706654013</td>\n      <td>优惠促销</td>\n      <td>吕大鲜庞各庄西瓜牛奶冰糖吊瓜正宗北京大兴迷你薄皮小西瓜礼盒装L600 3-4个普通装（12-...</td>\n      <td>93.90</td>\n      <td>//img13.360buyimg.com/n7/jfs/t1/136815/6/31173...</td>\n      <td>吕大鲜生鲜旗舰店</td>\n    </tr>\n  </tbody>\n</table>\n<p>149 rows × 6 columns</p>\n</div>"
     },
     "execution_count": 4,
     "metadata": {},
     "output_type": "execute_result"
    }
   ],
   "source": [
    "using_item = item_info.drop_duplicates(['SKU'])\n",
    "using_item.to_excel('./data/TOP销量西瓜SKU.xlsx')\n",
    "using_item"
   ],
   "metadata": {
    "collapsed": false,
    "pycharm": {
     "name": "#%%\n"
    }
   }
  },
  {
   "cell_type": "code",
   "execution_count": 75,
   "outputs": [
    {
     "data": {
      "text/plain": "<li bybt=\"0\" class=\"gl-item\" data-sku=\"10067190829023\" data-spu=\"10023554368043\" ware-type=\"1\">\n<div class=\"gl-i-wrap\">\n<div class=\"p-img\">\n<a delimiter=\"&amp;\" href=\"//item.jd.com/10067190829023.html?bbtf=1\" onclick=\"searchlog(1, '10067190829023','29','2','','flagsClk=419444');\" target=\"_blank\" title=\"\">\n<img data-img=\"1\" data-lazy-img=\"//img13.360buyimg.com/n7/jfs/t1/103743/15/32233/142341/63a4417fE366f8143/36ea5022dbbd6160.jpg\" height=\"220\" width=\"220\">\n</img></a>\n<div data-catid=\"14053\" data-lease=\"\" data-presale=\"0\" data-venid=\"12342639\"></div>\n</div>\n<div class=\"p-price\">\n<strong class=\"J_10067190829023\" data-done=\"1\" data-presale=\"0\">\n<em>￥</em><i data-price=\"10067190829023\">39.90</i>\n</strong>\n</div>\n<div class=\"p-name p-name-type-2\">\n<a delimiter=\"&amp;\" href=\"//item.jd.com/10067190829023.html?bbtf=1\" onclick=\"searchlog(1, '10067190829023','29','1','','flagsClk=419444');\" target=\"_blank\" title=\"\">\n<em>瀚部麒麟<font class=\"skcolor_ljg\">西瓜</font> 现摘8424<font class=\"skcolor_ljg\">西瓜</font>美都无籽<font class=\"skcolor_ljg\">西瓜</font> 新鲜现采水果 8424无籽1粒装 （单果5-6斤）</em>\n<i class=\"promo-words\" id=\"J_AD_10067190829023\"></i>\n</a>\n</div>\n<div class=\"p-commit\">\n<strong><a delimiter=\"&amp;\" href=\"//item.jd.com/10067190829023.html?bbtf=1#comment\" id=\"J_comment_10067190829023\" onclick=\"searchlog(1, '10067190829023','29','3','','flagsClk=419444');\" target=\"_blank\"></a></strong>\n</div>\n<div class=\"p-shop\" data-dongdong=\"\" data-reputation=\"100\" data-score=\"5\" data-selfware=\"0\">\n<span class=\"J_im_icon\"><a class=\"curr-shop hd-shopname\" href=\"//mall.jd.com/index-12039801.html?from=pc\" onclick=\"searchlog(1,'12039801',0,58)\" target=\"_blank\" title=\"瀚部生鲜旗舰店\">瀚部生鲜旗舰店</a></span>\n</div>\n<div class=\"p-icons\" data-done=\"1\" id=\"J_pro_10067190829023\">\n<i class=\"goods-icons4 J-picon-tips J-picon-fix\" data-idx=\"1\" data-tips=\"京东物流仓配，商家提供售后服务\">京东物流</i>\n<i class=\"goods-icons4 J-picon-tips\" data-idx=\"1\" data-tips=\"品质服务，放心购物\" style=\"border-color:#4d88ff;color:#4d88ff;\">放心购</i>\n<i class=\"goods-icons4 J-picon-tips\" data-tips=\"本商品可领用优惠券\">券50-3</i>\n<i class=\"goods-icons4 J-picon-tips\" data-tips=\"本商品参与满减促销\">满100-5</i>\n</div>\n<div class=\"p-operate\">\n<a class=\"p-o-btn contrast J_contrast contrast\" data-sku=\"10067190829023\" href=\"javascript:;\" onclick=\"searchlog(1, '10067190829023','29','6','','flagsClk=419444')\"><i></i>对比</a>\n<a class=\"p-o-btn focus J_focus\" data-sku=\"10067190829023\" href=\"javascript:;\" onclick=\"searchlog(1, '10067190829023','29','5','','flagsClk=419444')\"><i></i>关注</a>\n<a class=\"p-o-btn addcart\" data-limit=\"0\" data-stocknew=\"10067190829023\" href=\"//cart.jd.com/gate.action?pid=10067190829023&amp;pcount=1&amp;ptype=1\" onclick=\"searchlog(1, '10067190829023','29','4','','flagsClk=419444')\" target=\"_blank\"><i></i>加入购物车</a>\n</div>\n<div class=\"p-stock hide\" data-province=\"四川\" data-stocknew=\"10067190829023\"></div>\n</div>\n</li>"
     },
     "execution_count": 75,
     "metadata": {},
     "output_type": "execute_result"
    }
   ],
   "source": [
    "good_info"
   ],
   "metadata": {
    "collapsed": false,
    "pycharm": {
     "name": "#%%\n"
    }
   }
  },
  {
   "cell_type": "code",
   "execution_count": 17,
   "outputs": [
    {
     "data": {
      "text/plain": "            id                              guid  \\\n0  19061970705  5a7e86a40a6bc583e2b203d473864e9c   \n1  19067498519  c0f14a6d395b2e41c277508b5df85894   \n2  19061278080  b658fb8a07e5b553375afed80db6a9b0   \n3  19058628229  9a933ee47c158273b5a45eba462f1cc0   \n4  19081375115  4d079b5d658f4e270f1858ac12399b4a   \n5  19057399347  054c18d890162a0e5bf3f6f11234bfcb   \n6  19089139558  77ab3a9b132ab4a2d27e9cc55f7782da   \n7  19079228532  0dd167be668767648e76052668a68aac   \n8  19053628615  fc1f4039af86d81e52b4392dda6a9c6f   \n9  19062125925  28518b52d77e78eaf4dac02c6bb093ec   \n\n                                             content         creationTime  \\\n0      虽然熟了但没什么甜味，还有点涩不知是不是催熟的缘故还是其他原因。这是第二次买，第一次很好吃  2023-04-27 20:52:27   \n1  西瓜是坏的，说真的一般来说这些西瓜总是没办法确定是不是好的，外面一点也看不出，肚挤也挺大看着...  2023-04-29 16:06:19   \n2                                怎么说呢 便宜没好货吧 品相差 不新鲜  2023-04-27 16:54:42   \n3                              西瓜好小，就图片这么大，应该没有2.5kg  2023-04-26 18:06:41   \n4  西瓜保护的挺好的，物流送过来时完好无损，但不是很新鲜，也不怎么甜，一般般还可以，性价比就这样...  2023-05-04 14:53:27   \n5  西瓜有点生，已经退货了，籽基本都是白的，吃起来也硬硬的，没有甜味，跟夏天吃的瓜还是有很大区别...  2023-04-26 11:05:34   \n6  西瓜熟过头了，有坏的味道，不好吃，难切皮硬不好吃不好吃，不如楼下水果店买了，这次买的虽然便宜...  2023-05-07 09:15:48   \n7                                        脆脆的，不甜，价格便宜  2023-05-03 19:28:50   \n8     就上面这个外观不好，成熟度刚刚好。低下那个就是水瓜熟过头了相当于四十块一个瓜&hellip;  2023-04-24 23:52:59   \n9                  是挺甜，皮薄，但种子多得怀疑人生，几乎是往下一颗接着一颗累起来的。  2023-04-27 21:51:18   \n\n   isDelete  isTop                                       userImageUrl  topped  \\\n0     False  False  misc.360buyimg.com/user/myjd-2015/css/i/peison...       0   \n1     False  False  storage.360buyimg.com/i.imageUpload/6a645f3532...       0   \n2     False  False  storage.360buyimg.com/i.imageUpload/6a645f4c46...       0   \n3     False  False  misc.360buyimg.com/user/myjd-2015/css/i/peison...       0   \n4     False  False  misc.360buyimg.com/user/myjd-2015/css/i/peison...       0   \n5     False  False  misc.360buyimg.com/user/myjd-2015/css/i/peison...       0   \n6     False  False  misc.360buyimg.com/user/myjd-2015/css/i/peison...       0   \n7     False  False  misc.360buyimg.com/user/myjd-2015/css/i/peison...       0   \n8     False  False  misc.360buyimg.com/user/myjd-2015/css/i/peison...       0   \n9     False  False  misc.360buyimg.com/user/myjd-2015/css/i/peison...       0   \n\n   replyCount  score  ...  productSales  \\\n0           0      3  ...            []   \n1           0      3  ...            []   \n2           0      3  ...            []   \n3           0      3  ...            []   \n4           0      3  ...            []   \n5           0      3  ...            []   \n6           0      3  ...            []   \n7           1      3  ...            []   \n8           0      3  ...            []   \n9           0      3  ...            []   \n\n                                      referenceImage  \\\n0  jfs/t1/220542/36/7792/179565/61b98be4E3df720e5...   \n1  jfs/t1/220542/36/7792/179565/61b98be4E3df720e5...   \n2  jfs/t1/220542/36/7792/179565/61b98be4E3df720e5...   \n3  jfs/t1/220542/36/7792/179565/61b98be4E3df720e5...   \n4  jfs/t1/220542/36/7792/179565/61b98be4E3df720e5...   \n5  jfs/t1/220542/36/7792/179565/61b98be4E3df720e5...   \n6  jfs/t1/220542/36/7792/179565/61b98be4E3df720e5...   \n7  jfs/t1/220542/36/7792/179565/61b98be4E3df720e5...   \n8  jfs/t1/220542/36/7792/179565/61b98be4E3df720e5...   \n9  jfs/t1/220542/36/7792/179565/61b98be4E3df720e5...   \n\n                   referenceName  firstCategory  secondCategory  \\\n0  京鲜生 国产麒麟西瓜 1粒装 单果2.5kg以上 生鲜水果          12218           12221   \n1  京鲜生 国产麒麟西瓜 1粒装 单果2.5kg以上 生鲜水果          12218           12221   \n2  京鲜生 国产麒麟西瓜 1粒装 单果2.5kg以上 生鲜水果          12218           12221   \n3  京鲜生 国产麒麟西瓜 1粒装 单果2.5kg以上 生鲜水果          12218           12221   \n4  京鲜生 国产麒麟西瓜 1粒装 单果2.5kg以上 生鲜水果          12218           12221   \n5  京鲜生 国产麒麟西瓜 1粒装 单果2.5kg以上 生鲜水果          12218           12221   \n6  京鲜生 国产麒麟西瓜 1粒装 单果2.5kg以上 生鲜水果          12218           12221   \n7  京鲜生 国产麒麟西瓜 1粒装 单果2.5kg以上 生鲜水果          12218           12221   \n8  京鲜生 国产麒麟西瓜 1粒装 单果2.5kg以上 生鲜水果          12218           12221   \n9  京鲜生 国产麒麟西瓜 1粒装 单果2.5kg以上 生鲜水果          12218           12221   \n\n   thirdCategory  aesPin days afterDays  \\\n0          14053    None    0         0   \n1          14053    None   16         0   \n2          14053    None    6         0   \n3          14053    None    5         0   \n4          14053    None   16         0   \n5          14053    None    5         0   \n6          14053    None   19         0   \n7          14053    None   12         0   \n8          14053    None   21         0   \n9          14053    None    8         0   \n\n                                             replies  \n0                                                NaN  \n1                                                NaN  \n2                                                NaN  \n3                                                NaN  \n4                                                NaN  \n5                                                NaN  \n6                                                NaN  \n7  [{'id': 1207435311, 'commentId': 19079228532, ...  \n8                                                NaN  \n9                                                NaN  \n\n[10 rows x 45 columns]",
      "text/html": "<div>\n<style scoped>\n    .dataframe tbody tr th:only-of-type {\n        vertical-align: middle;\n    }\n\n    .dataframe tbody tr th {\n        vertical-align: top;\n    }\n\n    .dataframe thead th {\n        text-align: right;\n    }\n</style>\n<table border=\"1\" class=\"dataframe\">\n  <thead>\n    <tr style=\"text-align: right;\">\n      <th></th>\n      <th>id</th>\n      <th>guid</th>\n      <th>content</th>\n      <th>creationTime</th>\n      <th>isDelete</th>\n      <th>isTop</th>\n      <th>userImageUrl</th>\n      <th>topped</th>\n      <th>replyCount</th>\n      <th>score</th>\n      <th>...</th>\n      <th>productSales</th>\n      <th>referenceImage</th>\n      <th>referenceName</th>\n      <th>firstCategory</th>\n      <th>secondCategory</th>\n      <th>thirdCategory</th>\n      <th>aesPin</th>\n      <th>days</th>\n      <th>afterDays</th>\n      <th>replies</th>\n    </tr>\n  </thead>\n  <tbody>\n    <tr>\n      <th>0</th>\n      <td>19061970705</td>\n      <td>5a7e86a40a6bc583e2b203d473864e9c</td>\n      <td>虽然熟了但没什么甜味，还有点涩不知是不是催熟的缘故还是其他原因。这是第二次买，第一次很好吃</td>\n      <td>2023-04-27 20:52:27</td>\n      <td>False</td>\n      <td>False</td>\n      <td>misc.360buyimg.com/user/myjd-2015/css/i/peison...</td>\n      <td>0</td>\n      <td>0</td>\n      <td>3</td>\n      <td>...</td>\n      <td>[]</td>\n      <td>jfs/t1/220542/36/7792/179565/61b98be4E3df720e5...</td>\n      <td>京鲜生 国产麒麟西瓜 1粒装 单果2.5kg以上 生鲜水果</td>\n      <td>12218</td>\n      <td>12221</td>\n      <td>14053</td>\n      <td>None</td>\n      <td>0</td>\n      <td>0</td>\n      <td>NaN</td>\n    </tr>\n    <tr>\n      <th>1</th>\n      <td>19067498519</td>\n      <td>c0f14a6d395b2e41c277508b5df85894</td>\n      <td>西瓜是坏的，说真的一般来说这些西瓜总是没办法确定是不是好的，外面一点也看不出，肚挤也挺大看着...</td>\n      <td>2023-04-29 16:06:19</td>\n      <td>False</td>\n      <td>False</td>\n      <td>storage.360buyimg.com/i.imageUpload/6a645f3532...</td>\n      <td>0</td>\n      <td>0</td>\n      <td>3</td>\n      <td>...</td>\n      <td>[]</td>\n      <td>jfs/t1/220542/36/7792/179565/61b98be4E3df720e5...</td>\n      <td>京鲜生 国产麒麟西瓜 1粒装 单果2.5kg以上 生鲜水果</td>\n      <td>12218</td>\n      <td>12221</td>\n      <td>14053</td>\n      <td>None</td>\n      <td>16</td>\n      <td>0</td>\n      <td>NaN</td>\n    </tr>\n    <tr>\n      <th>2</th>\n      <td>19061278080</td>\n      <td>b658fb8a07e5b553375afed80db6a9b0</td>\n      <td>怎么说呢 便宜没好货吧 品相差 不新鲜</td>\n      <td>2023-04-27 16:54:42</td>\n      <td>False</td>\n      <td>False</td>\n      <td>storage.360buyimg.com/i.imageUpload/6a645f4c46...</td>\n      <td>0</td>\n      <td>0</td>\n      <td>3</td>\n      <td>...</td>\n      <td>[]</td>\n      <td>jfs/t1/220542/36/7792/179565/61b98be4E3df720e5...</td>\n      <td>京鲜生 国产麒麟西瓜 1粒装 单果2.5kg以上 生鲜水果</td>\n      <td>12218</td>\n      <td>12221</td>\n      <td>14053</td>\n      <td>None</td>\n      <td>6</td>\n      <td>0</td>\n      <td>NaN</td>\n    </tr>\n    <tr>\n      <th>3</th>\n      <td>19058628229</td>\n      <td>9a933ee47c158273b5a45eba462f1cc0</td>\n      <td>西瓜好小，就图片这么大，应该没有2.5kg</td>\n      <td>2023-04-26 18:06:41</td>\n      <td>False</td>\n      <td>False</td>\n      <td>misc.360buyimg.com/user/myjd-2015/css/i/peison...</td>\n      <td>0</td>\n      <td>0</td>\n      <td>3</td>\n      <td>...</td>\n      <td>[]</td>\n      <td>jfs/t1/220542/36/7792/179565/61b98be4E3df720e5...</td>\n      <td>京鲜生 国产麒麟西瓜 1粒装 单果2.5kg以上 生鲜水果</td>\n      <td>12218</td>\n      <td>12221</td>\n      <td>14053</td>\n      <td>None</td>\n      <td>5</td>\n      <td>0</td>\n      <td>NaN</td>\n    </tr>\n    <tr>\n      <th>4</th>\n      <td>19081375115</td>\n      <td>4d079b5d658f4e270f1858ac12399b4a</td>\n      <td>西瓜保护的挺好的，物流送过来时完好无损，但不是很新鲜，也不怎么甜，一般般还可以，性价比就这样...</td>\n      <td>2023-05-04 14:53:27</td>\n      <td>False</td>\n      <td>False</td>\n      <td>misc.360buyimg.com/user/myjd-2015/css/i/peison...</td>\n      <td>0</td>\n      <td>0</td>\n      <td>3</td>\n      <td>...</td>\n      <td>[]</td>\n      <td>jfs/t1/220542/36/7792/179565/61b98be4E3df720e5...</td>\n      <td>京鲜生 国产麒麟西瓜 1粒装 单果2.5kg以上 生鲜水果</td>\n      <td>12218</td>\n      <td>12221</td>\n      <td>14053</td>\n      <td>None</td>\n      <td>16</td>\n      <td>0</td>\n      <td>NaN</td>\n    </tr>\n    <tr>\n      <th>5</th>\n      <td>19057399347</td>\n      <td>054c18d890162a0e5bf3f6f11234bfcb</td>\n      <td>西瓜有点生，已经退货了，籽基本都是白的，吃起来也硬硬的，没有甜味，跟夏天吃的瓜还是有很大区别...</td>\n      <td>2023-04-26 11:05:34</td>\n      <td>False</td>\n      <td>False</td>\n      <td>misc.360buyimg.com/user/myjd-2015/css/i/peison...</td>\n      <td>0</td>\n      <td>0</td>\n      <td>3</td>\n      <td>...</td>\n      <td>[]</td>\n      <td>jfs/t1/220542/36/7792/179565/61b98be4E3df720e5...</td>\n      <td>京鲜生 国产麒麟西瓜 1粒装 单果2.5kg以上 生鲜水果</td>\n      <td>12218</td>\n      <td>12221</td>\n      <td>14053</td>\n      <td>None</td>\n      <td>5</td>\n      <td>0</td>\n      <td>NaN</td>\n    </tr>\n    <tr>\n      <th>6</th>\n      <td>19089139558</td>\n      <td>77ab3a9b132ab4a2d27e9cc55f7782da</td>\n      <td>西瓜熟过头了，有坏的味道，不好吃，难切皮硬不好吃不好吃，不如楼下水果店买了，这次买的虽然便宜...</td>\n      <td>2023-05-07 09:15:48</td>\n      <td>False</td>\n      <td>False</td>\n      <td>misc.360buyimg.com/user/myjd-2015/css/i/peison...</td>\n      <td>0</td>\n      <td>0</td>\n      <td>3</td>\n      <td>...</td>\n      <td>[]</td>\n      <td>jfs/t1/220542/36/7792/179565/61b98be4E3df720e5...</td>\n      <td>京鲜生 国产麒麟西瓜 1粒装 单果2.5kg以上 生鲜水果</td>\n      <td>12218</td>\n      <td>12221</td>\n      <td>14053</td>\n      <td>None</td>\n      <td>19</td>\n      <td>0</td>\n      <td>NaN</td>\n    </tr>\n    <tr>\n      <th>7</th>\n      <td>19079228532</td>\n      <td>0dd167be668767648e76052668a68aac</td>\n      <td>脆脆的，不甜，价格便宜</td>\n      <td>2023-05-03 19:28:50</td>\n      <td>False</td>\n      <td>False</td>\n      <td>misc.360buyimg.com/user/myjd-2015/css/i/peison...</td>\n      <td>0</td>\n      <td>1</td>\n      <td>3</td>\n      <td>...</td>\n      <td>[]</td>\n      <td>jfs/t1/220542/36/7792/179565/61b98be4E3df720e5...</td>\n      <td>京鲜生 国产麒麟西瓜 1粒装 单果2.5kg以上 生鲜水果</td>\n      <td>12218</td>\n      <td>12221</td>\n      <td>14053</td>\n      <td>None</td>\n      <td>12</td>\n      <td>0</td>\n      <td>[{'id': 1207435311, 'commentId': 19079228532, ...</td>\n    </tr>\n    <tr>\n      <th>8</th>\n      <td>19053628615</td>\n      <td>fc1f4039af86d81e52b4392dda6a9c6f</td>\n      <td>就上面这个外观不好，成熟度刚刚好。低下那个就是水瓜熟过头了相当于四十块一个瓜&amp;hellip;</td>\n      <td>2023-04-24 23:52:59</td>\n      <td>False</td>\n      <td>False</td>\n      <td>misc.360buyimg.com/user/myjd-2015/css/i/peison...</td>\n      <td>0</td>\n      <td>0</td>\n      <td>3</td>\n      <td>...</td>\n      <td>[]</td>\n      <td>jfs/t1/220542/36/7792/179565/61b98be4E3df720e5...</td>\n      <td>京鲜生 国产麒麟西瓜 1粒装 单果2.5kg以上 生鲜水果</td>\n      <td>12218</td>\n      <td>12221</td>\n      <td>14053</td>\n      <td>None</td>\n      <td>21</td>\n      <td>0</td>\n      <td>NaN</td>\n    </tr>\n    <tr>\n      <th>9</th>\n      <td>19062125925</td>\n      <td>28518b52d77e78eaf4dac02c6bb093ec</td>\n      <td>是挺甜，皮薄，但种子多得怀疑人生，几乎是往下一颗接着一颗累起来的。</td>\n      <td>2023-04-27 21:51:18</td>\n      <td>False</td>\n      <td>False</td>\n      <td>misc.360buyimg.com/user/myjd-2015/css/i/peison...</td>\n      <td>0</td>\n      <td>0</td>\n      <td>3</td>\n      <td>...</td>\n      <td>[]</td>\n      <td>jfs/t1/220542/36/7792/179565/61b98be4E3df720e5...</td>\n      <td>京鲜生 国产麒麟西瓜 1粒装 单果2.5kg以上 生鲜水果</td>\n      <td>12218</td>\n      <td>12221</td>\n      <td>14053</td>\n      <td>None</td>\n      <td>8</td>\n      <td>0</td>\n      <td>NaN</td>\n    </tr>\n  </tbody>\n</table>\n<p>10 rows × 45 columns</p>\n</div>"
     },
     "execution_count": 17,
     "metadata": {},
     "output_type": "execute_result"
    }
   ],
   "source": [
    "# 单个单页评论\n",
    "score = 2\n",
    "sku = using_item.iloc[0,0]\n",
    "page = 0 # 0对应5星、1对应1星、2、3、4对应2、3、4星\n",
    "url_comm = f'https://sclub.jd.com/comment/productPageComments.action?productId=' + sku + f'&score={score}&sortType=5&'+'page='+str(page)+'&pageSize=10&isShadowSku=0&rid=0&fold=1'\n",
    "res = requests.get(url_comm)\n",
    "html_comm=res.text\n",
    "json_html_comm=json.loads(html_comm)\n",
    "comment_list=json_html_comm['comments']\n",
    "pd.DataFrame(comment_list)"
   ],
   "metadata": {
    "collapsed": false,
    "pycharm": {
     "name": "#%%\n"
    }
   }
  },
  {
   "cell_type": "code",
   "execution_count": null,
   "outputs": [],
   "source": [
    "## 根据SKU来爬取评论数据\n",
    "sku = using_item.iloc[0,0]\n",
    "page = 0\n",
    "score = 1 # 0对应5星、1对应1星、2、3、4对应2、3、4星\n",
    "all_comments = []\n",
    "for page in range(120):\n",
    "    url_comm = f'https://sclub.jd.com/comment/productPageComments.action?productId=' + sku + f'&score={score}&sortType=5&'+'page='+str(page)+'&pageSize=10&isShadowSku=0&rid=0&fold=1'\n",
    "    html_comm=requests.get(url_comm).text\n",
    "    json_html_comm=json.loads(html_comm)\n",
    "    comment_list=json_html_comm['comments']\n",
    "    all_comments += comment_list\n",
    "    time.sleep(2)"
   ],
   "metadata": {
    "collapsed": false,
    "pycharm": {
     "name": "#%%\n"
    }
   }
  },
  {
   "cell_type": "code",
   "execution_count": null,
   "outputs": [],
   "source": [
    "comment_df = pd.DataFrame(all_comments)\n",
    "comment_df['SKU'] = sku\n",
    "comment_df"
   ],
   "metadata": {
    "collapsed": false,
    "pycharm": {
     "name": "#%%\n"
    }
   }
  },
  {
   "cell_type": "code",
   "execution_count": 66,
   "outputs": [
    {
     "data": {
      "text/plain": "             id                              guid  \\\n0   19104421976  1288817991d627e4c9d720c918f73ed5   \n1   19104254752  a817a0a0e23e752f84a4e3c5b3e3f6b7   \n2   19104216395  ea198904aeb28df8d4f8734ec5a175d5   \n3   19103939669  349fb41295f7fd2ccad73ab43a2d4dba   \n4   19103729024  aff6f1747def444459126523b4e56091   \n..          ...                               ...   \n95  19089948206  07606e323c2dd74241f9c1444036e6a7   \n96  19089894083  9336498235b86d93b8f75ac6f398de01   \n97  19089817627  74b99c26170229238a3872524a943e28   \n98  19089809737  1bcf451582650befaa2bd2d5fbfa52f8   \n99  19089786538  36e6f617d6673414d3f6b09eb7935cd7   \n\n                                              content         creationTime  \\\n0                                非常好，水分很足，很新鲜，准备买第二次。  2023-05-12 12:10:51   \n1                                        发货速度快，包装好，甜的  2023-05-12 11:16:58   \n2   品质一级棒，包装也不错，物流很快，而且价格合理，很实惠，很喜欢好！非常好！质量好，和实体店一...  2023-05-12 11:08:43   \n3   包装很完美，颜值很高，感觉物超所值！客服也非常耐心细致，发货快物流给力，以后还会再来??收到...  2023-05-12 09:41:47   \n4                                      皮很薄，水分足，甜度还可以。  2023-05-12 08:04:14   \n..                                                ...                  ...   \n95                        还可以吧，瓜藤处发黑的，估计放的时间蛮长了。甜度可以。  2023-05-07 13:43:34   \n96  很甜很好吃，物流很快。吃起来非常好吃，个头跟一只手那么大，还是西瓜的味道很甜很好吃，下次还会...  2023-05-07 13:22:46   \n97  包装挺好的，没有磕伤，物流也很快！昨天打开吃了一下！感觉中规中矩，感觉还不错，甜也蛮甜，但还...  2023-05-07 12:56:54   \n98                                       很不错，两次购买了，好吃  2023-05-07 12:55:14   \n99                吃了再来评价 籽很多 口感不是纯甜 有股不熟的怪味 \\n站神西瓜 无敌  2023-05-07 12:45:27   \n\n    isDelete  isTop                                       userImageUrl  \\\n0      False  False  misc.360buyimg.com/user/myjd-2015/css/i/peison...   \n1      False  False  storage.360buyimg.com/i.imageUpload/3133353031...   \n2      False  False  storage.360buyimg.com/i.imageUpload/6f72616e67...   \n3      False  False  storage.360buyimg.com/i.imageUpload/79686a3033...   \n4      False  False  misc.360buyimg.com/user/myjd-2015/css/i/peison...   \n..       ...    ...                                                ...   \n95     False  False  storage.360buyimg.com/i.imageUpload/6a645f6159...   \n96     False  False  storage.360buyimg.com/i.imageUpload/6a645f6c7a...   \n97     False  False  misc.360buyimg.com/user/myjd-2015/css/i/peison...   \n98     False  False  misc.360buyimg.com/user/myjd-2015/css/i/peison...   \n99     False  False  storage.360buyimg.com/i.imageUpload/6a645f3761...   \n\n    topped  replyCount  score  ...  replies  vcontent  videos  \\\n0        0           0      5  ...      NaN       NaN     NaN   \n1        0           0      5  ...      NaN       NaN     NaN   \n2        0           0      5  ...      NaN       NaN     NaN   \n3        0           0      5  ...      NaN       NaN     NaN   \n4        0           0      5  ...      NaN       NaN     NaN   \n..     ...         ...    ...  ...      ...       ...     ...   \n95       0           0      4  ...      NaN       NaN     NaN   \n96       0           0      5  ...      NaN       NaN     NaN   \n97       0           0      4  ...      NaN       NaN     NaN   \n98       0           0      5  ...      NaN       NaN     NaN   \n99       0           0      5  ...      NaN       NaN     NaN   \n\n    afterUserComment      SKU                                 Title  \\\n0                NaN  4014101  绿衣裹红瓤，果味清新甘甜，果肉鲜脆多汁，喷涌汁液清甜入喉，甜蜜直达心田！   \n1                NaN  4014101  绿衣裹红瓤，果味清新甘甜，果肉鲜脆多汁，喷涌汁液清甜入喉，甜蜜直达心田！   \n2                NaN  4014101  绿衣裹红瓤，果味清新甘甜，果肉鲜脆多汁，喷涌汁液清甜入喉，甜蜜直达心田！   \n3                NaN  4014101  绿衣裹红瓤，果味清新甘甜，果肉鲜脆多汁，喷涌汁液清甜入喉，甜蜜直达心田！   \n4                NaN  4014101  绿衣裹红瓤，果味清新甘甜，果肉鲜脆多汁，喷涌汁液清甜入喉，甜蜜直达心田！   \n..               ...      ...                                   ...   \n95               NaN  4014101  绿衣裹红瓤，果味清新甘甜，果肉鲜脆多汁，喷涌汁液清甜入喉，甜蜜直达心田！   \n96               NaN  4014101  绿衣裹红瓤，果味清新甘甜，果肉鲜脆多汁，喷涌汁液清甜入喉，甜蜜直达心田！   \n97               NaN  4014101  绿衣裹红瓤，果味清新甘甜，果肉鲜脆多汁，喷涌汁液清甜入喉，甜蜜直达心田！   \n98               NaN  4014101  绿衣裹红瓤，果味清新甘甜，果肉鲜脆多汁，喷涌汁液清甜入喉，甜蜜直达心田！   \n99               NaN  4014101  绿衣裹红瓤，果味清新甘甜，果肉鲜脆多汁，喷涌汁液清甜入喉，甜蜜直达心田！   \n\n                        Description  Price  \\\n0   \\n京鲜生 国产麒麟西瓜 1粒装 单果2.5kg以上 生鲜水果  39.90   \n1   \\n京鲜生 国产麒麟西瓜 1粒装 单果2.5kg以上 生鲜水果  39.90   \n2   \\n京鲜生 国产麒麟西瓜 1粒装 单果2.5kg以上 生鲜水果  39.90   \n3   \\n京鲜生 国产麒麟西瓜 1粒装 单果2.5kg以上 生鲜水果  39.90   \n4   \\n京鲜生 国产麒麟西瓜 1粒装 单果2.5kg以上 生鲜水果  39.90   \n..                              ...    ...   \n95  \\n京鲜生 国产麒麟西瓜 1粒装 单果2.5kg以上 生鲜水果  39.90   \n96  \\n京鲜生 国产麒麟西瓜 1粒装 单果2.5kg以上 生鲜水果  39.90   \n97  \\n京鲜生 国产麒麟西瓜 1粒装 单果2.5kg以上 生鲜水果  39.90   \n98  \\n京鲜生 国产麒麟西瓜 1粒装 单果2.5kg以上 生鲜水果  39.90   \n99  \\n京鲜生 国产麒麟西瓜 1粒装 单果2.5kg以上 生鲜水果  39.90   \n\n                                                Image      Shop  \n0   //img11.360buyimg.com/n7/jfs/t1/220542/36/7792...  水果京东自营专区  \n1   //img11.360buyimg.com/n7/jfs/t1/220542/36/7792...  水果京东自营专区  \n2   //img11.360buyimg.com/n7/jfs/t1/220542/36/7792...  水果京东自营专区  \n3   //img11.360buyimg.com/n7/jfs/t1/220542/36/7792...  水果京东自营专区  \n4   //img11.360buyimg.com/n7/jfs/t1/220542/36/7792...  水果京东自营专区  \n..                                                ...       ...  \n95  //img11.360buyimg.com/n7/jfs/t1/220542/36/7792...  水果京东自营专区  \n96  //img11.360buyimg.com/n7/jfs/t1/220542/36/7792...  水果京东自营专区  \n97  //img11.360buyimg.com/n7/jfs/t1/220542/36/7792...  水果京东自营专区  \n98  //img11.360buyimg.com/n7/jfs/t1/220542/36/7792...  水果京东自营专区  \n99  //img11.360buyimg.com/n7/jfs/t1/220542/36/7792...  水果京东自营专区  \n\n[100 rows x 53 columns]",
      "text/html": "<div>\n<style scoped>\n    .dataframe tbody tr th:only-of-type {\n        vertical-align: middle;\n    }\n\n    .dataframe tbody tr th {\n        vertical-align: top;\n    }\n\n    .dataframe thead th {\n        text-align: right;\n    }\n</style>\n<table border=\"1\" class=\"dataframe\">\n  <thead>\n    <tr style=\"text-align: right;\">\n      <th></th>\n      <th>id</th>\n      <th>guid</th>\n      <th>content</th>\n      <th>creationTime</th>\n      <th>isDelete</th>\n      <th>isTop</th>\n      <th>userImageUrl</th>\n      <th>topped</th>\n      <th>replyCount</th>\n      <th>score</th>\n      <th>...</th>\n      <th>replies</th>\n      <th>vcontent</th>\n      <th>videos</th>\n      <th>afterUserComment</th>\n      <th>SKU</th>\n      <th>Title</th>\n      <th>Description</th>\n      <th>Price</th>\n      <th>Image</th>\n      <th>Shop</th>\n    </tr>\n  </thead>\n  <tbody>\n    <tr>\n      <th>0</th>\n      <td>19104421976</td>\n      <td>1288817991d627e4c9d720c918f73ed5</td>\n      <td>非常好，水分很足，很新鲜，准备买第二次。</td>\n      <td>2023-05-12 12:10:51</td>\n      <td>False</td>\n      <td>False</td>\n      <td>misc.360buyimg.com/user/myjd-2015/css/i/peison...</td>\n      <td>0</td>\n      <td>0</td>\n      <td>5</td>\n      <td>...</td>\n      <td>NaN</td>\n      <td>NaN</td>\n      <td>NaN</td>\n      <td>NaN</td>\n      <td>4014101</td>\n      <td>绿衣裹红瓤，果味清新甘甜，果肉鲜脆多汁，喷涌汁液清甜入喉，甜蜜直达心田！</td>\n      <td>\\n京鲜生 国产麒麟西瓜 1粒装 单果2.5kg以上 生鲜水果</td>\n      <td>39.90</td>\n      <td>//img11.360buyimg.com/n7/jfs/t1/220542/36/7792...</td>\n      <td>水果京东自营专区</td>\n    </tr>\n    <tr>\n      <th>1</th>\n      <td>19104254752</td>\n      <td>a817a0a0e23e752f84a4e3c5b3e3f6b7</td>\n      <td>发货速度快，包装好，甜的</td>\n      <td>2023-05-12 11:16:58</td>\n      <td>False</td>\n      <td>False</td>\n      <td>storage.360buyimg.com/i.imageUpload/3133353031...</td>\n      <td>0</td>\n      <td>0</td>\n      <td>5</td>\n      <td>...</td>\n      <td>NaN</td>\n      <td>NaN</td>\n      <td>NaN</td>\n      <td>NaN</td>\n      <td>4014101</td>\n      <td>绿衣裹红瓤，果味清新甘甜，果肉鲜脆多汁，喷涌汁液清甜入喉，甜蜜直达心田！</td>\n      <td>\\n京鲜生 国产麒麟西瓜 1粒装 单果2.5kg以上 生鲜水果</td>\n      <td>39.90</td>\n      <td>//img11.360buyimg.com/n7/jfs/t1/220542/36/7792...</td>\n      <td>水果京东自营专区</td>\n    </tr>\n    <tr>\n      <th>2</th>\n      <td>19104216395</td>\n      <td>ea198904aeb28df8d4f8734ec5a175d5</td>\n      <td>品质一级棒，包装也不错，物流很快，而且价格合理，很实惠，很喜欢好！非常好！质量好，和实体店一...</td>\n      <td>2023-05-12 11:08:43</td>\n      <td>False</td>\n      <td>False</td>\n      <td>storage.360buyimg.com/i.imageUpload/6f72616e67...</td>\n      <td>0</td>\n      <td>0</td>\n      <td>5</td>\n      <td>...</td>\n      <td>NaN</td>\n      <td>NaN</td>\n      <td>NaN</td>\n      <td>NaN</td>\n      <td>4014101</td>\n      <td>绿衣裹红瓤，果味清新甘甜，果肉鲜脆多汁，喷涌汁液清甜入喉，甜蜜直达心田！</td>\n      <td>\\n京鲜生 国产麒麟西瓜 1粒装 单果2.5kg以上 生鲜水果</td>\n      <td>39.90</td>\n      <td>//img11.360buyimg.com/n7/jfs/t1/220542/36/7792...</td>\n      <td>水果京东自营专区</td>\n    </tr>\n    <tr>\n      <th>3</th>\n      <td>19103939669</td>\n      <td>349fb41295f7fd2ccad73ab43a2d4dba</td>\n      <td>包装很完美，颜值很高，感觉物超所值！客服也非常耐心细致，发货快物流给力，以后还会再来??收到...</td>\n      <td>2023-05-12 09:41:47</td>\n      <td>False</td>\n      <td>False</td>\n      <td>storage.360buyimg.com/i.imageUpload/79686a3033...</td>\n      <td>0</td>\n      <td>0</td>\n      <td>5</td>\n      <td>...</td>\n      <td>NaN</td>\n      <td>NaN</td>\n      <td>NaN</td>\n      <td>NaN</td>\n      <td>4014101</td>\n      <td>绿衣裹红瓤，果味清新甘甜，果肉鲜脆多汁，喷涌汁液清甜入喉，甜蜜直达心田！</td>\n      <td>\\n京鲜生 国产麒麟西瓜 1粒装 单果2.5kg以上 生鲜水果</td>\n      <td>39.90</td>\n      <td>//img11.360buyimg.com/n7/jfs/t1/220542/36/7792...</td>\n      <td>水果京东自营专区</td>\n    </tr>\n    <tr>\n      <th>4</th>\n      <td>19103729024</td>\n      <td>aff6f1747def444459126523b4e56091</td>\n      <td>皮很薄，水分足，甜度还可以。</td>\n      <td>2023-05-12 08:04:14</td>\n      <td>False</td>\n      <td>False</td>\n      <td>misc.360buyimg.com/user/myjd-2015/css/i/peison...</td>\n      <td>0</td>\n      <td>0</td>\n      <td>5</td>\n      <td>...</td>\n      <td>NaN</td>\n      <td>NaN</td>\n      <td>NaN</td>\n      <td>NaN</td>\n      <td>4014101</td>\n      <td>绿衣裹红瓤，果味清新甘甜，果肉鲜脆多汁，喷涌汁液清甜入喉，甜蜜直达心田！</td>\n      <td>\\n京鲜生 国产麒麟西瓜 1粒装 单果2.5kg以上 生鲜水果</td>\n      <td>39.90</td>\n      <td>//img11.360buyimg.com/n7/jfs/t1/220542/36/7792...</td>\n      <td>水果京东自营专区</td>\n    </tr>\n    <tr>\n      <th>...</th>\n      <td>...</td>\n      <td>...</td>\n      <td>...</td>\n      <td>...</td>\n      <td>...</td>\n      <td>...</td>\n      <td>...</td>\n      <td>...</td>\n      <td>...</td>\n      <td>...</td>\n      <td>...</td>\n      <td>...</td>\n      <td>...</td>\n      <td>...</td>\n      <td>...</td>\n      <td>...</td>\n      <td>...</td>\n      <td>...</td>\n      <td>...</td>\n      <td>...</td>\n      <td>...</td>\n    </tr>\n    <tr>\n      <th>95</th>\n      <td>19089948206</td>\n      <td>07606e323c2dd74241f9c1444036e6a7</td>\n      <td>还可以吧，瓜藤处发黑的，估计放的时间蛮长了。甜度可以。</td>\n      <td>2023-05-07 13:43:34</td>\n      <td>False</td>\n      <td>False</td>\n      <td>storage.360buyimg.com/i.imageUpload/6a645f6159...</td>\n      <td>0</td>\n      <td>0</td>\n      <td>4</td>\n      <td>...</td>\n      <td>NaN</td>\n      <td>NaN</td>\n      <td>NaN</td>\n      <td>NaN</td>\n      <td>4014101</td>\n      <td>绿衣裹红瓤，果味清新甘甜，果肉鲜脆多汁，喷涌汁液清甜入喉，甜蜜直达心田！</td>\n      <td>\\n京鲜生 国产麒麟西瓜 1粒装 单果2.5kg以上 生鲜水果</td>\n      <td>39.90</td>\n      <td>//img11.360buyimg.com/n7/jfs/t1/220542/36/7792...</td>\n      <td>水果京东自营专区</td>\n    </tr>\n    <tr>\n      <th>96</th>\n      <td>19089894083</td>\n      <td>9336498235b86d93b8f75ac6f398de01</td>\n      <td>很甜很好吃，物流很快。吃起来非常好吃，个头跟一只手那么大，还是西瓜的味道很甜很好吃，下次还会...</td>\n      <td>2023-05-07 13:22:46</td>\n      <td>False</td>\n      <td>False</td>\n      <td>storage.360buyimg.com/i.imageUpload/6a645f6c7a...</td>\n      <td>0</td>\n      <td>0</td>\n      <td>5</td>\n      <td>...</td>\n      <td>NaN</td>\n      <td>NaN</td>\n      <td>NaN</td>\n      <td>NaN</td>\n      <td>4014101</td>\n      <td>绿衣裹红瓤，果味清新甘甜，果肉鲜脆多汁，喷涌汁液清甜入喉，甜蜜直达心田！</td>\n      <td>\\n京鲜生 国产麒麟西瓜 1粒装 单果2.5kg以上 生鲜水果</td>\n      <td>39.90</td>\n      <td>//img11.360buyimg.com/n7/jfs/t1/220542/36/7792...</td>\n      <td>水果京东自营专区</td>\n    </tr>\n    <tr>\n      <th>97</th>\n      <td>19089817627</td>\n      <td>74b99c26170229238a3872524a943e28</td>\n      <td>包装挺好的，没有磕伤，物流也很快！昨天打开吃了一下！感觉中规中矩，感觉还不错，甜也蛮甜，但还...</td>\n      <td>2023-05-07 12:56:54</td>\n      <td>False</td>\n      <td>False</td>\n      <td>misc.360buyimg.com/user/myjd-2015/css/i/peison...</td>\n      <td>0</td>\n      <td>0</td>\n      <td>4</td>\n      <td>...</td>\n      <td>NaN</td>\n      <td>NaN</td>\n      <td>NaN</td>\n      <td>NaN</td>\n      <td>4014101</td>\n      <td>绿衣裹红瓤，果味清新甘甜，果肉鲜脆多汁，喷涌汁液清甜入喉，甜蜜直达心田！</td>\n      <td>\\n京鲜生 国产麒麟西瓜 1粒装 单果2.5kg以上 生鲜水果</td>\n      <td>39.90</td>\n      <td>//img11.360buyimg.com/n7/jfs/t1/220542/36/7792...</td>\n      <td>水果京东自营专区</td>\n    </tr>\n    <tr>\n      <th>98</th>\n      <td>19089809737</td>\n      <td>1bcf451582650befaa2bd2d5fbfa52f8</td>\n      <td>很不错，两次购买了，好吃</td>\n      <td>2023-05-07 12:55:14</td>\n      <td>False</td>\n      <td>False</td>\n      <td>misc.360buyimg.com/user/myjd-2015/css/i/peison...</td>\n      <td>0</td>\n      <td>0</td>\n      <td>5</td>\n      <td>...</td>\n      <td>NaN</td>\n      <td>NaN</td>\n      <td>NaN</td>\n      <td>NaN</td>\n      <td>4014101</td>\n      <td>绿衣裹红瓤，果味清新甘甜，果肉鲜脆多汁，喷涌汁液清甜入喉，甜蜜直达心田！</td>\n      <td>\\n京鲜生 国产麒麟西瓜 1粒装 单果2.5kg以上 生鲜水果</td>\n      <td>39.90</td>\n      <td>//img11.360buyimg.com/n7/jfs/t1/220542/36/7792...</td>\n      <td>水果京东自营专区</td>\n    </tr>\n    <tr>\n      <th>99</th>\n      <td>19089786538</td>\n      <td>36e6f617d6673414d3f6b09eb7935cd7</td>\n      <td>吃了再来评价 籽很多 口感不是纯甜 有股不熟的怪味 \\n站神西瓜 无敌</td>\n      <td>2023-05-07 12:45:27</td>\n      <td>False</td>\n      <td>False</td>\n      <td>storage.360buyimg.com/i.imageUpload/6a645f3761...</td>\n      <td>0</td>\n      <td>0</td>\n      <td>5</td>\n      <td>...</td>\n      <td>NaN</td>\n      <td>NaN</td>\n      <td>NaN</td>\n      <td>NaN</td>\n      <td>4014101</td>\n      <td>绿衣裹红瓤，果味清新甘甜，果肉鲜脆多汁，喷涌汁液清甜入喉，甜蜜直达心田！</td>\n      <td>\\n京鲜生 国产麒麟西瓜 1粒装 单果2.5kg以上 生鲜水果</td>\n      <td>39.90</td>\n      <td>//img11.360buyimg.com/n7/jfs/t1/220542/36/7792...</td>\n      <td>水果京东自营专区</td>\n    </tr>\n  </tbody>\n</table>\n<p>100 rows × 53 columns</p>\n</div>"
     },
     "execution_count": 66,
     "metadata": {},
     "output_type": "execute_result"
    }
   ],
   "source": [
    "pd.merge(comment_df,using_item,on='SKU',how='left')"
   ],
   "metadata": {
    "collapsed": false,
    "pycharm": {
     "name": "#%%\n"
    }
   }
  },
  {
   "cell_type": "code",
   "execution_count": 28,
   "outputs": [
    {
     "name": "stderr",
     "output_type": "stream",
     "text": [
      "0it [00:00, ?it/s]"
     ]
    },
    {
     "name": "stdout",
     "output_type": "stream",
     "text": [
      "idx:0,时间:15:36,SKU:4014101,score:0,评论数量: 1000\n",
      "0 1 20 空\n",
      "idx:0,时间:15:37,SKU:4014101,score:1,评论数量: 1200\n",
      "0 2 20 空\n",
      "idx:0,时间:15:37,SKU:4014101,score:2,评论数量: 1400\n",
      "0 3 54 空\n",
      "idx:0,时间:15:39,SKU:4014101,score:3,评论数量: 1937\n"
     ]
    },
    {
     "name": "stderr",
     "output_type": "stream",
     "text": [
      "1it [04:57, 297.42s/it]"
     ]
    },
    {
     "name": "stdout",
     "output_type": "stream",
     "text": [
      "0 4 20 空\n",
      "idx:0,时间:15:39,SKU:4014101,score:4,评论数量: 2137\n",
      "idx:1,时间:15:41,SKU:10028804239779,score:0,评论数量: 1000\n",
      "1 1 20 空\n",
      "idx:1,时间:15:42,SKU:10028804239779,score:1,评论数量: 1200\n",
      "1 2 20 空\n",
      "idx:1,时间:15:42,SKU:10028804239779,score:2,评论数量: 1400\n",
      "1 3 54 空\n",
      "idx:1,时间:15:43,SKU:10028804239779,score:3,评论数量: 1937\n"
     ]
    },
    {
     "name": "stderr",
     "output_type": "stream",
     "text": [
      "2it [09:51, 295.66s/it]"
     ]
    },
    {
     "name": "stdout",
     "output_type": "stream",
     "text": [
      "1 4 20 空\n",
      "idx:1,时间:15:44,SKU:10028804239779,score:4,评论数量: 2137\n",
      "idx:2,时间:15:46,SKU:100055936077,score:0,评论数量: 1000\n",
      "2 1 20 空\n",
      "idx:2,时间:15:47,SKU:100055936077,score:1,评论数量: 1200\n",
      "2 2 20 空\n",
      "idx:2,时间:15:47,SKU:100055936077,score:2,评论数量: 1400\n",
      "2 3 54 空\n",
      "idx:2,时间:15:48,SKU:100055936077,score:3,评论数量: 1938\n"
     ]
    },
    {
     "name": "stderr",
     "output_type": "stream",
     "text": [
      "3it [14:47, 295.60s/it]"
     ]
    },
    {
     "name": "stdout",
     "output_type": "stream",
     "text": [
      "2 4 20 空\n",
      "idx:2,时间:15:49,SKU:100055936077,score:4,评论数量: 2138\n",
      "idx:3,时间:15:51,SKU:10070743806818,score:0,评论数量: 1000\n",
      "3 1 20 空\n",
      "idx:3,时间:15:52,SKU:10070743806818,score:1,评论数量: 1200\n",
      "3 2 20 空\n",
      "idx:3,时间:15:52,SKU:10070743806818,score:2,评论数量: 1400\n",
      "3 3 54 空\n",
      "idx:3,时间:15:53,SKU:10070743806818,score:3,评论数量: 1938\n"
     ]
    },
    {
     "name": "stderr",
     "output_type": "stream",
     "text": [
      "4it [19:43, 295.64s/it]"
     ]
    },
    {
     "name": "stdout",
     "output_type": "stream",
     "text": [
      "3 4 20 空\n",
      "idx:3,时间:15:54,SKU:10070743806818,score:4,评论数量: 2138\n",
      "idx:4,时间:15:56,SKU:100001809857,score:0,评论数量: 1000\n",
      "4 1 20 空\n",
      "idx:4,时间:15:57,SKU:100001809857,score:1,评论数量: 1200\n",
      "4 2 20 空\n",
      "idx:4,时间:15:57,SKU:100001809857,score:2,评论数量: 1400\n",
      "4 3 54 空\n",
      "idx:4,时间:15:58,SKU:100001809857,score:3,评论数量: 1938\n"
     ]
    },
    {
     "name": "stderr",
     "output_type": "stream",
     "text": [
      "5it [24:39, 295.82s/it]"
     ]
    },
    {
     "name": "stdout",
     "output_type": "stream",
     "text": [
      "4 4 20 空\n",
      "idx:4,时间:15:59,SKU:100001809857,score:4,评论数量: 2138\n",
      "idx:5,时间:16:01,SKU:100010235018,score:0,评论数量: 1000\n",
      "5 1 20 空\n",
      "idx:5,时间:16:01,SKU:100010235018,score:1,评论数量: 1200\n",
      "5 2 20 空\n",
      "idx:5,时间:16:02,SKU:100010235018,score:2,评论数量: 1400\n",
      "5 3 54 空\n",
      "idx:5,时间:16:03,SKU:100010235018,score:3,评论数量: 1938\n"
     ]
    },
    {
     "name": "stderr",
     "output_type": "stream",
     "text": [
      "6it [29:40, 297.54s/it]"
     ]
    },
    {
     "name": "stdout",
     "output_type": "stream",
     "text": [
      "5 4 20 空\n",
      "idx:5,时间:16:04,SKU:100010235018,score:4,评论数量: 2138\n",
      "idx:6,时间:16:06,SKU:10071528305086,score:0,评论数量: 1000\n",
      "6 1 20 空\n",
      "idx:6,时间:16:06,SKU:10071528305086,score:1,评论数量: 1200\n",
      "6 2 20 空\n",
      "idx:6,时间:16:07,SKU:10071528305086,score:2,评论数量: 1400\n",
      "6 3 54 空\n",
      "idx:6,时间:16:08,SKU:10071528305086,score:3,评论数量: 1939\n"
     ]
    },
    {
     "name": "stderr",
     "output_type": "stream",
     "text": [
      "7it [34:40, 298.35s/it]"
     ]
    },
    {
     "name": "stdout",
     "output_type": "stream",
     "text": [
      "6 4 20 空\n",
      "idx:6,时间:16:09,SKU:10071528305086,score:4,评论数量: 2139\n",
      "idx:7,时间:16:11,SKU:7384607,score:0,评论数量: 1000\n",
      "7 1 20 空\n",
      "idx:7,时间:16:12,SKU:7384607,score:1,评论数量: 1200\n",
      "7 2 20 空\n",
      "idx:7,时间:16:12,SKU:7384607,score:2,评论数量: 1400\n",
      "7 3 54 空\n",
      "idx:7,时间:16:13,SKU:7384607,score:3,评论数量: 1939\n"
     ]
    },
    {
     "name": "stderr",
     "output_type": "stream",
     "text": [
      "8it [39:42, 299.67s/it]"
     ]
    },
    {
     "name": "stdout",
     "output_type": "stream",
     "text": [
      "7 4 20 空\n",
      "idx:7,时间:16:14,SKU:7384607,score:4,评论数量: 2139\n",
      "idx:8,时间:16:16,SKU:100057637967,score:0,评论数量: 1000\n",
      "8 1 20 空\n",
      "idx:8,时间:16:17,SKU:100057637967,score:1,评论数量: 1200\n",
      "8 2 20 空\n",
      "idx:8,时间:16:17,SKU:100057637967,score:2,评论数量: 1400\n",
      "8 3 54 空\n",
      "idx:8,时间:16:18,SKU:100057637967,score:3,评论数量: 1939\n"
     ]
    },
    {
     "name": "stderr",
     "output_type": "stream",
     "text": [
      "9it [44:41, 299.57s/it]"
     ]
    },
    {
     "name": "stdout",
     "output_type": "stream",
     "text": [
      "8 4 20 空\n",
      "idx:8,时间:16:19,SKU:100057637967,score:4,评论数量: 2139\n",
      "idx:9,时间:16:21,SKU:100006930553,score:0,评论数量: 1000\n",
      "9 1 20 空\n",
      "idx:9,时间:16:22,SKU:100006930553,score:1,评论数量: 1200\n",
      "9 2 20 空\n",
      "idx:9,时间:16:22,SKU:100006930553,score:2,评论数量: 1400\n",
      "9 3 54 空\n",
      "idx:9,时间:16:23,SKU:100006930553,score:3,评论数量: 1939\n"
     ]
    },
    {
     "name": "stderr",
     "output_type": "stream",
     "text": [
      "10it [49:45, 300.79s/it]"
     ]
    },
    {
     "name": "stdout",
     "output_type": "stream",
     "text": [
      "9 4 20 空\n",
      "idx:9,时间:16:24,SKU:100006930553,score:4,评论数量: 2139\n",
      "idx:10,时间:16:26,SKU:10050679374521,score:0,评论数量: 1000\n",
      "10 1 20 空\n",
      "idx:10,时间:16:27,SKU:10050679374521,score:1,评论数量: 1200\n",
      "10 2 20 空\n",
      "idx:10,时间:16:27,SKU:10050679374521,score:2,评论数量: 1400\n",
      "10 3 54 空\n",
      "idx:10,时间:16:28,SKU:10050679374521,score:3,评论数量: 1939\n"
     ]
    },
    {
     "name": "stderr",
     "output_type": "stream",
     "text": [
      "11it [54:44, 300.37s/it]"
     ]
    },
    {
     "name": "stdout",
     "output_type": "stream",
     "text": [
      "10 4 20 空\n",
      "idx:10,时间:16:29,SKU:10050679374521,score:4,评论数量: 2139\n",
      "idx:11,时间:16:31,SKU:10072990560655,score:0,评论数量: 1000\n",
      "11 1 20 空\n",
      "idx:11,时间:16:32,SKU:10072990560655,score:1,评论数量: 1200\n",
      "11 2 20 空\n",
      "idx:11,时间:16:32,SKU:10072990560655,score:2,评论数量: 1400\n",
      "11 3 54 空\n",
      "idx:11,时间:16:33,SKU:10072990560655,score:3,评论数量: 1939\n"
     ]
    },
    {
     "name": "stderr",
     "output_type": "stream",
     "text": [
      "12it [59:42, 299.67s/it]"
     ]
    },
    {
     "name": "stdout",
     "output_type": "stream",
     "text": [
      "11 4 20 空\n",
      "idx:11,时间:16:34,SKU:10072990560655,score:4,评论数量: 2139\n",
      "idx:12,时间:16:36,SKU:7402467,score:0,评论数量: 1000\n",
      "12 1 20 空\n",
      "idx:12,时间:16:37,SKU:7402467,score:1,评论数量: 1200\n",
      "12 2 20 空\n",
      "idx:12,时间:16:37,SKU:7402467,score:2,评论数量: 1400\n",
      "12 3 54 空\n",
      "idx:12,时间:16:38,SKU:7402467,score:3,评论数量: 1939\n"
     ]
    },
    {
     "name": "stderr",
     "output_type": "stream",
     "text": [
      "13it [1:04:40, 298.89s/it]"
     ]
    },
    {
     "name": "stdout",
     "output_type": "stream",
     "text": [
      "12 4 20 空\n",
      "idx:12,时间:16:39,SKU:7402467,score:4,评论数量: 2139\n",
      "idx:13,时间:16:41,SKU:100048486774,score:0,评论数量: 1000\n",
      "13 1 20 空\n",
      "idx:13,时间:16:41,SKU:100048486774,score:1,评论数量: 1200\n",
      "13 2 20 空\n",
      "idx:13,时间:16:42,SKU:100048486774,score:2,评论数量: 1400\n",
      "13 3 54 空\n",
      "idx:13,时间:16:43,SKU:100048486774,score:3,评论数量: 1939\n"
     ]
    },
    {
     "name": "stderr",
     "output_type": "stream",
     "text": [
      "14it [1:09:35, 297.99s/it]"
     ]
    },
    {
     "name": "stdout",
     "output_type": "stream",
     "text": [
      "13 4 20 空\n",
      "idx:13,时间:16:44,SKU:100048486774,score:4,评论数量: 2139\n",
      "idx:14,时间:16:46,SKU:100049485318,score:0,评论数量: 1000\n",
      "14 1 20 空\n",
      "idx:14,时间:16:46,SKU:100049485318,score:1,评论数量: 1200\n",
      "14 2 20 空\n",
      "idx:14,时间:16:47,SKU:100049485318,score:2,评论数量: 1400\n",
      "14 3 54 空\n",
      "idx:14,时间:16:48,SKU:100049485318,score:3,评论数量: 1939\n"
     ]
    },
    {
     "name": "stderr",
     "output_type": "stream",
     "text": [
      "15it [1:14:33, 297.90s/it]"
     ]
    },
    {
     "name": "stdout",
     "output_type": "stream",
     "text": [
      "14 4 20 空\n",
      "idx:14,时间:16:49,SKU:100049485318,score:4,评论数量: 2139\n",
      "idx:15,时间:16:51,SKU:100055936079,score:0,评论数量: 1000\n",
      "15 1 20 空\n",
      "idx:15,时间:16:51,SKU:100055936079,score:1,评论数量: 1200\n",
      "15 2 20 空\n",
      "idx:15,时间:16:52,SKU:100055936079,score:2,评论数量: 1400\n",
      "15 3 54 空\n",
      "idx:15,时间:16:53,SKU:100055936079,score:3,评论数量: 1939\n"
     ]
    },
    {
     "name": "stderr",
     "output_type": "stream",
     "text": [
      "16it [1:19:30, 297.45s/it]"
     ]
    },
    {
     "name": "stdout",
     "output_type": "stream",
     "text": [
      "15 4 20 空\n",
      "idx:15,时间:16:54,SKU:100055936079,score:4,评论数量: 2139\n",
      "idx:16,时间:16:56,SKU:10043344095804,score:0,评论数量: 1000\n",
      "16 1 20 空\n",
      "idx:16,时间:16:56,SKU:10043344095804,score:1,评论数量: 1200\n",
      "16 2 20 空\n",
      "idx:16,时间:16:57,SKU:10043344095804,score:2,评论数量: 1400\n",
      "16 3 54 空\n",
      "idx:16,时间:16:58,SKU:10043344095804,score:3,评论数量: 1939\n"
     ]
    },
    {
     "name": "stderr",
     "output_type": "stream",
     "text": [
      "17it [1:24:29, 298.12s/it]"
     ]
    },
    {
     "name": "stdout",
     "output_type": "stream",
     "text": [
      "16 4 20 空\n",
      "idx:16,时间:16:59,SKU:10043344095804,score:4,评论数量: 2139\n",
      "idx:17,时间:17:01,SKU:10027542000109,score:0,评论数量: 1000\n",
      "17 1 20 空\n",
      "idx:17,时间:17:01,SKU:10027542000109,score:1,评论数量: 1200\n",
      "17 2 20 空\n",
      "idx:17,时间:17:02,SKU:10027542000109,score:2,评论数量: 1400\n",
      "17 3 54 空\n",
      "idx:17,时间:17:03,SKU:10027542000109,score:3,评论数量: 1940\n"
     ]
    },
    {
     "name": "stderr",
     "output_type": "stream",
     "text": [
      "18it [1:29:25, 297.38s/it]"
     ]
    },
    {
     "name": "stdout",
     "output_type": "stream",
     "text": [
      "17 4 20 空\n",
      "idx:17,时间:17:03,SKU:10027542000109,score:4,评论数量: 2140\n",
      "idx:18,时间:17:06,SKU:10049441196413,score:0,评论数量: 1000\n",
      "18 1 20 空\n",
      "idx:18,时间:17:06,SKU:10049441196413,score:1,评论数量: 1200\n",
      "18 2 20 空\n",
      "idx:18,时间:17:07,SKU:10049441196413,score:2,评论数量: 1400\n",
      "18 3 54 空\n",
      "idx:18,时间:17:08,SKU:10049441196413,score:3,评论数量: 1940\n"
     ]
    },
    {
     "name": "stderr",
     "output_type": "stream",
     "text": [
      "19it [1:34:26, 298.60s/it]"
     ]
    },
    {
     "name": "stdout",
     "output_type": "stream",
     "text": [
      "18 4 20 空\n",
      "idx:18,时间:17:08,SKU:10049441196413,score:4,评论数量: 2140\n",
      "idx:19,时间:17:11,SKU:100000263813,score:0,评论数量: 1000\n",
      "19 1 20 空\n",
      "idx:19,时间:17:11,SKU:100000263813,score:1,评论数量: 1200\n",
      "19 2 20 空\n",
      "idx:19,时间:17:12,SKU:100000263813,score:2,评论数量: 1400\n",
      "19 3 54 空\n",
      "idx:19,时间:17:13,SKU:100000263813,score:3,评论数量: 1940\n"
     ]
    },
    {
     "name": "stderr",
     "output_type": "stream",
     "text": [
      "20it [1:39:26, 298.31s/it]"
     ]
    },
    {
     "name": "stdout",
     "output_type": "stream",
     "text": [
      "19 4 20 空\n",
      "idx:19,时间:17:13,SKU:100000263813,score:4,评论数量: 2140\n",
      "CPU times: total: 2min 13s\n",
      "Wall time: 1h 39min 26s\n"
     ]
    },
    {
     "name": "stderr",
     "output_type": "stream",
     "text": [
      "\n"
     ]
    }
   ],
   "source": [
    "%%time\n",
    "# STEP2: 遍历获取评论数据\n",
    "all_comments_df = pd.DataFrame()\n",
    "for idx,row in tqdm(using_item[:20].iterrows()):\n",
    "    one_sku_comments = []\n",
    "    for score_idx,score in enumerate(range(5)):\n",
    "        for page_idx,page in enumerate(range(100)):\n",
    "            url_comm = f'https://sclub.jd.com/comment/productPageComments.action?productId=' + sku + f'&score={score}&sortType=5&'+'page='+str(page)+'&pageSize=10&isShadowSku=0&rid=0&fold=1'\n",
    "            try:\n",
    "                res = requests.get(url_comm)\n",
    "                html_comm = res.text\n",
    "                json_html_comm=json.loads(html_comm)\n",
    "                comment_list=json_html_comm['comments']\n",
    "                one_sku_comments += comment_list\n",
    "                if not comment_list:\n",
    "                    print(idx,score_idx,page_idx,'空')\n",
    "                    break\n",
    "                time.sleep(1)\n",
    "            except Exception as e:\n",
    "                print(\"运行错误：\",str(e),'休眠20s')\n",
    "                time.sleep(20)\n",
    "                continue\n",
    "        print(f'idx:{idx},时间:{datetime.datetime.now().strftime(\"%H:%M\")},SKU:{row[\"SKU\"]},score:{score},单SKU累计评论数量: {len(one_sku_comments)}')\n",
    "    one_sku_df = pd.DataFrame(one_sku_comments)\n",
    "    one_sku_df['SKU'] = row['SKU'] # 添加SKU 编码\n",
    "    one_sku_df['sales_order'] = idx + 1 # 添加销量序号\n",
    "    all_comments_df = pd.concat([one_sku_df,all_comments_df],axis=0)"
   ],
   "metadata": {
    "collapsed": false,
    "pycharm": {
     "name": "#%%\n"
    }
   }
  },
  {
   "cell_type": "code",
   "execution_count": 30,
   "outputs": [],
   "source": [
    "all_comments_df.to_csv('./data/原始爬取评论_top_20.csv')"
   ],
   "metadata": {
    "collapsed": false,
    "pycharm": {
     "name": "#%%\n"
    }
   }
  },
  {
   "cell_type": "code",
   "execution_count": 32,
   "outputs": [
    {
     "data": {
      "text/plain": "                id                              guid  \\\n0      19063662891  059df86d69f3033d82473f9a84d925de   \n1      19027508331  aba66f4254a7b5b00f5750729e92e6e7   \n2      19098655478  b5d4417074b51b2cc41795937e49d610   \n3      19070214247  b50c44c34f184dee37a47ec15a80931e   \n4      19069676284  3d6089a2c4f3d1f05cc54ee1085617f7   \n...            ...                               ...   \n42770  19074860106  444beee74a8aa8e1d4e6f389a9c936de   \n42771  19074863148  250c09c1aa6896efaf0ccc340b1146d8   \n42772  19074847580  10ba9684af87e4ec365bb1b092dacc46   \n42773  19074702565  ba42dfb7d6b668e0df29904d6c4240b5   \n42774  19074565396  8a9e6e6f733331072a47e1d90e6ce753   \n\n                                                 content         creationTime  \\\n0      西瓜足斤足两，到手后称了一下，将近4千克，很满意。切开后情况很好，瓜瓤很脆，吃起来脆甜脆甜的...  2023-04-28 14:18:46   \n1      非常满意的一次购物体验，很甜！西瓜成熟度正好，口感脆甜可口，皮很薄，籽不多，分量足，包装完好...  2023-04-16 17:22:49   \n2      京东自营商品质量有保证送货速度快，冷链物流送货保证新鲜，还有防撞空气袋特别安全，赶上活动价格...  2023-05-10 12:35:07   \n3      喜欢京东的物流，快速而便捷，最迟第二天就到货，而且直接送到家里，非常便利。\\n\\n这次买的西...  2023-04-30 11:50:21   \n4      夏天到了，就想吃一些好吃的水果，就在京东自营水果店里买了一些水果，水果包装的都很好，水果吃起...  2023-04-30 07:51:10   \n...                                                  ...                  ...   \n42770  夏天终于快到了，又是吃西瓜的季节了。京东的西瓜总体很满意，瓜瓤鲜脆，很甜，就像是刚从地里摘出...  2023-05-02 10:25:26   \n42771  夏天终于快到了，又是吃西瓜的季节了。京东的西瓜总体很满意，瓜瓤鲜脆，很甜，就像是刚从地里摘出...  2023-05-02 10:23:56   \n42772                                收到时西瓜摔了，吃的时候已经有味道了。  2023-05-02 10:19:56   \n42773                                收到时西瓜摔了，吃的时候已经有味道了。  2023-05-02 09:27:10   \n42774  京东生鲜的品质真是越来越没保障了，西瓜不熟可以理解，但是是完全不新鲜，其他批次不知道，这批是...  2023-05-02 08:14:44   \n\n       isDelete  isTop                                       userImageUrl  \\\n0         False  False  storage.360buyimg.com/i.imageUpload/6a645f3433...   \n1         False  False  storage.360buyimg.com/i.imageUpload/6a645f6149...   \n2         False  False  storage.360buyimg.com/i.imageUpload/6c6a737463...   \n3         False  False  storage.360buyimg.com/i.imageUpload/6d6172696f...   \n4         False  False  misc.360buyimg.com/user/myjd-2015/css/i/peison...   \n...         ...    ...                                                ...   \n42770     False  False  misc.360buyimg.com/user/myjd-2015/css/i/peison...   \n42771     False  False  misc.360buyimg.com/user/myjd-2015/css/i/peison...   \n42772     False  False  storage.360buyimg.com/i.imageUpload/6a645f3435...   \n42773     False  False  misc.360buyimg.com/user/myjd-2015/css/i/peison...   \n42774     False  False  misc.360buyimg.com/user/myjd-2015/css/i/peison...   \n\n       topped  replyCount  score  ...  afterUserComment  afterImages  \\\n0           0           0      5  ...               NaN          NaN   \n1           0           1      5  ...               NaN          NaN   \n2           0           0      5  ...               NaN          NaN   \n3           0           0      5  ...               NaN          NaN   \n4           0           0      5  ...               NaN          NaN   \n...       ...         ...    ...  ...               ...          ...   \n42770       0           0      5  ...               NaN          NaN   \n42771       0           0      5  ...               NaN          NaN   \n42772       0           0      5  ...               NaN          NaN   \n42773       0           0      5  ...               NaN          NaN   \n42774       0           1      1  ...               NaN          NaN   \n\n       afterVideos           SKU  sales_order  \\\n0              NaN  100000263813           20   \n1              NaN  100000263813           20   \n2              NaN  100000263813           20   \n3              NaN  100000263813           20   \n4              NaN  100000263813           20   \n...            ...           ...          ...   \n42770          NaN       4014101            1   \n42771          NaN       4014101            1   \n42772          NaN       4014101            1   \n42773          NaN       4014101            1   \n42774          NaN       4014101            1   \n\n                                      Title  \\\n0                【国内核心产区直采】【甜度更高、果肉细腻、汁水充盈】   \n1                【国内核心产区直采】【甜度更高、果肉细腻、汁水充盈】   \n2                【国内核心产区直采】【甜度更高、果肉细腻、汁水充盈】   \n3                【国内核心产区直采】【甜度更高、果肉细腻、汁水充盈】   \n4                【国内核心产区直采】【甜度更高、果肉细腻、汁水充盈】   \n...                                     ...   \n42770  绿衣裹红瓤，果味清新甘甜，果肉鲜脆多汁，喷涌汁液清甜入喉，甜蜜直达心田！   \n42771  绿衣裹红瓤，果味清新甘甜，果肉鲜脆多汁，喷涌汁液清甜入喉，甜蜜直达心田！   \n42772  绿衣裹红瓤，果味清新甘甜，果肉鲜脆多汁，喷涌汁液清甜入喉，甜蜜直达心田！   \n42773  绿衣裹红瓤，果味清新甘甜，果肉鲜脆多汁，喷涌汁液清甜入喉，甜蜜直达心田！   \n42774  绿衣裹红瓤，果味清新甘甜，果肉鲜脆多汁，喷涌汁液清甜入喉，甜蜜直达心田！   \n\n                                   Description  Price  \\\n0      \\n京鲜生 手剥小西瓜 2粒 单果1.5kg 净重3kg 御麒麟西瓜 生鲜水果  59.90   \n1      \\n京鲜生 手剥小西瓜 2粒 单果1.5kg 净重3kg 御麒麟西瓜 生鲜水果  59.90   \n2      \\n京鲜生 手剥小西瓜 2粒 单果1.5kg 净重3kg 御麒麟西瓜 生鲜水果  59.90   \n3      \\n京鲜生 手剥小西瓜 2粒 单果1.5kg 净重3kg 御麒麟西瓜 生鲜水果  59.90   \n4      \\n京鲜生 手剥小西瓜 2粒 单果1.5kg 净重3kg 御麒麟西瓜 生鲜水果  59.90   \n...                                        ...    ...   \n42770          \\n京鲜生 国产麒麟西瓜 1粒装 单果2.5kg以上 生鲜水果  39.90   \n42771          \\n京鲜生 国产麒麟西瓜 1粒装 单果2.5kg以上 生鲜水果  39.90   \n42772          \\n京鲜生 国产麒麟西瓜 1粒装 单果2.5kg以上 生鲜水果  39.90   \n42773          \\n京鲜生 国产麒麟西瓜 1粒装 单果2.5kg以上 生鲜水果  39.90   \n42774          \\n京鲜生 国产麒麟西瓜 1粒装 单果2.5kg以上 生鲜水果  39.90   \n\n                                                   Image      Shop  \n0      //img13.360buyimg.com/n7/jfs/t1/30560/13/13153...  水果京东自营专区  \n1      //img13.360buyimg.com/n7/jfs/t1/30560/13/13153...  水果京东自营专区  \n2      //img13.360buyimg.com/n7/jfs/t1/30560/13/13153...  水果京东自营专区  \n3      //img13.360buyimg.com/n7/jfs/t1/30560/13/13153...  水果京东自营专区  \n4      //img13.360buyimg.com/n7/jfs/t1/30560/13/13153...  水果京东自营专区  \n...                                                  ...       ...  \n42770  //img11.360buyimg.com/n7/jfs/t1/220542/36/7792...  水果京东自营专区  \n42771  //img11.360buyimg.com/n7/jfs/t1/220542/36/7792...  水果京东自营专区  \n42772  //img11.360buyimg.com/n7/jfs/t1/220542/36/7792...  水果京东自营专区  \n42773  //img11.360buyimg.com/n7/jfs/t1/220542/36/7792...  水果京东自营专区  \n42774  //img11.360buyimg.com/n7/jfs/t1/220542/36/7792...  水果京东自营专区  \n\n[42775 rows x 56 columns]",
      "text/html": "<div>\n<style scoped>\n    .dataframe tbody tr th:only-of-type {\n        vertical-align: middle;\n    }\n\n    .dataframe tbody tr th {\n        vertical-align: top;\n    }\n\n    .dataframe thead th {\n        text-align: right;\n    }\n</style>\n<table border=\"1\" class=\"dataframe\">\n  <thead>\n    <tr style=\"text-align: right;\">\n      <th></th>\n      <th>id</th>\n      <th>guid</th>\n      <th>content</th>\n      <th>creationTime</th>\n      <th>isDelete</th>\n      <th>isTop</th>\n      <th>userImageUrl</th>\n      <th>topped</th>\n      <th>replyCount</th>\n      <th>score</th>\n      <th>...</th>\n      <th>afterUserComment</th>\n      <th>afterImages</th>\n      <th>afterVideos</th>\n      <th>SKU</th>\n      <th>sales_order</th>\n      <th>Title</th>\n      <th>Description</th>\n      <th>Price</th>\n      <th>Image</th>\n      <th>Shop</th>\n    </tr>\n  </thead>\n  <tbody>\n    <tr>\n      <th>0</th>\n      <td>19063662891</td>\n      <td>059df86d69f3033d82473f9a84d925de</td>\n      <td>西瓜足斤足两，到手后称了一下，将近4千克，很满意。切开后情况很好，瓜瓤很脆，吃起来脆甜脆甜的...</td>\n      <td>2023-04-28 14:18:46</td>\n      <td>False</td>\n      <td>False</td>\n      <td>storage.360buyimg.com/i.imageUpload/6a645f3433...</td>\n      <td>0</td>\n      <td>0</td>\n      <td>5</td>\n      <td>...</td>\n      <td>NaN</td>\n      <td>NaN</td>\n      <td>NaN</td>\n      <td>100000263813</td>\n      <td>20</td>\n      <td>【国内核心产区直采】【甜度更高、果肉细腻、汁水充盈】</td>\n      <td>\\n京鲜生 手剥小西瓜 2粒 单果1.5kg 净重3kg 御麒麟西瓜 生鲜水果</td>\n      <td>59.90</td>\n      <td>//img13.360buyimg.com/n7/jfs/t1/30560/13/13153...</td>\n      <td>水果京东自营专区</td>\n    </tr>\n    <tr>\n      <th>1</th>\n      <td>19027508331</td>\n      <td>aba66f4254a7b5b00f5750729e92e6e7</td>\n      <td>非常满意的一次购物体验，很甜！西瓜成熟度正好，口感脆甜可口，皮很薄，籽不多，分量足，包装完好...</td>\n      <td>2023-04-16 17:22:49</td>\n      <td>False</td>\n      <td>False</td>\n      <td>storage.360buyimg.com/i.imageUpload/6a645f6149...</td>\n      <td>0</td>\n      <td>1</td>\n      <td>5</td>\n      <td>...</td>\n      <td>NaN</td>\n      <td>NaN</td>\n      <td>NaN</td>\n      <td>100000263813</td>\n      <td>20</td>\n      <td>【国内核心产区直采】【甜度更高、果肉细腻、汁水充盈】</td>\n      <td>\\n京鲜生 手剥小西瓜 2粒 单果1.5kg 净重3kg 御麒麟西瓜 生鲜水果</td>\n      <td>59.90</td>\n      <td>//img13.360buyimg.com/n7/jfs/t1/30560/13/13153...</td>\n      <td>水果京东自营专区</td>\n    </tr>\n    <tr>\n      <th>2</th>\n      <td>19098655478</td>\n      <td>b5d4417074b51b2cc41795937e49d610</td>\n      <td>京东自营商品质量有保证送货速度快，冷链物流送货保证新鲜，还有防撞空气袋特别安全，赶上活动价格...</td>\n      <td>2023-05-10 12:35:07</td>\n      <td>False</td>\n      <td>False</td>\n      <td>storage.360buyimg.com/i.imageUpload/6c6a737463...</td>\n      <td>0</td>\n      <td>0</td>\n      <td>5</td>\n      <td>...</td>\n      <td>NaN</td>\n      <td>NaN</td>\n      <td>NaN</td>\n      <td>100000263813</td>\n      <td>20</td>\n      <td>【国内核心产区直采】【甜度更高、果肉细腻、汁水充盈】</td>\n      <td>\\n京鲜生 手剥小西瓜 2粒 单果1.5kg 净重3kg 御麒麟西瓜 生鲜水果</td>\n      <td>59.90</td>\n      <td>//img13.360buyimg.com/n7/jfs/t1/30560/13/13153...</td>\n      <td>水果京东自营专区</td>\n    </tr>\n    <tr>\n      <th>3</th>\n      <td>19070214247</td>\n      <td>b50c44c34f184dee37a47ec15a80931e</td>\n      <td>喜欢京东的物流，快速而便捷，最迟第二天就到货，而且直接送到家里，非常便利。\\n\\n这次买的西...</td>\n      <td>2023-04-30 11:50:21</td>\n      <td>False</td>\n      <td>False</td>\n      <td>storage.360buyimg.com/i.imageUpload/6d6172696f...</td>\n      <td>0</td>\n      <td>0</td>\n      <td>5</td>\n      <td>...</td>\n      <td>NaN</td>\n      <td>NaN</td>\n      <td>NaN</td>\n      <td>100000263813</td>\n      <td>20</td>\n      <td>【国内核心产区直采】【甜度更高、果肉细腻、汁水充盈】</td>\n      <td>\\n京鲜生 手剥小西瓜 2粒 单果1.5kg 净重3kg 御麒麟西瓜 生鲜水果</td>\n      <td>59.90</td>\n      <td>//img13.360buyimg.com/n7/jfs/t1/30560/13/13153...</td>\n      <td>水果京东自营专区</td>\n    </tr>\n    <tr>\n      <th>4</th>\n      <td>19069676284</td>\n      <td>3d6089a2c4f3d1f05cc54ee1085617f7</td>\n      <td>夏天到了，就想吃一些好吃的水果，就在京东自营水果店里买了一些水果，水果包装的都很好，水果吃起...</td>\n      <td>2023-04-30 07:51:10</td>\n      <td>False</td>\n      <td>False</td>\n      <td>misc.360buyimg.com/user/myjd-2015/css/i/peison...</td>\n      <td>0</td>\n      <td>0</td>\n      <td>5</td>\n      <td>...</td>\n      <td>NaN</td>\n      <td>NaN</td>\n      <td>NaN</td>\n      <td>100000263813</td>\n      <td>20</td>\n      <td>【国内核心产区直采】【甜度更高、果肉细腻、汁水充盈】</td>\n      <td>\\n京鲜生 手剥小西瓜 2粒 单果1.5kg 净重3kg 御麒麟西瓜 生鲜水果</td>\n      <td>59.90</td>\n      <td>//img13.360buyimg.com/n7/jfs/t1/30560/13/13153...</td>\n      <td>水果京东自营专区</td>\n    </tr>\n    <tr>\n      <th>...</th>\n      <td>...</td>\n      <td>...</td>\n      <td>...</td>\n      <td>...</td>\n      <td>...</td>\n      <td>...</td>\n      <td>...</td>\n      <td>...</td>\n      <td>...</td>\n      <td>...</td>\n      <td>...</td>\n      <td>...</td>\n      <td>...</td>\n      <td>...</td>\n      <td>...</td>\n      <td>...</td>\n      <td>...</td>\n      <td>...</td>\n      <td>...</td>\n      <td>...</td>\n      <td>...</td>\n    </tr>\n    <tr>\n      <th>42770</th>\n      <td>19074860106</td>\n      <td>444beee74a8aa8e1d4e6f389a9c936de</td>\n      <td>夏天终于快到了，又是吃西瓜的季节了。京东的西瓜总体很满意，瓜瓤鲜脆，很甜，就像是刚从地里摘出...</td>\n      <td>2023-05-02 10:25:26</td>\n      <td>False</td>\n      <td>False</td>\n      <td>misc.360buyimg.com/user/myjd-2015/css/i/peison...</td>\n      <td>0</td>\n      <td>0</td>\n      <td>5</td>\n      <td>...</td>\n      <td>NaN</td>\n      <td>NaN</td>\n      <td>NaN</td>\n      <td>4014101</td>\n      <td>1</td>\n      <td>绿衣裹红瓤，果味清新甘甜，果肉鲜脆多汁，喷涌汁液清甜入喉，甜蜜直达心田！</td>\n      <td>\\n京鲜生 国产麒麟西瓜 1粒装 单果2.5kg以上 生鲜水果</td>\n      <td>39.90</td>\n      <td>//img11.360buyimg.com/n7/jfs/t1/220542/36/7792...</td>\n      <td>水果京东自营专区</td>\n    </tr>\n    <tr>\n      <th>42771</th>\n      <td>19074863148</td>\n      <td>250c09c1aa6896efaf0ccc340b1146d8</td>\n      <td>夏天终于快到了，又是吃西瓜的季节了。京东的西瓜总体很满意，瓜瓤鲜脆，很甜，就像是刚从地里摘出...</td>\n      <td>2023-05-02 10:23:56</td>\n      <td>False</td>\n      <td>False</td>\n      <td>misc.360buyimg.com/user/myjd-2015/css/i/peison...</td>\n      <td>0</td>\n      <td>0</td>\n      <td>5</td>\n      <td>...</td>\n      <td>NaN</td>\n      <td>NaN</td>\n      <td>NaN</td>\n      <td>4014101</td>\n      <td>1</td>\n      <td>绿衣裹红瓤，果味清新甘甜，果肉鲜脆多汁，喷涌汁液清甜入喉，甜蜜直达心田！</td>\n      <td>\\n京鲜生 国产麒麟西瓜 1粒装 单果2.5kg以上 生鲜水果</td>\n      <td>39.90</td>\n      <td>//img11.360buyimg.com/n7/jfs/t1/220542/36/7792...</td>\n      <td>水果京东自营专区</td>\n    </tr>\n    <tr>\n      <th>42772</th>\n      <td>19074847580</td>\n      <td>10ba9684af87e4ec365bb1b092dacc46</td>\n      <td>收到时西瓜摔了，吃的时候已经有味道了。</td>\n      <td>2023-05-02 10:19:56</td>\n      <td>False</td>\n      <td>False</td>\n      <td>storage.360buyimg.com/i.imageUpload/6a645f3435...</td>\n      <td>0</td>\n      <td>0</td>\n      <td>5</td>\n      <td>...</td>\n      <td>NaN</td>\n      <td>NaN</td>\n      <td>NaN</td>\n      <td>4014101</td>\n      <td>1</td>\n      <td>绿衣裹红瓤，果味清新甘甜，果肉鲜脆多汁，喷涌汁液清甜入喉，甜蜜直达心田！</td>\n      <td>\\n京鲜生 国产麒麟西瓜 1粒装 单果2.5kg以上 生鲜水果</td>\n      <td>39.90</td>\n      <td>//img11.360buyimg.com/n7/jfs/t1/220542/36/7792...</td>\n      <td>水果京东自营专区</td>\n    </tr>\n    <tr>\n      <th>42773</th>\n      <td>19074702565</td>\n      <td>ba42dfb7d6b668e0df29904d6c4240b5</td>\n      <td>收到时西瓜摔了，吃的时候已经有味道了。</td>\n      <td>2023-05-02 09:27:10</td>\n      <td>False</td>\n      <td>False</td>\n      <td>misc.360buyimg.com/user/myjd-2015/css/i/peison...</td>\n      <td>0</td>\n      <td>0</td>\n      <td>5</td>\n      <td>...</td>\n      <td>NaN</td>\n      <td>NaN</td>\n      <td>NaN</td>\n      <td>4014101</td>\n      <td>1</td>\n      <td>绿衣裹红瓤，果味清新甘甜，果肉鲜脆多汁，喷涌汁液清甜入喉，甜蜜直达心田！</td>\n      <td>\\n京鲜生 国产麒麟西瓜 1粒装 单果2.5kg以上 生鲜水果</td>\n      <td>39.90</td>\n      <td>//img11.360buyimg.com/n7/jfs/t1/220542/36/7792...</td>\n      <td>水果京东自营专区</td>\n    </tr>\n    <tr>\n      <th>42774</th>\n      <td>19074565396</td>\n      <td>8a9e6e6f733331072a47e1d90e6ce753</td>\n      <td>京东生鲜的品质真是越来越没保障了，西瓜不熟可以理解，但是是完全不新鲜，其他批次不知道，这批是...</td>\n      <td>2023-05-02 08:14:44</td>\n      <td>False</td>\n      <td>False</td>\n      <td>misc.360buyimg.com/user/myjd-2015/css/i/peison...</td>\n      <td>0</td>\n      <td>1</td>\n      <td>1</td>\n      <td>...</td>\n      <td>NaN</td>\n      <td>NaN</td>\n      <td>NaN</td>\n      <td>4014101</td>\n      <td>1</td>\n      <td>绿衣裹红瓤，果味清新甘甜，果肉鲜脆多汁，喷涌汁液清甜入喉，甜蜜直达心田！</td>\n      <td>\\n京鲜生 国产麒麟西瓜 1粒装 单果2.5kg以上 生鲜水果</td>\n      <td>39.90</td>\n      <td>//img11.360buyimg.com/n7/jfs/t1/220542/36/7792...</td>\n      <td>水果京东自营专区</td>\n    </tr>\n  </tbody>\n</table>\n<p>42775 rows × 56 columns</p>\n</div>"
     },
     "execution_count": 32,
     "metadata": {},
     "output_type": "execute_result"
    }
   ],
   "source": [
    "save_df = pd.merge(all_comments_df,using_item,on='SKU',how='left')\n",
    "save_df"
   ],
   "metadata": {
    "collapsed": false,
    "pycharm": {
     "name": "#%%\n"
    }
   }
  },
  {
   "cell_type": "code",
   "execution_count": 35,
   "outputs": [],
   "source": [
    "save_df.to_csv('./data/合并后的评论数据_TOP20.csv',encoding='utf-8',index=False)"
   ],
   "metadata": {
    "collapsed": false,
    "pycharm": {
     "name": "#%%\n"
    }
   }
  }
 ],
 "metadata": {
  "kernelspec": {
   "name": "base",
   "language": "python",
   "display_name": "base"
  },
  "language_info": {
   "codemirror_mode": {
    "name": "ipython",
    "version": 2
   },
   "file_extension": ".py",
   "mimetype": "text/x-python",
   "name": "python",
   "nbconvert_exporter": "python",
   "pygments_lexer": "ipython2",
   "version": "2.7.6"
  }
 },
 "nbformat": 4,
 "nbformat_minor": 0
}