{
 "cells": [
  {
   "cell_type": "code",
   "execution_count": 1,
   "outputs": [],
   "source": [
    "import requests\n",
    "from bs4 import BeautifulSoup #\n",
    "import json\n",
    "import datetime\n",
    "import urllib\n",
    "import time\n",
    "import re\n",
    "from urllib.parse import urlparse\n",
    "import urllib.request as urllib2\n",
    "import pandas as pd\n",
    "from tqdm import tqdm"
   ],
   "metadata": {
    "collapsed": false,
    "pycharm": {
     "name": "#%%\n"
    }
   }
  },
  {
   "cell_type": "code",
   "execution_count": 2,
   "outputs": [],
   "source": [
    "## Step:1 根据关键词获取商品SKU数据\n",
    "keyword = '西瓜' #关键词(可以修改)\n",
    "data = []\n",
    "for page in range(6):\n",
    "    # click=1 表示按销量排序\n",
    "    params = {'keyword':keyword,'enc':'utf-8','qrst':1,'rt':1,'stop':1,'vt':2,'page':page,'click':1}\n",
    "    res = requests.get(\"https://search.jd.com/Search?\",params = params)\n",
    "    soup = BeautifulSoup(res.content,\"html.parser\")\n",
    "    goods_info = soup.select(\".gl-item\")\n",
    "    for good_info in goods_info:\n",
    "        sku = good_info.get('data-sku')\n",
    "        title = good_info.select_one('.p-name a').get('title')\n",
    "        description = good_info.select_one('.p-name a em').text\n",
    "        price = good_info.select_one('.p-price i').text\n",
    "        image = good_info.select_one('.p-img img').get('data-lazy-img')\n",
    "        shop = good_info.select_one('.p-shop .curr-shop').text\n",
    "        data.append({\n",
    "            'SKU': sku,\n",
    "            'Title': title,\n",
    "            'Description': description,\n",
    "            'Price': price,\n",
    "            'Image': image,\n",
    "            'Shop': shop,\n",
    "        })\n",
    "    time.sleep(2)\n",
    "item_info = pd.DataFrame(data)"
   ],
   "metadata": {
    "collapsed": false,
    "pycharm": {
     "name": "#%%\n"
    }
   }
  },
  {
   "cell_type": "code",
   "execution_count": 16,
   "outputs": [
    {
     "data": {
      "text/plain": "'https://search.jd.com/Search?keyword=%E8%A5%BF%E7%93%9C&enc=utf-8&qrst=1&rt=1&stop=1&vt=2&page=5&click=1'"
     },
     "execution_count": 16,
     "metadata": {},
     "output_type": "execute_result"
    }
   ],
   "source": [
    "res = requests.get(\"https://search.jd.com/Search?\",params = params)\n",
    "res.url"
   ],
   "metadata": {
    "collapsed": false,
    "pycharm": {
     "name": "#%%\n"
    }
   }
  },
  {
   "cell_type": "code",
   "execution_count": 4,
   "outputs": [
    {
     "data": {
      "text/plain": "                SKU                                             Title  \\\n0           4014101              绿衣裹红瓤，果味清新甘甜，果肉鲜脆多汁，喷涌汁液清甜入喉，甜蜜直达心田！   \n1    10028804239779   头茬鲜果，泡沫卡槽箱包装，精选阳面瓜，一瓜一藤，不仅脆而且甜，入口化进心里，留不住的夏天就吃掉   \n2      100055936077                                                     \n3    10070743806818  【精选阳面瓜，一瓜一藤】【不仅脆而且甜，入口化进心里】【留不住的夏天就吃掉】更多京选果蔬请点击~   \n4      100001809857           炎炎夏日，解暑必备，绿衣裹红瓤，果味清新甘甜，果肉鲜脆多汁，甜蜜清凉直达心田！   \n..              ...                                               ...   \n175  10040987514870                                                     \n176  10070479027470              顺丰产地当天现摘24小时发货！皮薄甜脆爽口，入口即化的冰淇淋黄瓤小西瓜。   \n177  10052049704058                                                     \n178  10071821005169                             盛夏之王，麒麟瓜肉紧致，口感脆甜，汁水丰富   \n179  10054706654013                                              优惠促销   \n\n                                           Description   Price  \\\n0                      \\n京鲜生 国产麒麟西瓜 1粒装 单果2.5kg以上 生鲜水果   39.90   \n1     京愿 新鲜8424麒麟西瓜 现摘甜心新鲜大西瓜麒麟西瓜当季应季水果生鲜 优选4-5斤（托盘保护）   32.80   \n2                  京鲜到手剥2k冰糖子西瓜 严选头茬5.5-6斤装（2个瓜）新鲜应季水果   39.90   \n3    爱心东东\\t\\n四叔公果蔬8424冰糖麒麟西瓜 现摘爆甜新鲜西瓜当季水果黑美人脆甜薄皮西瓜 ...   39.00   \n4                       \\n京鲜生 国产麒麟西瓜 1粒装 单果约3.5kg 生鲜水果   46.90   \n..                                                 ...     ...   \n175                          静益乐源8424麒麟西瓜 新鲜水果 一个装4-5斤   29.90   \n176         玫栀山东仁风富硒黄瓤西瓜礼盒黄心水果当季新鲜脆甜迷你整箱顺丰 5斤礼盒装（2-3个）   79.00   \n177                            美都无籽麒麟瓜 当季大西瓜2个装 单个6-7斤  118.00   \n178                   鲜福林云南麒麟西瓜 冰淇淋红壤甜西瓜新鲜应季水果现摘 7-8斤装   39.90   \n179  吕大鲜庞各庄西瓜牛奶冰糖吊瓜正宗北京大兴迷你薄皮小西瓜礼盒装L600 3-4个普通装（12-...   93.90   \n\n                                                 Image        Shop  \n0    //img11.360buyimg.com/n7/jfs/t1/220542/36/7792...    水果京东自营专区  \n1    //img14.360buyimg.com/n7/jfs/t1/97570/19/37945...     荣鼎生鲜专营店  \n2    //img12.360buyimg.com/n7/jfs/t1/173196/10/3069...  京鲜到京东自营旗舰店  \n3    //img13.360buyimg.com/n7/jfs/t1/166066/6/35978...    中国特产·祥符馆  \n4    //img12.360buyimg.com/n7/jfs/t1/83702/2/2163/4...    水果京东自营专区  \n..                                                 ...         ...  \n175  //img10.360buyimg.com/n7/jfs/t1/172675/28/2300...   草帽兄弟果蔬专营店  \n176  //img10.360buyimg.com/n7/jfs/t1/80796/8/24394/...     儒川生鲜专营店  \n177  //img13.360buyimg.com/n7/jfs/t1/196360/37/2523...     柏馋水果旗舰店  \n178  //img14.360buyimg.com/n7/jfs/t1/182224/25/3409...    鲜福林官方旗舰店  \n179  //img13.360buyimg.com/n7/jfs/t1/136815/6/31173...    吕大鲜生鲜旗舰店  \n\n[149 rows x 6 columns]",
      "text/html": "<div>\n<style scoped>\n    .dataframe tbody tr th:only-of-type {\n        vertical-align: middle;\n    }\n\n    .dataframe tbody tr th {\n        vertical-align: top;\n    }\n\n    .dataframe thead th {\n        text-align: right;\n    }\n</style>\n<table border=\"1\" class=\"dataframe\">\n  <thead>\n    <tr style=\"text-align: right;\">\n      <th></th>\n      <th>SKU</th>\n      <th>Title</th>\n      <th>Description</th>\n      <th>Price</th>\n      <th>Image</th>\n      <th>Shop</th>\n    </tr>\n  </thead>\n  <tbody>\n    <tr>\n      <th>0</th>\n      <td>4014101</td>\n      <td>绿衣裹红瓤，果味清新甘甜，果肉鲜脆多汁，喷涌汁液清甜入喉，甜蜜直达心田！</td>\n      <td>\\n京鲜生 国产麒麟西瓜 1粒装 单果2.5kg以上 生鲜水果</td>\n      <td>39.90</td>\n      <td>//img11.360buyimg.com/n7/jfs/t1/220542/36/7792...</td>\n      <td>水果京东自营专区</td>\n    </tr>\n    <tr>\n      <th>1</th>\n      <td>10028804239779</td>\n      <td>头茬鲜果，泡沫卡槽箱包装，精选阳面瓜，一瓜一藤，不仅脆而且甜，入口化进心里，留不住的夏天就吃掉</td>\n      <td>京愿 新鲜8424麒麟西瓜 现摘甜心新鲜大西瓜麒麟西瓜当季应季水果生鲜 优选4-5斤（托盘保护）</td>\n      <td>32.80</td>\n      <td>//img14.360buyimg.com/n7/jfs/t1/97570/19/37945...</td>\n      <td>荣鼎生鲜专营店</td>\n    </tr>\n    <tr>\n      <th>2</th>\n      <td>100055936077</td>\n      <td></td>\n      <td>京鲜到手剥2k冰糖子西瓜 严选头茬5.5-6斤装（2个瓜）新鲜应季水果</td>\n      <td>39.90</td>\n      <td>//img12.360buyimg.com/n7/jfs/t1/173196/10/3069...</td>\n      <td>京鲜到京东自营旗舰店</td>\n    </tr>\n    <tr>\n      <th>3</th>\n      <td>10070743806818</td>\n      <td>【精选阳面瓜，一瓜一藤】【不仅脆而且甜，入口化进心里】【留不住的夏天就吃掉】更多京选果蔬请点击~</td>\n      <td>爱心东东\\t\\n四叔公果蔬8424冰糖麒麟西瓜 现摘爆甜新鲜西瓜当季水果黑美人脆甜薄皮西瓜 ...</td>\n      <td>39.00</td>\n      <td>//img13.360buyimg.com/n7/jfs/t1/166066/6/35978...</td>\n      <td>中国特产·祥符馆</td>\n    </tr>\n    <tr>\n      <th>4</th>\n      <td>100001809857</td>\n      <td>炎炎夏日，解暑必备，绿衣裹红瓤，果味清新甘甜，果肉鲜脆多汁，甜蜜清凉直达心田！</td>\n      <td>\\n京鲜生 国产麒麟西瓜 1粒装 单果约3.5kg 生鲜水果</td>\n      <td>46.90</td>\n      <td>//img12.360buyimg.com/n7/jfs/t1/83702/2/2163/4...</td>\n      <td>水果京东自营专区</td>\n    </tr>\n    <tr>\n      <th>...</th>\n      <td>...</td>\n      <td>...</td>\n      <td>...</td>\n      <td>...</td>\n      <td>...</td>\n      <td>...</td>\n    </tr>\n    <tr>\n      <th>175</th>\n      <td>10040987514870</td>\n      <td></td>\n      <td>静益乐源8424麒麟西瓜 新鲜水果 一个装4-5斤</td>\n      <td>29.90</td>\n      <td>//img10.360buyimg.com/n7/jfs/t1/172675/28/2300...</td>\n      <td>草帽兄弟果蔬专营店</td>\n    </tr>\n    <tr>\n      <th>176</th>\n      <td>10070479027470</td>\n      <td>顺丰产地当天现摘24小时发货！皮薄甜脆爽口，入口即化的冰淇淋黄瓤小西瓜。</td>\n      <td>玫栀山东仁风富硒黄瓤西瓜礼盒黄心水果当季新鲜脆甜迷你整箱顺丰 5斤礼盒装（2-3个）</td>\n      <td>79.00</td>\n      <td>//img10.360buyimg.com/n7/jfs/t1/80796/8/24394/...</td>\n      <td>儒川生鲜专营店</td>\n    </tr>\n    <tr>\n      <th>177</th>\n      <td>10052049704058</td>\n      <td></td>\n      <td>美都无籽麒麟瓜 当季大西瓜2个装 单个6-7斤</td>\n      <td>118.00</td>\n      <td>//img13.360buyimg.com/n7/jfs/t1/196360/37/2523...</td>\n      <td>柏馋水果旗舰店</td>\n    </tr>\n    <tr>\n      <th>178</th>\n      <td>10071821005169</td>\n      <td>盛夏之王，麒麟瓜肉紧致，口感脆甜，汁水丰富</td>\n      <td>鲜福林云南麒麟西瓜 冰淇淋红壤甜西瓜新鲜应季水果现摘 7-8斤装</td>\n      <td>39.90</td>\n      <td>//img14.360buyimg.com/n7/jfs/t1/182224/25/3409...</td>\n      <td>鲜福林官方旗舰店</td>\n    </tr>\n    <tr>\n      <th>179</th>\n      <td>10054706654013</td>\n      <td>优惠促销</td>\n      <td>吕大鲜庞各庄西瓜牛奶冰糖吊瓜正宗北京大兴迷你薄皮小西瓜礼盒装L600 3-4个普通装（12-...</td>\n      <td>93.90</td>\n      <td>//img13.360buyimg.com/n7/jfs/t1/136815/6/31173...</td>\n      <td>吕大鲜生鲜旗舰店</td>\n    </tr>\n  </tbody>\n</table>\n<p>149 rows × 6 columns</p>\n</div>"
     },
     "execution_count": 4,
     "metadata": {},
     "output_type": "execute_result"
    }
   ],
   "source": [
    "using_item = item_info.drop_duplicates(['SKU'])\n",
    "using_item.to_excel('./data/TOP销量西瓜SKU.xlsx')\n",
    "using_item"
   ],
   "metadata": {
    "collapsed": false,
    "pycharm": {
     "name": "#%%\n"
    }
   }
  },
  {
   "cell_type": "code",
   "execution_count": 75,
   "outputs": [
    {
     "data": {
      "text/plain": "<li bybt=\"0\" class=\"gl-item\" data-sku=\"10067190829023\" data-spu=\"10023554368043\" ware-type=\"1\">\n<div class=\"gl-i-wrap\">\n<div class=\"p-img\">\n<a delimiter=\"&amp;\" href=\"//item.jd.com/10067190829023.html?bbtf=1\" onclick=\"searchlog(1, '10067190829023','29','2','','flagsClk=419444');\" target=\"_blank\" title=\"\">\n<img data-img=\"1\" data-lazy-img=\"//img13.360buyimg.com/n7/jfs/t1/103743/15/32233/142341/63a4417fE366f8143/36ea5022dbbd6160.jpg\" height=\"220\" width=\"220\">\n</img></a>\n<div data-catid=\"14053\" data-lease=\"\" data-presale=\"0\" data-venid=\"12342639\"></div>\n</div>\n<div class=\"p-price\">\n<strong class=\"J_10067190829023\" data-done=\"1\" data-presale=\"0\">\n<em>￥</em><i data-price=\"10067190829023\">39.90</i>\n</strong>\n</div>\n<div class=\"p-name p-name-type-2\">\n<a delimiter=\"&amp;\" href=\"//item.jd.com/10067190829023.html?bbtf=1\" onclick=\"searchlog(1, '10067190829023','29','1','','flagsClk=419444');\" target=\"_blank\" title=\"\">\n<em>瀚部麒麟<font class=\"skcolor_ljg\">西瓜</font> 现摘8424<font class=\"skcolor_ljg\">西瓜</font>美都无籽<font class=\"skcolor_ljg\">西瓜</font> 新鲜现采水果 8424无籽1粒装 （单果5-6斤）</em>\n<i class=\"promo-words\" id=\"J_AD_10067190829023\"></i>\n</a>\n</div>\n<div class=\"p-commit\">\n<strong><a delimiter=\"&amp;\" href=\"//item.jd.com/10067190829023.html?bbtf=1#comment\" id=\"J_comment_10067190829023\" onclick=\"searchlog(1, '10067190829023','29','3','','flagsClk=419444');\" target=\"_blank\"></a></strong>\n</div>\n<div class=\"p-shop\" data-dongdong=\"\" data-reputation=\"100\" data-score=\"5\" data-selfware=\"0\">\n<span class=\"J_im_icon\"><a class=\"curr-shop hd-shopname\" href=\"//mall.jd.com/index-12039801.html?from=pc\" onclick=\"searchlog(1,'12039801',0,58)\" target=\"_blank\" title=\"瀚部生鲜旗舰店\">瀚部生鲜旗舰店</a></span>\n</div>\n<div class=\"p-icons\" data-done=\"1\" id=\"J_pro_10067190829023\">\n<i class=\"goods-icons4 J-picon-tips J-picon-fix\" data-idx=\"1\" data-tips=\"京东物流仓配，商家提供售后服务\">京东物流</i>\n<i class=\"goods-icons4 J-picon-tips\" data-idx=\"1\" data-tips=\"品质服务，放心购物\" style=\"border-color:#4d88ff;color:#4d88ff;\">放心购</i>\n<i class=\"goods-icons4 J-picon-tips\" data-tips=\"本商品可领用优惠券\">券50-3</i>\n<i class=\"goods-icons4 J-picon-tips\" data-tips=\"本商品参与满减促销\">满100-5</i>\n</div>\n<div class=\"p-operate\">\n<a class=\"p-o-btn contrast J_contrast contrast\" data-sku=\"10067190829023\" href=\"javascript:;\" onclick=\"searchlog(1, '10067190829023','29','6','','flagsClk=419444')\"><i></i>对比</a>\n<a class=\"p-o-btn focus J_focus\" data-sku=\"10067190829023\" href=\"javascript:;\" onclick=\"searchlog(1, '10067190829023','29','5','','flagsClk=419444')\"><i></i>关注</a>\n<a class=\"p-o-btn addcart\" data-limit=\"0\" data-stocknew=\"10067190829023\" href=\"//cart.jd.com/gate.action?pid=10067190829023&amp;pcount=1&amp;ptype=1\" onclick=\"searchlog(1, '10067190829023','29','4','','flagsClk=419444')\" target=\"_blank\"><i></i>加入购物车</a>\n</div>\n<div class=\"p-stock hide\" data-province=\"四川\" data-stocknew=\"10067190829023\"></div>\n</div>\n</li>"
     },
     "execution_count": 75,
     "metadata": {},
     "output_type": "execute_result"
    }
   ],
   "source": [
    "good_info"
   ],
   "metadata": {
    "collapsed": false,
    "pycharm": {
     "name": "#%%\n"
    }
   }
  },
  {
   "cell_type": "code",
   "execution_count": 2,
   "outputs": [
    {
     "data": {
      "text/plain": "     Unnamed: 0             SKU  \\\n0             0         4014101   \n1             1  10028804239779   \n2             2    100055936077   \n3             3  10070743806818   \n4             4    100001809857   \n..          ...             ...   \n144         175  10040987514870   \n145         176  10070479027470   \n146         177  10052049704058   \n147         178  10071821005169   \n148         179  10054706654013   \n\n                                                Title  \\\n0                绿衣裹红瓤，果味清新甘甜，果肉鲜脆多汁，喷涌汁液清甜入喉，甜蜜直达心田！   \n1     头茬鲜果，泡沫卡槽箱包装，精选阳面瓜，一瓜一藤，不仅脆而且甜，入口化进心里，留不住的夏天就吃掉   \n2                                                 NaN   \n3    【精选阳面瓜，一瓜一藤】【不仅脆而且甜，入口化进心里】【留不住的夏天就吃掉】更多京选果蔬请点击~   \n4             炎炎夏日，解暑必备，绿衣裹红瓤，果味清新甘甜，果肉鲜脆多汁，甜蜜清凉直达心田！   \n..                                                ...   \n144                                               NaN   \n145              顺丰产地当天现摘24小时发货！皮薄甜脆爽口，入口即化的冰淇淋黄瓤小西瓜。   \n146                                               NaN   \n147                             盛夏之王，麒麟瓜肉紧致，口感脆甜，汁水丰富   \n148                                              优惠促销   \n\n                                           Description  Price  \\\n0                      \\n京鲜生 国产麒麟西瓜 1粒装 单果2.5kg以上 生鲜水果   39.9   \n1     京愿 新鲜8424麒麟西瓜 现摘甜心新鲜大西瓜麒麟西瓜当季应季水果生鲜 优选4-5斤（托盘保护）   32.8   \n2                  京鲜到手剥2k冰糖子西瓜 严选头茬5.5-6斤装（2个瓜）新鲜应季水果   39.9   \n3    爱心东东\\t\\n四叔公果蔬8424冰糖麒麟西瓜 现摘爆甜新鲜西瓜当季水果黑美人脆甜薄皮西瓜 ...   39.0   \n4                       \\n京鲜生 国产麒麟西瓜 1粒装 单果约3.5kg 生鲜水果   46.9   \n..                                                 ...    ...   \n144                          静益乐源8424麒麟西瓜 新鲜水果 一个装4-5斤   29.9   \n145         玫栀山东仁风富硒黄瓤西瓜礼盒黄心水果当季新鲜脆甜迷你整箱顺丰 5斤礼盒装（2-3个）   79.0   \n146                            美都无籽麒麟瓜 当季大西瓜2个装 单个6-7斤  118.0   \n147                   鲜福林云南麒麟西瓜 冰淇淋红壤甜西瓜新鲜应季水果现摘 7-8斤装   39.9   \n148  吕大鲜庞各庄西瓜牛奶冰糖吊瓜正宗北京大兴迷你薄皮小西瓜礼盒装L600 3-4个普通装（12-...   93.9   \n\n                                                 Image        Shop  \n0    //img11.360buyimg.com/n7/jfs/t1/220542/36/7792...    水果京东自营专区  \n1    //img14.360buyimg.com/n7/jfs/t1/97570/19/37945...     荣鼎生鲜专营店  \n2    //img12.360buyimg.com/n7/jfs/t1/173196/10/3069...  京鲜到京东自营旗舰店  \n3    //img13.360buyimg.com/n7/jfs/t1/166066/6/35978...    中国特产·祥符馆  \n4    //img12.360buyimg.com/n7/jfs/t1/83702/2/2163/4...    水果京东自营专区  \n..                                                 ...         ...  \n144  //img10.360buyimg.com/n7/jfs/t1/172675/28/2300...   草帽兄弟果蔬专营店  \n145  //img10.360buyimg.com/n7/jfs/t1/80796/8/24394/...     儒川生鲜专营店  \n146  //img13.360buyimg.com/n7/jfs/t1/196360/37/2523...     柏馋水果旗舰店  \n147  //img14.360buyimg.com/n7/jfs/t1/182224/25/3409...    鲜福林官方旗舰店  \n148  //img13.360buyimg.com/n7/jfs/t1/136815/6/31173...    吕大鲜生鲜旗舰店  \n\n[149 rows x 7 columns]",
      "text/html": "<div>\n<style scoped>\n    .dataframe tbody tr th:only-of-type {\n        vertical-align: middle;\n    }\n\n    .dataframe tbody tr th {\n        vertical-align: top;\n    }\n\n    .dataframe thead th {\n        text-align: right;\n    }\n</style>\n<table border=\"1\" class=\"dataframe\">\n  <thead>\n    <tr style=\"text-align: right;\">\n      <th></th>\n      <th>Unnamed: 0</th>\n      <th>SKU</th>\n      <th>Title</th>\n      <th>Description</th>\n      <th>Price</th>\n      <th>Image</th>\n      <th>Shop</th>\n    </tr>\n  </thead>\n  <tbody>\n    <tr>\n      <th>0</th>\n      <td>0</td>\n      <td>4014101</td>\n      <td>绿衣裹红瓤，果味清新甘甜，果肉鲜脆多汁，喷涌汁液清甜入喉，甜蜜直达心田！</td>\n      <td>\\n京鲜生 国产麒麟西瓜 1粒装 单果2.5kg以上 生鲜水果</td>\n      <td>39.9</td>\n      <td>//img11.360buyimg.com/n7/jfs/t1/220542/36/7792...</td>\n      <td>水果京东自营专区</td>\n    </tr>\n    <tr>\n      <th>1</th>\n      <td>1</td>\n      <td>10028804239779</td>\n      <td>头茬鲜果，泡沫卡槽箱包装，精选阳面瓜，一瓜一藤，不仅脆而且甜，入口化进心里，留不住的夏天就吃掉</td>\n      <td>京愿 新鲜8424麒麟西瓜 现摘甜心新鲜大西瓜麒麟西瓜当季应季水果生鲜 优选4-5斤（托盘保护）</td>\n      <td>32.8</td>\n      <td>//img14.360buyimg.com/n7/jfs/t1/97570/19/37945...</td>\n      <td>荣鼎生鲜专营店</td>\n    </tr>\n    <tr>\n      <th>2</th>\n      <td>2</td>\n      <td>100055936077</td>\n      <td>NaN</td>\n      <td>京鲜到手剥2k冰糖子西瓜 严选头茬5.5-6斤装（2个瓜）新鲜应季水果</td>\n      <td>39.9</td>\n      <td>//img12.360buyimg.com/n7/jfs/t1/173196/10/3069...</td>\n      <td>京鲜到京东自营旗舰店</td>\n    </tr>\n    <tr>\n      <th>3</th>\n      <td>3</td>\n      <td>10070743806818</td>\n      <td>【精选阳面瓜，一瓜一藤】【不仅脆而且甜，入口化进心里】【留不住的夏天就吃掉】更多京选果蔬请点击~</td>\n      <td>爱心东东\\t\\n四叔公果蔬8424冰糖麒麟西瓜 现摘爆甜新鲜西瓜当季水果黑美人脆甜薄皮西瓜 ...</td>\n      <td>39.0</td>\n      <td>//img13.360buyimg.com/n7/jfs/t1/166066/6/35978...</td>\n      <td>中国特产·祥符馆</td>\n    </tr>\n    <tr>\n      <th>4</th>\n      <td>4</td>\n      <td>100001809857</td>\n      <td>炎炎夏日，解暑必备，绿衣裹红瓤，果味清新甘甜，果肉鲜脆多汁，甜蜜清凉直达心田！</td>\n      <td>\\n京鲜生 国产麒麟西瓜 1粒装 单果约3.5kg 生鲜水果</td>\n      <td>46.9</td>\n      <td>//img12.360buyimg.com/n7/jfs/t1/83702/2/2163/4...</td>\n      <td>水果京东自营专区</td>\n    </tr>\n    <tr>\n      <th>...</th>\n      <td>...</td>\n      <td>...</td>\n      <td>...</td>\n      <td>...</td>\n      <td>...</td>\n      <td>...</td>\n      <td>...</td>\n    </tr>\n    <tr>\n      <th>144</th>\n      <td>175</td>\n      <td>10040987514870</td>\n      <td>NaN</td>\n      <td>静益乐源8424麒麟西瓜 新鲜水果 一个装4-5斤</td>\n      <td>29.9</td>\n      <td>//img10.360buyimg.com/n7/jfs/t1/172675/28/2300...</td>\n      <td>草帽兄弟果蔬专营店</td>\n    </tr>\n    <tr>\n      <th>145</th>\n      <td>176</td>\n      <td>10070479027470</td>\n      <td>顺丰产地当天现摘24小时发货！皮薄甜脆爽口，入口即化的冰淇淋黄瓤小西瓜。</td>\n      <td>玫栀山东仁风富硒黄瓤西瓜礼盒黄心水果当季新鲜脆甜迷你整箱顺丰 5斤礼盒装（2-3个）</td>\n      <td>79.0</td>\n      <td>//img10.360buyimg.com/n7/jfs/t1/80796/8/24394/...</td>\n      <td>儒川生鲜专营店</td>\n    </tr>\n    <tr>\n      <th>146</th>\n      <td>177</td>\n      <td>10052049704058</td>\n      <td>NaN</td>\n      <td>美都无籽麒麟瓜 当季大西瓜2个装 单个6-7斤</td>\n      <td>118.0</td>\n      <td>//img13.360buyimg.com/n7/jfs/t1/196360/37/2523...</td>\n      <td>柏馋水果旗舰店</td>\n    </tr>\n    <tr>\n      <th>147</th>\n      <td>178</td>\n      <td>10071821005169</td>\n      <td>盛夏之王，麒麟瓜肉紧致，口感脆甜，汁水丰富</td>\n      <td>鲜福林云南麒麟西瓜 冰淇淋红壤甜西瓜新鲜应季水果现摘 7-8斤装</td>\n      <td>39.9</td>\n      <td>//img14.360buyimg.com/n7/jfs/t1/182224/25/3409...</td>\n      <td>鲜福林官方旗舰店</td>\n    </tr>\n    <tr>\n      <th>148</th>\n      <td>179</td>\n      <td>10054706654013</td>\n      <td>优惠促销</td>\n      <td>吕大鲜庞各庄西瓜牛奶冰糖吊瓜正宗北京大兴迷你薄皮小西瓜礼盒装L600 3-4个普通装（12-...</td>\n      <td>93.9</td>\n      <td>//img13.360buyimg.com/n7/jfs/t1/136815/6/31173...</td>\n      <td>吕大鲜生鲜旗舰店</td>\n    </tr>\n  </tbody>\n</table>\n<p>149 rows × 7 columns</p>\n</div>"
     },
     "execution_count": 2,
     "metadata": {},
     "output_type": "execute_result"
    }
   ],
   "source": [
    "using_item = pd.read_excel(r'./data/TOP销量西瓜SKU.xlsx')\n",
    "using_item"
   ],
   "metadata": {
    "collapsed": false,
    "pycharm": {
     "name": "#%%\n"
    }
   }
  },
  {
   "cell_type": "code",
   "execution_count": 19,
   "outputs": [
    {
     "data": {
      "text/plain": "            id                              guid  \\\n0  19061575487  c4131842b044e8477c7a84739b752ed4   \n1  19044741994  63dd64c9e9b4a1479dcd1d485c66b62d   \n2  19066564097  43779bb6b72eb117aabc7e7e7c6cbdb1   \n3  19104773010  38250562de53b1f5f29855a34a62372d   \n4  19088311477  4de66238fa013cdc87d0694cccdbb4a0   \n5  19078823764  2133c4bbf458e78686a3fc46721efb4a   \n6  19051149061  7105378bf39688cde87e9ed81097ff83   \n7  19047519835  7b51ed66887a4489425e7831d8001395   \n8  19061754212  54fad4cf76b89e026f5f3fa14126246f   \n9  19089918743  255c92b584e4e08f7e87e717437fe1b3   \n\n                                             content         creationTime  \\\n0                                        皮厚，而且还一点都不甜  2023-04-27 18:34:51   \n1                        这个季节大概不适合吃西瓜吧，京东的售后倒是一如既往的好  2023-04-22 15:03:51   \n2  特别离谱，人生中第一次吃到这样的西瓜，切看看着还行，除了劈开的时候感觉硬邦邦的，不似平常的感...  2023-04-29 10:11:07   \n3            像是打了糖水，看着都不是那么熟，还齁甜，个头也不大，而且买的罐头没有一起送过来  2023-05-12 14:17:18   \n4                             大小ok，甜度一般，快递很给力，没有麒麟瓜甜  2023-05-06 20:36:52   \n5  当天到了就开了一个，瓜肉较硬，甜。第三天想开第二个，结果瓜藤那边有点发霉，家人直接扔了，没和...  2023-05-03 17:17:19   \n6                                黑美人西瓜太一半了 有点过熟 甜度一般  2023-04-24 09:49:28   \n7                                还没有长好 肉比较硬 比较僵 不合适吃  2023-04-23 11:54:24   \n8                                       熟透的西瓜居然一点都不甜  2023-04-27 19:39:35   \n9  怎么说呢，西瓜这个季节还不算甜，并不是很好吃，脆生脆生的，不是很建议买，这次买的水果，蓝莓最...  2023-05-07 13:33:04   \n\n   isDelete  isTop                                       userImageUrl  topped  \\\n0     False  False  storage.360buyimg.com/i.imageUpload/6a645f3764...       0   \n1     False  False  misc.360buyimg.com/user/myjd-2015/css/i/peison...       0   \n2     False  False  misc.360buyimg.com/user/myjd-2015/css/i/peison...       0   \n3     False  False  misc.360buyimg.com/user/myjd-2015/css/i/peison...       0   \n4     False  False  misc.360buyimg.com/user/myjd-2015/css/i/peison...       0   \n5     False  False  misc.360buyimg.com/user/myjd-2015/css/i/peison...       0   \n6     False  False  storage.360buyimg.com/i.imageUpload/736162726f...       0   \n7     False  False  storage.360buyimg.com/i.imageUpload/6a645f3662...       0   \n8     False  False  misc.360buyimg.com/user/myjd-2015/css/i/peison...       0   \n9     False  False  storage.360buyimg.com/i.imageUpload/63616f616e...       0   \n\n                                             replies  replyCount  ...  \\\n0  [{'id': 1205630624, 'commentId': 19061575487, ...           1  ...   \n1  [{'id': 1203557473, 'commentId': 19044741994, ...           1  ...   \n2                                                NaN           0  ...   \n3                                                NaN           0  ...   \n4                                                NaN           0  ...   \n5  [{'id': 1207402549, 'commentId': 19078823764, ...           1  ...   \n6                                                NaN           0  ...   \n7                                                NaN           0  ...   \n8                                                NaN           0  ...   \n9                                                NaN           0  ...   \n\n   integral  productSales                                     referenceImage  \\\n0        20            []  jfs/t1/220542/36/7792/179565/61b98be4E3df720e5...   \n1        20            []  jfs/t1/220542/36/7792/179565/61b98be4E3df720e5...   \n2         0            []  jfs/t1/220542/36/7792/179565/61b98be4E3df720e5...   \n3        20            []  jfs/t1/220542/36/7792/179565/61b98be4E3df720e5...   \n4        20            []  jfs/t1/220542/36/7792/179565/61b98be4E3df720e5...   \n5        40            []  jfs/t1/220542/36/7792/179565/61b98be4E3df720e5...   \n6        20            []  jfs/t1/220542/36/7792/179565/61b98be4E3df720e5...   \n7        20            []  jfs/t1/220542/36/7792/179565/61b98be4E3df720e5...   \n8        20            []  jfs/t1/220542/36/7792/179565/61b98be4E3df720e5...   \n9        10            []  jfs/t1/220542/36/7792/179565/61b98be4E3df720e5...   \n\n                   referenceName  firstCategory  secondCategory  \\\n0  京鲜生 国产麒麟西瓜 1粒装 单果2.5kg以上 生鲜水果          12218           12221   \n1  京鲜生 国产麒麟西瓜 1粒装 单果2.5kg以上 生鲜水果          12218           12221   \n2  京鲜生 国产麒麟西瓜 1粒装 单果2.5kg以上 生鲜水果          12218           12221   \n3  京鲜生 国产麒麟西瓜 1粒装 单果2.5kg以上 生鲜水果          12218           12221   \n4  京鲜生 国产麒麟西瓜 1粒装 单果2.5kg以上 生鲜水果          12218           12221   \n5  京鲜生 国产麒麟西瓜 1粒装 单果2.5kg以上 生鲜水果          12218           12221   \n6  京鲜生 国产麒麟西瓜 1粒装 单果2.5kg以上 生鲜水果          12218           12221   \n7  京鲜生 国产麒麟西瓜 1粒装 单果2.5kg以上 生鲜水果          12218           12221   \n8  京鲜生 国产麒麟西瓜 1粒装 单果2.5kg以上 生鲜水果          12218           12221   \n9  京鲜生 国产麒麟西瓜 1粒装 单果2.5kg以上 生鲜水果          12218           12221   \n\n   thirdCategory  aesPin days afterDays  \n0          14053    None    2         0  \n1          14053    None    3         0  \n2          14053    None    6         0  \n3          14053    None    1         0  \n4          14053    None    8         0  \n5          14053    None    9         0  \n6          14053    None   24         0  \n7          14053    None    8         0  \n8          14053    None    2         0  \n9          14053    None   19         0  \n\n[10 rows x 44 columns]",
      "text/html": "<div>\n<style scoped>\n    .dataframe tbody tr th:only-of-type {\n        vertical-align: middle;\n    }\n\n    .dataframe tbody tr th {\n        vertical-align: top;\n    }\n\n    .dataframe thead th {\n        text-align: right;\n    }\n</style>\n<table border=\"1\" class=\"dataframe\">\n  <thead>\n    <tr style=\"text-align: right;\">\n      <th></th>\n      <th>id</th>\n      <th>guid</th>\n      <th>content</th>\n      <th>creationTime</th>\n      <th>isDelete</th>\n      <th>isTop</th>\n      <th>userImageUrl</th>\n      <th>topped</th>\n      <th>replies</th>\n      <th>replyCount</th>\n      <th>...</th>\n      <th>integral</th>\n      <th>productSales</th>\n      <th>referenceImage</th>\n      <th>referenceName</th>\n      <th>firstCategory</th>\n      <th>secondCategory</th>\n      <th>thirdCategory</th>\n      <th>aesPin</th>\n      <th>days</th>\n      <th>afterDays</th>\n    </tr>\n  </thead>\n  <tbody>\n    <tr>\n      <th>0</th>\n      <td>19061575487</td>\n      <td>c4131842b044e8477c7a84739b752ed4</td>\n      <td>皮厚，而且还一点都不甜</td>\n      <td>2023-04-27 18:34:51</td>\n      <td>False</td>\n      <td>False</td>\n      <td>storage.360buyimg.com/i.imageUpload/6a645f3764...</td>\n      <td>0</td>\n      <td>[{'id': 1205630624, 'commentId': 19061575487, ...</td>\n      <td>1</td>\n      <td>...</td>\n      <td>20</td>\n      <td>[]</td>\n      <td>jfs/t1/220542/36/7792/179565/61b98be4E3df720e5...</td>\n      <td>京鲜生 国产麒麟西瓜 1粒装 单果2.5kg以上 生鲜水果</td>\n      <td>12218</td>\n      <td>12221</td>\n      <td>14053</td>\n      <td>None</td>\n      <td>2</td>\n      <td>0</td>\n    </tr>\n    <tr>\n      <th>1</th>\n      <td>19044741994</td>\n      <td>63dd64c9e9b4a1479dcd1d485c66b62d</td>\n      <td>这个季节大概不适合吃西瓜吧，京东的售后倒是一如既往的好</td>\n      <td>2023-04-22 15:03:51</td>\n      <td>False</td>\n      <td>False</td>\n      <td>misc.360buyimg.com/user/myjd-2015/css/i/peison...</td>\n      <td>0</td>\n      <td>[{'id': 1203557473, 'commentId': 19044741994, ...</td>\n      <td>1</td>\n      <td>...</td>\n      <td>20</td>\n      <td>[]</td>\n      <td>jfs/t1/220542/36/7792/179565/61b98be4E3df720e5...</td>\n      <td>京鲜生 国产麒麟西瓜 1粒装 单果2.5kg以上 生鲜水果</td>\n      <td>12218</td>\n      <td>12221</td>\n      <td>14053</td>\n      <td>None</td>\n      <td>3</td>\n      <td>0</td>\n    </tr>\n    <tr>\n      <th>2</th>\n      <td>19066564097</td>\n      <td>43779bb6b72eb117aabc7e7e7c6cbdb1</td>\n      <td>特别离谱，人生中第一次吃到这样的西瓜，切看看着还行，除了劈开的时候感觉硬邦邦的，不似平常的感...</td>\n      <td>2023-04-29 10:11:07</td>\n      <td>False</td>\n      <td>False</td>\n      <td>misc.360buyimg.com/user/myjd-2015/css/i/peison...</td>\n      <td>0</td>\n      <td>NaN</td>\n      <td>0</td>\n      <td>...</td>\n      <td>0</td>\n      <td>[]</td>\n      <td>jfs/t1/220542/36/7792/179565/61b98be4E3df720e5...</td>\n      <td>京鲜生 国产麒麟西瓜 1粒装 单果2.5kg以上 生鲜水果</td>\n      <td>12218</td>\n      <td>12221</td>\n      <td>14053</td>\n      <td>None</td>\n      <td>6</td>\n      <td>0</td>\n    </tr>\n    <tr>\n      <th>3</th>\n      <td>19104773010</td>\n      <td>38250562de53b1f5f29855a34a62372d</td>\n      <td>像是打了糖水，看着都不是那么熟，还齁甜，个头也不大，而且买的罐头没有一起送过来</td>\n      <td>2023-05-12 14:17:18</td>\n      <td>False</td>\n      <td>False</td>\n      <td>misc.360buyimg.com/user/myjd-2015/css/i/peison...</td>\n      <td>0</td>\n      <td>NaN</td>\n      <td>0</td>\n      <td>...</td>\n      <td>20</td>\n      <td>[]</td>\n      <td>jfs/t1/220542/36/7792/179565/61b98be4E3df720e5...</td>\n      <td>京鲜生 国产麒麟西瓜 1粒装 单果2.5kg以上 生鲜水果</td>\n      <td>12218</td>\n      <td>12221</td>\n      <td>14053</td>\n      <td>None</td>\n      <td>1</td>\n      <td>0</td>\n    </tr>\n    <tr>\n      <th>4</th>\n      <td>19088311477</td>\n      <td>4de66238fa013cdc87d0694cccdbb4a0</td>\n      <td>大小ok，甜度一般，快递很给力，没有麒麟瓜甜</td>\n      <td>2023-05-06 20:36:52</td>\n      <td>False</td>\n      <td>False</td>\n      <td>misc.360buyimg.com/user/myjd-2015/css/i/peison...</td>\n      <td>0</td>\n      <td>NaN</td>\n      <td>0</td>\n      <td>...</td>\n      <td>20</td>\n      <td>[]</td>\n      <td>jfs/t1/220542/36/7792/179565/61b98be4E3df720e5...</td>\n      <td>京鲜生 国产麒麟西瓜 1粒装 单果2.5kg以上 生鲜水果</td>\n      <td>12218</td>\n      <td>12221</td>\n      <td>14053</td>\n      <td>None</td>\n      <td>8</td>\n      <td>0</td>\n    </tr>\n    <tr>\n      <th>5</th>\n      <td>19078823764</td>\n      <td>2133c4bbf458e78686a3fc46721efb4a</td>\n      <td>当天到了就开了一个，瓜肉较硬，甜。第三天想开第二个，结果瓜藤那边有点发霉，家人直接扔了，没和...</td>\n      <td>2023-05-03 17:17:19</td>\n      <td>False</td>\n      <td>False</td>\n      <td>misc.360buyimg.com/user/myjd-2015/css/i/peison...</td>\n      <td>0</td>\n      <td>[{'id': 1207402549, 'commentId': 19078823764, ...</td>\n      <td>1</td>\n      <td>...</td>\n      <td>40</td>\n      <td>[]</td>\n      <td>jfs/t1/220542/36/7792/179565/61b98be4E3df720e5...</td>\n      <td>京鲜生 国产麒麟西瓜 1粒装 单果2.5kg以上 生鲜水果</td>\n      <td>12218</td>\n      <td>12221</td>\n      <td>14053</td>\n      <td>None</td>\n      <td>9</td>\n      <td>0</td>\n    </tr>\n    <tr>\n      <th>6</th>\n      <td>19051149061</td>\n      <td>7105378bf39688cde87e9ed81097ff83</td>\n      <td>黑美人西瓜太一半了 有点过熟 甜度一般</td>\n      <td>2023-04-24 09:49:28</td>\n      <td>False</td>\n      <td>False</td>\n      <td>storage.360buyimg.com/i.imageUpload/736162726f...</td>\n      <td>0</td>\n      <td>NaN</td>\n      <td>0</td>\n      <td>...</td>\n      <td>20</td>\n      <td>[]</td>\n      <td>jfs/t1/220542/36/7792/179565/61b98be4E3df720e5...</td>\n      <td>京鲜生 国产麒麟西瓜 1粒装 单果2.5kg以上 生鲜水果</td>\n      <td>12218</td>\n      <td>12221</td>\n      <td>14053</td>\n      <td>None</td>\n      <td>24</td>\n      <td>0</td>\n    </tr>\n    <tr>\n      <th>7</th>\n      <td>19047519835</td>\n      <td>7b51ed66887a4489425e7831d8001395</td>\n      <td>还没有长好 肉比较硬 比较僵 不合适吃</td>\n      <td>2023-04-23 11:54:24</td>\n      <td>False</td>\n      <td>False</td>\n      <td>storage.360buyimg.com/i.imageUpload/6a645f3662...</td>\n      <td>0</td>\n      <td>NaN</td>\n      <td>0</td>\n      <td>...</td>\n      <td>20</td>\n      <td>[]</td>\n      <td>jfs/t1/220542/36/7792/179565/61b98be4E3df720e5...</td>\n      <td>京鲜生 国产麒麟西瓜 1粒装 单果2.5kg以上 生鲜水果</td>\n      <td>12218</td>\n      <td>12221</td>\n      <td>14053</td>\n      <td>None</td>\n      <td>8</td>\n      <td>0</td>\n    </tr>\n    <tr>\n      <th>8</th>\n      <td>19061754212</td>\n      <td>54fad4cf76b89e026f5f3fa14126246f</td>\n      <td>熟透的西瓜居然一点都不甜</td>\n      <td>2023-04-27 19:39:35</td>\n      <td>False</td>\n      <td>False</td>\n      <td>misc.360buyimg.com/user/myjd-2015/css/i/peison...</td>\n      <td>0</td>\n      <td>NaN</td>\n      <td>0</td>\n      <td>...</td>\n      <td>20</td>\n      <td>[]</td>\n      <td>jfs/t1/220542/36/7792/179565/61b98be4E3df720e5...</td>\n      <td>京鲜生 国产麒麟西瓜 1粒装 单果2.5kg以上 生鲜水果</td>\n      <td>12218</td>\n      <td>12221</td>\n      <td>14053</td>\n      <td>None</td>\n      <td>2</td>\n      <td>0</td>\n    </tr>\n    <tr>\n      <th>9</th>\n      <td>19089918743</td>\n      <td>255c92b584e4e08f7e87e717437fe1b3</td>\n      <td>怎么说呢，西瓜这个季节还不算甜，并不是很好吃，脆生脆生的，不是很建议买，这次买的水果，蓝莓最...</td>\n      <td>2023-05-07 13:33:04</td>\n      <td>False</td>\n      <td>False</td>\n      <td>storage.360buyimg.com/i.imageUpload/63616f616e...</td>\n      <td>0</td>\n      <td>NaN</td>\n      <td>0</td>\n      <td>...</td>\n      <td>10</td>\n      <td>[]</td>\n      <td>jfs/t1/220542/36/7792/179565/61b98be4E3df720e5...</td>\n      <td>京鲜生 国产麒麟西瓜 1粒装 单果2.5kg以上 生鲜水果</td>\n      <td>12218</td>\n      <td>12221</td>\n      <td>14053</td>\n      <td>None</td>\n      <td>19</td>\n      <td>0</td>\n    </tr>\n  </tbody>\n</table>\n<p>10 rows × 44 columns</p>\n</div>"
     },
     "execution_count": 19,
     "metadata": {},
     "output_type": "execute_result"
    }
   ],
   "source": [
    "# 单个单页评论\n",
    "score = 2\n",
    "sku = using_item['SKU'][0]\n",
    "page = 1 # 0对应5星、1对应1星、2、3、4对应2、3、4星\n",
    "url_comm = f'https://sclub.jd.com/comment/productPageComments.action?productId=' + str(sku) + f'&score={score}&sortType=5&'+'page='+str(page)+'&pageSize=10&isShadowSku=0&rid=0&fold=1'\n",
    "res = requests.get(url_comm)\n",
    "html_comm=res.text\n",
    "json_html_comm=json.loads(html_comm)\n",
    "comment_list=json_html_comm['comments']\n",
    "pd.DataFrame(comment_list)"
   ],
   "metadata": {
    "collapsed": false,
    "pycharm": {
     "name": "#%%\n"
    }
   }
  },
  {
   "cell_type": "code",
   "execution_count": null,
   "outputs": [],
   "source": [
    "## 根据SKU来爬取评论数据\n",
    "sku = using_item.iloc[0,0]\n",
    "page = 0\n",
    "score = 1 # 0对应5星、1对应1星、2、3、4对应2、3、4星\n",
    "all_comments = []\n",
    "for page in range(120):\n",
    "    url_comm = f'https://sclub.jd.com/comment/productPageComments.action?productId=' + sku + f'&score={score}&sortType=5&'+'page='+str(page)+'&pageSize=10&isShadowSku=0&rid=0&fold=1'\n",
    "    html_comm=requests.get(url_comm).text\n",
    "    json_html_comm=json.loads(html_comm)\n",
    "    comment_list=json_html_comm['comments']\n",
    "    all_comments += comment_list\n",
    "    time.sleep(2)"
   ],
   "metadata": {
    "collapsed": false,
    "pycharm": {
     "name": "#%%\n"
    }
   }
  },
  {
   "cell_type": "code",
   "execution_count": null,
   "outputs": [],
   "source": [
    "comment_df = pd.DataFrame(all_comments)\n",
    "comment_df['SKU'] = sku\n",
    "comment_df"
   ],
   "metadata": {
    "collapsed": false,
    "pycharm": {
     "name": "#%%\n"
    }
   }
  },
  {
   "cell_type": "code",
   "execution_count": 66,
   "outputs": [
    {
     "data": {
      "text/plain": "             id                              guid  \\\n0   19104421976  1288817991d627e4c9d720c918f73ed5   \n1   19104254752  a817a0a0e23e752f84a4e3c5b3e3f6b7   \n2   19104216395  ea198904aeb28df8d4f8734ec5a175d5   \n3   19103939669  349fb41295f7fd2ccad73ab43a2d4dba   \n4   19103729024  aff6f1747def444459126523b4e56091   \n..          ...                               ...   \n95  19089948206  07606e323c2dd74241f9c1444036e6a7   \n96  19089894083  9336498235b86d93b8f75ac6f398de01   \n97  19089817627  74b99c26170229238a3872524a943e28   \n98  19089809737  1bcf451582650befaa2bd2d5fbfa52f8   \n99  19089786538  36e6f617d6673414d3f6b09eb7935cd7   \n\n                                              content         creationTime  \\\n0                                非常好，水分很足，很新鲜，准备买第二次。  2023-05-12 12:10:51   \n1                                        发货速度快，包装好，甜的  2023-05-12 11:16:58   \n2   品质一级棒，包装也不错，物流很快，而且价格合理，很实惠，很喜欢好！非常好！质量好，和实体店一...  2023-05-12 11:08:43   \n3   包装很完美，颜值很高，感觉物超所值！客服也非常耐心细致，发货快物流给力，以后还会再来??收到...  2023-05-12 09:41:47   \n4                                      皮很薄，水分足，甜度还可以。  2023-05-12 08:04:14   \n..                                                ...                  ...   \n95                        还可以吧，瓜藤处发黑的，估计放的时间蛮长了。甜度可以。  2023-05-07 13:43:34   \n96  很甜很好吃，物流很快。吃起来非常好吃，个头跟一只手那么大，还是西瓜的味道很甜很好吃，下次还会...  2023-05-07 13:22:46   \n97  包装挺好的，没有磕伤，物流也很快！昨天打开吃了一下！感觉中规中矩，感觉还不错，甜也蛮甜，但还...  2023-05-07 12:56:54   \n98                                       很不错，两次购买了，好吃  2023-05-07 12:55:14   \n99                吃了再来评价 籽很多 口感不是纯甜 有股不熟的怪味 \\n站神西瓜 无敌  2023-05-07 12:45:27   \n\n    isDelete  isTop                                       userImageUrl  \\\n0      False  False  misc.360buyimg.com/user/myjd-2015/css/i/peison...   \n1      False  False  storage.360buyimg.com/i.imageUpload/3133353031...   \n2      False  False  storage.360buyimg.com/i.imageUpload/6f72616e67...   \n3      False  False  storage.360buyimg.com/i.imageUpload/79686a3033...   \n4      False  False  misc.360buyimg.com/user/myjd-2015/css/i/peison...   \n..       ...    ...                                                ...   \n95     False  False  storage.360buyimg.com/i.imageUpload/6a645f6159...   \n96     False  False  storage.360buyimg.com/i.imageUpload/6a645f6c7a...   \n97     False  False  misc.360buyimg.com/user/myjd-2015/css/i/peison...   \n98     False  False  misc.360buyimg.com/user/myjd-2015/css/i/peison...   \n99     False  False  storage.360buyimg.com/i.imageUpload/6a645f3761...   \n\n    topped  replyCount  score  ...  replies  vcontent  videos  \\\n0        0           0      5  ...      NaN       NaN     NaN   \n1        0           0      5  ...      NaN       NaN     NaN   \n2        0           0      5  ...      NaN       NaN     NaN   \n3        0           0      5  ...      NaN       NaN     NaN   \n4        0           0      5  ...      NaN       NaN     NaN   \n..     ...         ...    ...  ...      ...       ...     ...   \n95       0           0      4  ...      NaN       NaN     NaN   \n96       0           0      5  ...      NaN       NaN     NaN   \n97       0           0      4  ...      NaN       NaN     NaN   \n98       0           0      5  ...      NaN       NaN     NaN   \n99       0           0      5  ...      NaN       NaN     NaN   \n\n    afterUserComment      SKU                                 Title  \\\n0                NaN  4014101  绿衣裹红瓤，果味清新甘甜，果肉鲜脆多汁，喷涌汁液清甜入喉，甜蜜直达心田！   \n1                NaN  4014101  绿衣裹红瓤，果味清新甘甜，果肉鲜脆多汁，喷涌汁液清甜入喉，甜蜜直达心田！   \n2                NaN  4014101  绿衣裹红瓤，果味清新甘甜，果肉鲜脆多汁，喷涌汁液清甜入喉，甜蜜直达心田！   \n3                NaN  4014101  绿衣裹红瓤，果味清新甘甜，果肉鲜脆多汁，喷涌汁液清甜入喉，甜蜜直达心田！   \n4                NaN  4014101  绿衣裹红瓤，果味清新甘甜，果肉鲜脆多汁，喷涌汁液清甜入喉，甜蜜直达心田！   \n..               ...      ...                                   ...   \n95               NaN  4014101  绿衣裹红瓤，果味清新甘甜，果肉鲜脆多汁，喷涌汁液清甜入喉，甜蜜直达心田！   \n96               NaN  4014101  绿衣裹红瓤，果味清新甘甜，果肉鲜脆多汁，喷涌汁液清甜入喉，甜蜜直达心田！   \n97               NaN  4014101  绿衣裹红瓤，果味清新甘甜，果肉鲜脆多汁，喷涌汁液清甜入喉，甜蜜直达心田！   \n98               NaN  4014101  绿衣裹红瓤，果味清新甘甜，果肉鲜脆多汁，喷涌汁液清甜入喉，甜蜜直达心田！   \n99               NaN  4014101  绿衣裹红瓤，果味清新甘甜，果肉鲜脆多汁，喷涌汁液清甜入喉，甜蜜直达心田！   \n\n                        Description  Price  \\\n0   \\n京鲜生 国产麒麟西瓜 1粒装 单果2.5kg以上 生鲜水果  39.90   \n1   \\n京鲜生 国产麒麟西瓜 1粒装 单果2.5kg以上 生鲜水果  39.90   \n2   \\n京鲜生 国产麒麟西瓜 1粒装 单果2.5kg以上 生鲜水果  39.90   \n3   \\n京鲜生 国产麒麟西瓜 1粒装 单果2.5kg以上 生鲜水果  39.90   \n4   \\n京鲜生 国产麒麟西瓜 1粒装 单果2.5kg以上 生鲜水果  39.90   \n..                              ...    ...   \n95  \\n京鲜生 国产麒麟西瓜 1粒装 单果2.5kg以上 生鲜水果  39.90   \n96  \\n京鲜生 国产麒麟西瓜 1粒装 单果2.5kg以上 生鲜水果  39.90   \n97  \\n京鲜生 国产麒麟西瓜 1粒装 单果2.5kg以上 生鲜水果  39.90   \n98  \\n京鲜生 国产麒麟西瓜 1粒装 单果2.5kg以上 生鲜水果  39.90   \n99  \\n京鲜生 国产麒麟西瓜 1粒装 单果2.5kg以上 生鲜水果  39.90   \n\n                                                Image      Shop  \n0   //img11.360buyimg.com/n7/jfs/t1/220542/36/7792...  水果京东自营专区  \n1   //img11.360buyimg.com/n7/jfs/t1/220542/36/7792...  水果京东自营专区  \n2   //img11.360buyimg.com/n7/jfs/t1/220542/36/7792...  水果京东自营专区  \n3   //img11.360buyimg.com/n7/jfs/t1/220542/36/7792...  水果京东自营专区  \n4   //img11.360buyimg.com/n7/jfs/t1/220542/36/7792...  水果京东自营专区  \n..                                                ...       ...  \n95  //img11.360buyimg.com/n7/jfs/t1/220542/36/7792...  水果京东自营专区  \n96  //img11.360buyimg.com/n7/jfs/t1/220542/36/7792...  水果京东自营专区  \n97  //img11.360buyimg.com/n7/jfs/t1/220542/36/7792...  水果京东自营专区  \n98  //img11.360buyimg.com/n7/jfs/t1/220542/36/7792...  水果京东自营专区  \n99  //img11.360buyimg.com/n7/jfs/t1/220542/36/7792...  水果京东自营专区  \n\n[100 rows x 53 columns]",
      "text/html": "<div>\n<style scoped>\n    .dataframe tbody tr th:only-of-type {\n        vertical-align: middle;\n    }\n\n    .dataframe tbody tr th {\n        vertical-align: top;\n    }\n\n    .dataframe thead th {\n        text-align: right;\n    }\n</style>\n<table border=\"1\" class=\"dataframe\">\n  <thead>\n    <tr style=\"text-align: right;\">\n      <th></th>\n      <th>id</th>\n      <th>guid</th>\n      <th>content</th>\n      <th>creationTime</th>\n      <th>isDelete</th>\n      <th>isTop</th>\n      <th>userImageUrl</th>\n      <th>topped</th>\n      <th>replyCount</th>\n      <th>score</th>\n      <th>...</th>\n      <th>replies</th>\n      <th>vcontent</th>\n      <th>videos</th>\n      <th>afterUserComment</th>\n      <th>SKU</th>\n      <th>Title</th>\n      <th>Description</th>\n      <th>Price</th>\n      <th>Image</th>\n      <th>Shop</th>\n    </tr>\n  </thead>\n  <tbody>\n    <tr>\n      <th>0</th>\n      <td>19104421976</td>\n      <td>1288817991d627e4c9d720c918f73ed5</td>\n      <td>非常好，水分很足，很新鲜，准备买第二次。</td>\n      <td>2023-05-12 12:10:51</td>\n      <td>False</td>\n      <td>False</td>\n      <td>misc.360buyimg.com/user/myjd-2015/css/i/peison...</td>\n      <td>0</td>\n      <td>0</td>\n      <td>5</td>\n      <td>...</td>\n      <td>NaN</td>\n      <td>NaN</td>\n      <td>NaN</td>\n      <td>NaN</td>\n      <td>4014101</td>\n      <td>绿衣裹红瓤，果味清新甘甜，果肉鲜脆多汁，喷涌汁液清甜入喉，甜蜜直达心田！</td>\n      <td>\\n京鲜生 国产麒麟西瓜 1粒装 单果2.5kg以上 生鲜水果</td>\n      <td>39.90</td>\n      <td>//img11.360buyimg.com/n7/jfs/t1/220542/36/7792...</td>\n      <td>水果京东自营专区</td>\n    </tr>\n    <tr>\n      <th>1</th>\n      <td>19104254752</td>\n      <td>a817a0a0e23e752f84a4e3c5b3e3f6b7</td>\n      <td>发货速度快，包装好，甜的</td>\n      <td>2023-05-12 11:16:58</td>\n      <td>False</td>\n      <td>False</td>\n      <td>storage.360buyimg.com/i.imageUpload/3133353031...</td>\n      <td>0</td>\n      <td>0</td>\n      <td>5</td>\n      <td>...</td>\n      <td>NaN</td>\n      <td>NaN</td>\n      <td>NaN</td>\n      <td>NaN</td>\n      <td>4014101</td>\n      <td>绿衣裹红瓤，果味清新甘甜，果肉鲜脆多汁，喷涌汁液清甜入喉，甜蜜直达心田！</td>\n      <td>\\n京鲜生 国产麒麟西瓜 1粒装 单果2.5kg以上 生鲜水果</td>\n      <td>39.90</td>\n      <td>//img11.360buyimg.com/n7/jfs/t1/220542/36/7792...</td>\n      <td>水果京东自营专区</td>\n    </tr>\n    <tr>\n      <th>2</th>\n      <td>19104216395</td>\n      <td>ea198904aeb28df8d4f8734ec5a175d5</td>\n      <td>品质一级棒，包装也不错，物流很快，而且价格合理，很实惠，很喜欢好！非常好！质量好，和实体店一...</td>\n      <td>2023-05-12 11:08:43</td>\n      <td>False</td>\n      <td>False</td>\n      <td>storage.360buyimg.com/i.imageUpload/6f72616e67...</td>\n      <td>0</td>\n      <td>0</td>\n      <td>5</td>\n      <td>...</td>\n      <td>NaN</td>\n      <td>NaN</td>\n      <td>NaN</td>\n      <td>NaN</td>\n      <td>4014101</td>\n      <td>绿衣裹红瓤，果味清新甘甜，果肉鲜脆多汁，喷涌汁液清甜入喉，甜蜜直达心田！</td>\n      <td>\\n京鲜生 国产麒麟西瓜 1粒装 单果2.5kg以上 生鲜水果</td>\n      <td>39.90</td>\n      <td>//img11.360buyimg.com/n7/jfs/t1/220542/36/7792...</td>\n      <td>水果京东自营专区</td>\n    </tr>\n    <tr>\n      <th>3</th>\n      <td>19103939669</td>\n      <td>349fb41295f7fd2ccad73ab43a2d4dba</td>\n      <td>包装很完美，颜值很高，感觉物超所值！客服也非常耐心细致，发货快物流给力，以后还会再来??收到...</td>\n      <td>2023-05-12 09:41:47</td>\n      <td>False</td>\n      <td>False</td>\n      <td>storage.360buyimg.com/i.imageUpload/79686a3033...</td>\n      <td>0</td>\n      <td>0</td>\n      <td>5</td>\n      <td>...</td>\n      <td>NaN</td>\n      <td>NaN</td>\n      <td>NaN</td>\n      <td>NaN</td>\n      <td>4014101</td>\n      <td>绿衣裹红瓤，果味清新甘甜，果肉鲜脆多汁，喷涌汁液清甜入喉，甜蜜直达心田！</td>\n      <td>\\n京鲜生 国产麒麟西瓜 1粒装 单果2.5kg以上 生鲜水果</td>\n      <td>39.90</td>\n      <td>//img11.360buyimg.com/n7/jfs/t1/220542/36/7792...</td>\n      <td>水果京东自营专区</td>\n    </tr>\n    <tr>\n      <th>4</th>\n      <td>19103729024</td>\n      <td>aff6f1747def444459126523b4e56091</td>\n      <td>皮很薄，水分足，甜度还可以。</td>\n      <td>2023-05-12 08:04:14</td>\n      <td>False</td>\n      <td>False</td>\n      <td>misc.360buyimg.com/user/myjd-2015/css/i/peison...</td>\n      <td>0</td>\n      <td>0</td>\n      <td>5</td>\n      <td>...</td>\n      <td>NaN</td>\n      <td>NaN</td>\n      <td>NaN</td>\n      <td>NaN</td>\n      <td>4014101</td>\n      <td>绿衣裹红瓤，果味清新甘甜，果肉鲜脆多汁，喷涌汁液清甜入喉，甜蜜直达心田！</td>\n      <td>\\n京鲜生 国产麒麟西瓜 1粒装 单果2.5kg以上 生鲜水果</td>\n      <td>39.90</td>\n      <td>//img11.360buyimg.com/n7/jfs/t1/220542/36/7792...</td>\n      <td>水果京东自营专区</td>\n    </tr>\n    <tr>\n      <th>...</th>\n      <td>...</td>\n      <td>...</td>\n      <td>...</td>\n      <td>...</td>\n      <td>...</td>\n      <td>...</td>\n      <td>...</td>\n      <td>...</td>\n      <td>...</td>\n      <td>...</td>\n      <td>...</td>\n      <td>...</td>\n      <td>...</td>\n      <td>...</td>\n      <td>...</td>\n      <td>...</td>\n      <td>...</td>\n      <td>...</td>\n      <td>...</td>\n      <td>...</td>\n      <td>...</td>\n    </tr>\n    <tr>\n      <th>95</th>\n      <td>19089948206</td>\n      <td>07606e323c2dd74241f9c1444036e6a7</td>\n      <td>还可以吧，瓜藤处发黑的，估计放的时间蛮长了。甜度可以。</td>\n      <td>2023-05-07 13:43:34</td>\n      <td>False</td>\n      <td>False</td>\n      <td>storage.360buyimg.com/i.imageUpload/6a645f6159...</td>\n      <td>0</td>\n      <td>0</td>\n      <td>4</td>\n      <td>...</td>\n      <td>NaN</td>\n      <td>NaN</td>\n      <td>NaN</td>\n      <td>NaN</td>\n      <td>4014101</td>\n      <td>绿衣裹红瓤，果味清新甘甜，果肉鲜脆多汁，喷涌汁液清甜入喉，甜蜜直达心田！</td>\n      <td>\\n京鲜生 国产麒麟西瓜 1粒装 单果2.5kg以上 生鲜水果</td>\n      <td>39.90</td>\n      <td>//img11.360buyimg.com/n7/jfs/t1/220542/36/7792...</td>\n      <td>水果京东自营专区</td>\n    </tr>\n    <tr>\n      <th>96</th>\n      <td>19089894083</td>\n      <td>9336498235b86d93b8f75ac6f398de01</td>\n      <td>很甜很好吃，物流很快。吃起来非常好吃，个头跟一只手那么大，还是西瓜的味道很甜很好吃，下次还会...</td>\n      <td>2023-05-07 13:22:46</td>\n      <td>False</td>\n      <td>False</td>\n      <td>storage.360buyimg.com/i.imageUpload/6a645f6c7a...</td>\n      <td>0</td>\n      <td>0</td>\n      <td>5</td>\n      <td>...</td>\n      <td>NaN</td>\n      <td>NaN</td>\n      <td>NaN</td>\n      <td>NaN</td>\n      <td>4014101</td>\n      <td>绿衣裹红瓤，果味清新甘甜，果肉鲜脆多汁，喷涌汁液清甜入喉，甜蜜直达心田！</td>\n      <td>\\n京鲜生 国产麒麟西瓜 1粒装 单果2.5kg以上 生鲜水果</td>\n      <td>39.90</td>\n      <td>//img11.360buyimg.com/n7/jfs/t1/220542/36/7792...</td>\n      <td>水果京东自营专区</td>\n    </tr>\n    <tr>\n      <th>97</th>\n      <td>19089817627</td>\n      <td>74b99c26170229238a3872524a943e28</td>\n      <td>包装挺好的，没有磕伤，物流也很快！昨天打开吃了一下！感觉中规中矩，感觉还不错，甜也蛮甜，但还...</td>\n      <td>2023-05-07 12:56:54</td>\n      <td>False</td>\n      <td>False</td>\n      <td>misc.360buyimg.com/user/myjd-2015/css/i/peison...</td>\n      <td>0</td>\n      <td>0</td>\n      <td>4</td>\n      <td>...</td>\n      <td>NaN</td>\n      <td>NaN</td>\n      <td>NaN</td>\n      <td>NaN</td>\n      <td>4014101</td>\n      <td>绿衣裹红瓤，果味清新甘甜，果肉鲜脆多汁，喷涌汁液清甜入喉，甜蜜直达心田！</td>\n      <td>\\n京鲜生 国产麒麟西瓜 1粒装 单果2.5kg以上 生鲜水果</td>\n      <td>39.90</td>\n      <td>//img11.360buyimg.com/n7/jfs/t1/220542/36/7792...</td>\n      <td>水果京东自营专区</td>\n    </tr>\n    <tr>\n      <th>98</th>\n      <td>19089809737</td>\n      <td>1bcf451582650befaa2bd2d5fbfa52f8</td>\n      <td>很不错，两次购买了，好吃</td>\n      <td>2023-05-07 12:55:14</td>\n      <td>False</td>\n      <td>False</td>\n      <td>misc.360buyimg.com/user/myjd-2015/css/i/peison...</td>\n      <td>0</td>\n      <td>0</td>\n      <td>5</td>\n      <td>...</td>\n      <td>NaN</td>\n      <td>NaN</td>\n      <td>NaN</td>\n      <td>NaN</td>\n      <td>4014101</td>\n      <td>绿衣裹红瓤，果味清新甘甜，果肉鲜脆多汁，喷涌汁液清甜入喉，甜蜜直达心田！</td>\n      <td>\\n京鲜生 国产麒麟西瓜 1粒装 单果2.5kg以上 生鲜水果</td>\n      <td>39.90</td>\n      <td>//img11.360buyimg.com/n7/jfs/t1/220542/36/7792...</td>\n      <td>水果京东自营专区</td>\n    </tr>\n    <tr>\n      <th>99</th>\n      <td>19089786538</td>\n      <td>36e6f617d6673414d3f6b09eb7935cd7</td>\n      <td>吃了再来评价 籽很多 口感不是纯甜 有股不熟的怪味 \\n站神西瓜 无敌</td>\n      <td>2023-05-07 12:45:27</td>\n      <td>False</td>\n      <td>False</td>\n      <td>storage.360buyimg.com/i.imageUpload/6a645f3761...</td>\n      <td>0</td>\n      <td>0</td>\n      <td>5</td>\n      <td>...</td>\n      <td>NaN</td>\n      <td>NaN</td>\n      <td>NaN</td>\n      <td>NaN</td>\n      <td>4014101</td>\n      <td>绿衣裹红瓤，果味清新甘甜，果肉鲜脆多汁，喷涌汁液清甜入喉，甜蜜直达心田！</td>\n      <td>\\n京鲜生 国产麒麟西瓜 1粒装 单果2.5kg以上 生鲜水果</td>\n      <td>39.90</td>\n      <td>//img11.360buyimg.com/n7/jfs/t1/220542/36/7792...</td>\n      <td>水果京东自营专区</td>\n    </tr>\n  </tbody>\n</table>\n<p>100 rows × 53 columns</p>\n</div>"
     },
     "execution_count": 66,
     "metadata": {},
     "output_type": "execute_result"
    }
   ],
   "source": [
    "pd.merge(comment_df,using_item,on='SKU',how='left')"
   ],
   "metadata": {
    "collapsed": false,
    "pycharm": {
     "name": "#%%\n"
    }
   }
  },
  {
   "cell_type": "code",
   "execution_count": 25,
   "outputs": [
    {
     "name": "stderr",
     "output_type": "stream",
     "text": [
      "0it [00:00, ?it/s]"
     ]
    },
    {
     "name": "stdout",
     "output_type": "stream",
     "text": [
      "idx:0,时间:23:40,SKU:4014101,score:0,单SKU累计评论数量: 1000\n",
      "0 1 20 空\n",
      "idx:0,时间:23:40,SKU:4014101,score:1,单SKU累计评论数量: 1200\n",
      "0 2 20 空\n",
      "idx:0,时间:23:41,SKU:4014101,score:2,单SKU累计评论数量: 1400\n",
      "0 3 61 空\n",
      "idx:0,时间:23:42,SKU:4014101,score:3,单SKU累计评论数量: 2006\n"
     ]
    },
    {
     "name": "stderr",
     "output_type": "stream",
     "text": [
      "1it [04:57, 297.43s/it]"
     ]
    },
    {
     "name": "stdout",
     "output_type": "stream",
     "text": [
      "0 4 20 空\n",
      "idx:0,时间:23:42,SKU:4014101,score:4,单SKU累计评论数量: 2206\n",
      "idx:1,时间:23:45,SKU:10028804239779,score:0,单SKU累计评论数量: 1000\n",
      "1 1 6 空\n",
      "idx:1,时间:23:45,SKU:10028804239779,score:1,单SKU累计评论数量: 1054\n",
      "1 2 3 空\n",
      "idx:1,时间:23:45,SKU:10028804239779,score:2,单SKU累计评论数量: 1082\n",
      "1 3 20 空\n",
      "idx:1,时间:23:45,SKU:10028804239779,score:3,单SKU累计评论数量: 1282\n"
     ]
    },
    {
     "name": "stderr",
     "output_type": "stream",
     "text": [
      "2it [08:26, 245.17s/it]"
     ]
    },
    {
     "name": "stdout",
     "output_type": "stream",
     "text": [
      "1 4 19 空\n",
      "idx:1,时间:23:46,SKU:10028804239779,score:4,单SKU累计评论数量: 1465\n",
      "2 0 33 空\n",
      "idx:2,时间:23:47,SKU:100055936077,score:0,单SKU累计评论数量: 327\n",
      "2 1 5 空\n",
      "idx:2,时间:23:47,SKU:100055936077,score:1,单SKU累计评论数量: 376\n",
      "2 2 3 空\n",
      "idx:2,时间:23:47,SKU:100055936077,score:2,单SKU累计评论数量: 400\n",
      "2 3 28 空\n",
      "idx:2,时间:23:47,SKU:100055936077,score:3,单SKU累计评论数量: 678\n"
     ]
    },
    {
     "name": "stderr",
     "output_type": "stream",
     "text": [
      "3it [10:19, 184.92s/it]"
     ]
    },
    {
     "name": "stdout",
     "output_type": "stream",
     "text": [
      "2 4 15 空\n",
      "idx:2,时间:23:48,SKU:100055936077,score:4,单SKU累计评论数量: 820\n",
      "3 0 23 空\n",
      "idx:3,时间:23:48,SKU:10070743806818,score:0,单SKU累计评论数量: 225\n",
      "3 1 4 空\n",
      "idx:3,时间:23:48,SKU:10070743806818,score:1,单SKU累计评论数量: 258\n",
      "3 2 2 空\n",
      "idx:3,时间:23:48,SKU:10070743806818,score:2,单SKU累计评论数量: 277\n",
      "3 3 25 空\n",
      "idx:3,时间:23:49,SKU:10070743806818,score:3,单SKU累计评论数量: 521\n"
     ]
    },
    {
     "name": "stderr",
     "output_type": "stream",
     "text": [
      "4it [11:56, 150.20s/it]"
     ]
    },
    {
     "name": "stdout",
     "output_type": "stream",
     "text": [
      "3 4 18 空\n",
      "idx:3,时间:23:49,SKU:10070743806818,score:4,单SKU累计评论数量: 693\n",
      "运行错误： HTTPSConnectionPool(host='sclub.jd.com', port=443): Max retries exceeded with url: /comment/productPageComments.action?productId=100001809857&score=0&sortType=5&page=11&pageSize=10&isShadowSku=0&rid=0&fold=1 (Caused by NewConnectionError('<urllib3.connection.HTTPSConnection object at 0x00000221085A2400>: Failed to establish a new connection: [WinError 10060] 由于连接方在一段时间后没有正确答复或连接的主机没有反应，连接尝试失败。')) 休眠20s\n",
      "idx:4,时间:23:52,SKU:100001809857,score:0,单SKU累计评论数量: 990\n",
      "4 1 20 空\n",
      "idx:4,时间:23:53,SKU:100001809857,score:1,单SKU累计评论数量: 1190\n",
      "4 2 20 空\n",
      "idx:4,时间:23:53,SKU:100001809857,score:2,单SKU累计评论数量: 1390\n",
      "4 3 61 空\n",
      "idx:4,时间:23:55,SKU:100001809857,score:3,单SKU累计评论数量: 1995\n"
     ]
    },
    {
     "name": "stderr",
     "output_type": "stream",
     "text": [
      "5it [17:33, 217.58s/it]"
     ]
    },
    {
     "name": "stdout",
     "output_type": "stream",
     "text": [
      "4 4 20 空\n",
      "idx:4,时间:23:55,SKU:100001809857,score:4,单SKU累计评论数量: 2195\n",
      "idx:5,时间:23:57,SKU:100010235018,score:0,单SKU累计评论数量: 1000\n",
      "5 1 20 空\n",
      "idx:5,时间:23:58,SKU:100010235018,score:1,单SKU累计评论数量: 1200\n",
      "5 2 20 空\n",
      "idx:5,时间:23:58,SKU:100010235018,score:2,单SKU累计评论数量: 1400\n",
      "5 3 61 空\n",
      "idx:5,时间:23:59,SKU:100010235018,score:3,单SKU累计评论数量: 2006\n"
     ]
    },
    {
     "name": "stderr",
     "output_type": "stream",
     "text": [
      "6it [22:28, 244.13s/it]"
     ]
    },
    {
     "name": "stdout",
     "output_type": "stream",
     "text": [
      "5 4 20 空\n",
      "idx:5,时间:00:00,SKU:100010235018,score:4,单SKU累计评论数量: 2206\n",
      "6 0 20 空\n",
      "idx:6,时间:00:00,SKU:10071528305086,score:0,单SKU累计评论数量: 200\n",
      "6 1 3 空\n",
      "idx:6,时间:00:00,SKU:10071528305086,score:1,单SKU累计评论数量: 225\n",
      "6 2 1 空\n",
      "idx:6,时间:00:00,SKU:10071528305086,score:2,单SKU累计评论数量: 228\n",
      "6 3 20 空\n",
      "idx:6,时间:00:01,SKU:10071528305086,score:3,单SKU累计评论数量: 428\n"
     ]
    },
    {
     "name": "stderr",
     "output_type": "stream",
     "text": [
      "7it [23:39, 187.48s/it]"
     ]
    },
    {
     "name": "stdout",
     "output_type": "stream",
     "text": [
      "6 4 9 空\n",
      "idx:6,时间:00:01,SKU:10071528305086,score:4,单SKU累计评论数量: 512\n",
      "idx:7,时间:00:03,SKU:7384607,score:0,单SKU累计评论数量: 1000\n",
      "7 1 20 空\n",
      "idx:7,时间:00:04,SKU:7384607,score:1,单SKU累计评论数量: 1200\n",
      "7 2 20 空\n",
      "idx:7,时间:00:04,SKU:7384607,score:2,单SKU累计评论数量: 1400\n",
      "7 3 61 空\n",
      "idx:7,时间:00:06,SKU:7384607,score:3,单SKU累计评论数量: 2006\n"
     ]
    },
    {
     "name": "stderr",
     "output_type": "stream",
     "text": [
      "8it [28:37, 222.55s/it]"
     ]
    },
    {
     "name": "stdout",
     "output_type": "stream",
     "text": [
      "7 4 20 空\n",
      "idx:7,时间:00:06,SKU:7384607,score:4,单SKU累计评论数量: 2206\n",
      "8 0 33 空\n",
      "idx:8,时间:00:07,SKU:100057637967,score:0,单SKU累计评论数量: 327\n",
      "8 1 5 空\n",
      "idx:8,时间:00:07,SKU:100057637967,score:1,单SKU累计评论数量: 376\n",
      "8 2 3 空\n",
      "idx:8,时间:00:07,SKU:100057637967,score:2,单SKU累计评论数量: 400\n",
      "8 3 28 空\n",
      "idx:8,时间:00:08,SKU:100057637967,score:3,单SKU累计评论数量: 678\n"
     ]
    },
    {
     "name": "stderr",
     "output_type": "stream",
     "text": [
      "9it [30:30, 188.33s/it]"
     ]
    },
    {
     "name": "stdout",
     "output_type": "stream",
     "text": [
      "8 4 15 空\n",
      "idx:8,时间:00:08,SKU:100057637967,score:4,单SKU累计评论数量: 820\n",
      "idx:9,时间:00:10,SKU:100006930553,score:0,单SKU累计评论数量: 1000\n",
      "9 1 20 空\n",
      "idx:9,时间:00:11,SKU:100006930553,score:1,单SKU累计评论数量: 1200\n",
      "9 2 20 空\n",
      "idx:9,时间:00:11,SKU:100006930553,score:2,单SKU累计评论数量: 1400\n",
      "9 3 61 空\n",
      "idx:9,时间:00:12,SKU:100006930553,score:3,单SKU累计评论数量: 2005\n",
      "9 4 20 空\n",
      "idx:9,时间:00:13,SKU:100006930553,score:4,单SKU累计评论数量: 2205\n"
     ]
    },
    {
     "name": "stderr",
     "output_type": "stream",
     "text": [
      "10it [35:28, 222.31s/it]"
     ]
    },
    {
     "name": "stdout",
     "output_type": "stream",
     "text": [
      "10 0 20 空\n",
      "idx:10,时间:00:13,SKU:10050679374521,score:0,单SKU累计评论数量: 200\n",
      "10 1 5 空\n",
      "idx:10,时间:00:13,SKU:10050679374521,score:1,单SKU累计评论数量: 241\n",
      "10 2 1 空\n",
      "idx:10,时间:00:14,SKU:10050679374521,score:2,单SKU累计评论数量: 251\n",
      "10 3 15 空\n",
      "idx:10,时间:00:14,SKU:10050679374521,score:3,单SKU累计评论数量: 401\n"
     ]
    },
    {
     "name": "stderr",
     "output_type": "stream",
     "text": [
      "11it [36:34, 174.32s/it]"
     ]
    },
    {
     "name": "stdout",
     "output_type": "stream",
     "text": [
      "10 4 7 空\n",
      "idx:10,时间:00:14,SKU:10050679374521,score:4,单SKU累计评论数量: 463\n",
      "运行错误： HTTPSConnectionPool(host='sclub.jd.com', port=443): Max retries exceeded with url: /comment/productPageComments.action?productId=10072990560655&score=0&sortType=5&page=3&pageSize=10&isShadowSku=0&rid=0&fold=1 (Caused by NewConnectionError('<urllib3.connection.HTTPSConnection object at 0x00000221085D0670>: Failed to establish a new connection: [WinError 10060] 由于连接方在一段时间后没有正确答复或连接的主机没有反应，连接尝试失败。')) 休眠20s\n",
      "11 0 4 空\n",
      "idx:11,时间:00:15,SKU:10072990560655,score:0,单SKU累计评论数量: 24\n",
      "11 1 1 空\n",
      "idx:11,时间:00:15,SKU:10072990560655,score:1,单SKU累计评论数量: 25\n",
      "11 2 1 空\n",
      "idx:11,时间:00:15,SKU:10072990560655,score:2,单SKU累计评论数量: 27\n",
      "11 3 3 空\n",
      "idx:11,时间:00:15,SKU:10072990560655,score:3,单SKU累计评论数量: 48\n"
     ]
    },
    {
     "name": "stderr",
     "output_type": "stream",
     "text": [
      "12it [37:29, 138.09s/it]"
     ]
    },
    {
     "name": "stdout",
     "output_type": "stream",
     "text": [
      "11 4 2 空\n",
      "idx:11,时间:00:15,SKU:10072990560655,score:4,单SKU累计评论数量: 59\n",
      "idx:12,时间:00:17,SKU:7402467,score:0,单SKU累计评论数量: 1000\n",
      "12 1 20 空\n",
      "idx:12,时间:00:18,SKU:7402467,score:1,单SKU累计评论数量: 1200\n",
      "12 2 20 空\n",
      "idx:12,时间:00:18,SKU:7402467,score:2,单SKU累计评论数量: 1400\n",
      "12 3 61 空\n",
      "idx:12,时间:00:19,SKU:7402467,score:3,单SKU累计评论数量: 2005\n"
     ]
    },
    {
     "name": "stderr",
     "output_type": "stream",
     "text": [
      "13it [42:25, 185.83s/it]"
     ]
    },
    {
     "name": "stdout",
     "output_type": "stream",
     "text": [
      "12 4 20 空\n",
      "idx:12,时间:00:20,SKU:7402467,score:4,单SKU累计评论数量: 2205\n",
      "13 0 3 空\n",
      "idx:13,时间:00:20,SKU:100048486774,score:0,单SKU累计评论数量: 29\n",
      "13 1 0 空\n",
      "idx:13,时间:00:20,SKU:100048486774,score:1,单SKU累计评论数量: 29\n",
      "13 2 1 空\n",
      "idx:13,时间:00:20,SKU:100048486774,score:2,单SKU累计评论数量: 31\n",
      "13 3 3 空\n",
      "idx:13,时间:00:20,SKU:100048486774,score:3,单SKU累计评论数量: 58\n"
     ]
    },
    {
     "name": "stderr",
     "output_type": "stream",
     "text": [
      "14it [42:37, 133.45s/it]"
     ]
    },
    {
     "name": "stdout",
     "output_type": "stream",
     "text": [
      "13 4 1 空\n",
      "idx:13,时间:00:20,SKU:100048486774,score:4,单SKU累计评论数量: 67\n",
      "14 0 33 空\n",
      "idx:14,时间:00:21,SKU:100049485318,score:0,单SKU累计评论数量: 327\n",
      "14 1 5 空\n",
      "idx:14,时间:00:21,SKU:100049485318,score:1,单SKU累计评论数量: 376\n",
      "14 2 3 空\n",
      "idx:14,时间:00:21,SKU:100049485318,score:2,单SKU累计评论数量: 400\n",
      "14 3 28 空\n",
      "idx:14,时间:00:22,SKU:100049485318,score:3,单SKU累计评论数量: 678\n"
     ]
    },
    {
     "name": "stderr",
     "output_type": "stream",
     "text": [
      "15it [44:30, 127.34s/it]"
     ]
    },
    {
     "name": "stdout",
     "output_type": "stream",
     "text": [
      "14 4 15 空\n",
      "idx:14,时间:00:22,SKU:100049485318,score:4,单SKU累计评论数量: 820\n",
      "15 0 33 空\n",
      "idx:15,时间:00:23,SKU:100055936079,score:0,单SKU累计评论数量: 327\n",
      "15 1 5 空\n",
      "idx:15,时间:00:23,SKU:100055936079,score:1,单SKU累计评论数量: 376\n",
      "15 2 3 空\n",
      "idx:15,时间:00:23,SKU:100055936079,score:2,单SKU累计评论数量: 400\n",
      "15 3 28 空\n",
      "idx:15,时间:00:24,SKU:100055936079,score:3,单SKU累计评论数量: 678\n"
     ]
    },
    {
     "name": "stderr",
     "output_type": "stream",
     "text": [
      "16it [46:25, 123.40s/it]"
     ]
    },
    {
     "name": "stdout",
     "output_type": "stream",
     "text": [
      "15 4 15 空\n",
      "idx:15,时间:00:24,SKU:100055936079,score:4,单SKU累计评论数量: 820\n",
      "16 0 13 空\n",
      "idx:16,时间:00:24,SKU:10043344095804,score:0,单SKU累计评论数量: 121\n",
      "16 1 2 空\n",
      "idx:16,时间:00:24,SKU:10043344095804,score:1,单SKU累计评论数量: 138\n",
      "16 2 1 空\n",
      "idx:16,时间:00:24,SKU:10043344095804,score:2,单SKU累计评论数量: 144\n",
      "16 3 10 空\n",
      "idx:16,时间:00:24,SKU:10043344095804,score:3,单SKU累计评论数量: 242\n"
     ]
    },
    {
     "name": "stderr",
     "output_type": "stream",
     "text": [
      "17it [47:07, 98.97s/it] "
     ]
    },
    {
     "name": "stdout",
     "output_type": "stream",
     "text": [
      "16 4 4 空\n",
      "idx:16,时间:00:25,SKU:10043344095804,score:4,单SKU累计评论数量: 277\n",
      "17 0 32 空\n",
      "idx:17,时间:00:25,SKU:10027542000109,score:0,单SKU累计评论数量: 318\n",
      "17 1 3 空\n",
      "idx:17,时间:00:25,SKU:10027542000109,score:1,单SKU累计评论数量: 346\n",
      "17 2 2 空\n",
      "idx:17,时间:00:25,SKU:10027542000109,score:2,单SKU累计评论数量: 363\n",
      "17 3 20 空\n",
      "idx:17,时间:00:26,SKU:10027542000109,score:3,单SKU累计评论数量: 563\n"
     ]
    },
    {
     "name": "stderr",
     "output_type": "stream",
     "text": [
      "18it [48:33, 95.21s/it]"
     ]
    },
    {
     "name": "stdout",
     "output_type": "stream",
     "text": [
      "17 4 5 空\n",
      "idx:17,时间:00:26,SKU:10027542000109,score:4,单SKU累计评论数量: 604\n",
      "idx:18,时间:00:28,SKU:10049441196413,score:0,单SKU累计评论数量: 1000\n",
      "18 1 20 空\n",
      "idx:18,时间:00:29,SKU:10049441196413,score:1,单SKU累计评论数量: 1200\n",
      "18 2 10 空\n",
      "idx:18,时间:00:29,SKU:10049441196413,score:2,单SKU累计评论数量: 1297\n",
      "运行错误： HTTPSConnectionPool(host='sclub.jd.com', port=443): Max retries exceeded with url: /comment/productPageComments.action?productId=10049441196413&score=3&sortType=5&page=7&pageSize=10&isShadowSku=0&rid=0&fold=1 (Caused by NewConnectionError('<urllib3.connection.HTTPSConnection object at 0x00000221085D2970>: Failed to establish a new connection: [WinError 10060] 由于连接方在一段时间后没有正确答复或连接的主机没有反应，连接尝试失败。')) 休眠20s\n",
      "18 3 20 空\n",
      "idx:18,时间:00:30,SKU:10049441196413,score:3,单SKU累计评论数量: 1487\n"
     ]
    },
    {
     "name": "stderr",
     "output_type": "stream",
     "text": [
      "19it [53:14, 150.88s/it]"
     ]
    },
    {
     "name": "stdout",
     "output_type": "stream",
     "text": [
      "18 4 20 空\n",
      "idx:18,时间:00:31,SKU:10049441196413,score:4,单SKU累计评论数量: 1687\n",
      "idx:19,时间:00:33,SKU:100000263813,score:0,单SKU累计评论数量: 1000\n",
      "19 1 20 空\n",
      "idx:19,时间:00:33,SKU:100000263813,score:1,单SKU累计评论数量: 1200\n",
      "19 2 20 空\n",
      "idx:19,时间:00:34,SKU:100000263813,score:2,单SKU累计评论数量: 1400\n",
      "19 3 61 空\n",
      "idx:19,时间:00:35,SKU:100000263813,score:3,单SKU累计评论数量: 2005\n"
     ]
    },
    {
     "name": "stderr",
     "output_type": "stream",
     "text": [
      "20it [58:12, 174.60s/it]"
     ]
    },
    {
     "name": "stdout",
     "output_type": "stream",
     "text": [
      "19 4 20 空\n",
      "idx:19,时间:00:36,SKU:100000263813,score:4,单SKU累计评论数量: 2205\n",
      "CPU times: total: 1min 17s\n",
      "Wall time: 58min 12s\n"
     ]
    },
    {
     "name": "stderr",
     "output_type": "stream",
     "text": [
      "\n"
     ]
    }
   ],
   "source": [
    "%%time\n",
    "# STEP2: 遍历获取评论数据\n",
    "all_comments_df = pd.DataFrame()\n",
    "for idx,row in tqdm(using_item[:20].iterrows()):\n",
    "    one_sku_comments = []\n",
    "    for score_idx,score in enumerate(range(5)):\n",
    "        for page_idx,page in enumerate(range(100)):\n",
    "            url_comm = f'https://sclub.jd.com/comment/productPageComments.action?productId=' + str(using_item['SKU'][idx]) + f'&score={score}&sortType=5&'+'page='+str(page)+'&pageSize=10&isShadowSku=0&rid=0&fold=1'\n",
    "            try:\n",
    "                res = requests.get(url_comm)\n",
    "                html_comm = res.text\n",
    "                json_html_comm=json.loads(html_comm)\n",
    "                comment_list=json_html_comm['comments']\n",
    "                one_sku_comments += comment_list\n",
    "                if not comment_list:\n",
    "                    print(idx,score_idx,page_idx,'空')\n",
    "                    break\n",
    "                time.sleep(1)\n",
    "            except Exception as e:\n",
    "                print(\"运行错误：\",str(e),'休眠20s')\n",
    "                time.sleep(20)\n",
    "                continue\n",
    "        print(f'idx:{idx},时间:{datetime.datetime.now().strftime(\"%H:%M\")},SKU:{row[\"SKU\"]},score:{score},单SKU累计评论数量: {len(one_sku_comments)}')\n",
    "    one_sku_df = pd.DataFrame(one_sku_comments)\n",
    "    one_sku_df = one_sku_df.drop_duplicates(['id'])\n",
    "    one_sku_df['SKU'] = row['SKU'] # 添加SKU 编码\n",
    "    one_sku_df['sales_order'] = idx + 1 # 添加销量序号\n",
    "    all_comments_df = pd.concat([one_sku_df,all_comments_df],axis=0)"
   ],
   "metadata": {
    "collapsed": false,
    "pycharm": {
     "name": "#%%\n"
    }
   }
  },
  {
   "cell_type": "code",
   "execution_count": 26,
   "outputs": [],
   "source": [
    "all_comments_df.to_csv('./data/原始爬取评论_top_20.csv')"
   ],
   "metadata": {
    "collapsed": false,
    "pycharm": {
     "name": "#%%\n"
    }
   }
  },
  {
   "cell_type": "code",
   "execution_count": 28,
   "outputs": [
    {
     "data": {
      "text/plain": "                id                              guid  \\\n0      19058365992  3a42ad2b13efd827680b403663445931   \n1      19063662891  059df86d69f3033d82473f9a84d925de   \n2      19027508331  aba66f4254a7b5b00f5750729e92e6e7   \n3      19025228446  57419ebba5eabdb3035692ae06bb6b63   \n4      19098655478  b5d4417074b51b2cc41795937e49d610   \n...            ...                               ...   \n18580  19085298937  2ae3c50e0f41ecd598cabfd57b885127   \n18581  19103209998  ec5d7e129c0162eabf68704e76d47ec7   \n18582  19077434943  82782c8369860eaac9f8c30241b71275   \n18583  19082101472  aa006ae86d5353f22fd78ebec070a056   \n18584  19076618990  af3bc2fe4fbd7cebd15ee6884f932ad4   \n\n                                                 content         creationTime  \\\n0      第一次在京东买水果，简直了，爱了爱了，包装很好，瓜果没有一点问题，拆开赶紧切了个西瓜?吃，皮...  2023-04-26 16:39:25   \n1      西瓜足斤足两，到手后称了一下，将近4千克，很满意。切开后情况很好，瓜瓤很脆，吃起来脆甜脆甜的...  2023-04-28 14:18:46   \n2      非常满意的一次购物体验，很甜！西瓜成熟度正好，口感脆甜可口，皮很薄，籽不多，分量足，包装完好...  2023-04-16 17:22:49   \n3      家里的水果都是京东买的，品质从来没有质疑过，已经是无限次回购的水果，家里人都很喜欢，京东的速...  2023-04-15 20:22:27   \n4      京东自营商品质量有保证送货速度快，冷链物流送货保证新鲜，还有防撞空气袋特别安全，赶上活动价格...  2023-05-10 12:35:07   \n...                                                  ...                  ...   \n18580                                                 复购  2023-05-05 19:57:13   \n18581                                                  甜  2023-05-11 21:55:13   \n18582                                                  好  2023-05-03 09:39:35   \n18583                                                  好  2023-05-04 18:47:06   \n18584                                                  好  2023-05-02 21:11:53   \n\n       isDelete  isTop                                       userImageUrl  \\\n0         False  False  storage.360buyimg.com/i.imageUpload/e6a4e6a4bc...   \n1         False  False  storage.360buyimg.com/i.imageUpload/6a645f3433...   \n2         False  False  storage.360buyimg.com/i.imageUpload/6a645f6149...   \n3         False  False  misc.360buyimg.com/user/myjd-2015/css/i/peison...   \n4         False  False  storage.360buyimg.com/i.imageUpload/6c6a737463...   \n...         ...    ...                                                ...   \n18580     False  False  storage.360buyimg.com/i.imageUpload/6a645f3666...   \n18581     False  False  misc.360buyimg.com/user/myjd-2015/css/i/peison...   \n18582     False  False  misc.360buyimg.com/user/myjd-2015/css/i/peison...   \n18583     False  False  storage.360buyimg.com/i.imageUpload/6e69636574...   \n18584     False  False  misc.360buyimg.com/user/myjd-2015/css/i/peison...   \n\n       topped  replyCount  score  ...  afterImages  afterVideos           SKU  \\\n0           0           0      5  ...          NaN          NaN  100000263813   \n1           0           0      5  ...          NaN          NaN  100000263813   \n2           0           1      5  ...          NaN          NaN  100000263813   \n3           0           0      5  ...          NaN          NaN  100000263813   \n4           0           0      5  ...          NaN          NaN  100000263813   \n...       ...         ...    ...  ...          ...          ...           ...   \n18580       0           0      5  ...          NaN          NaN       4014101   \n18581       0           0      5  ...          NaN          NaN       4014101   \n18582       0           0      5  ...          NaN          NaN       4014101   \n18583       0           0      5  ...          NaN          NaN       4014101   \n18584       0           0      5  ...          NaN          NaN       4014101   \n\n       sales_order  Unnamed: 0                                 Title  \\\n0               20          19            【国内核心产区直采】【甜度更高、果肉细腻、汁水充盈】   \n1               20          19            【国内核心产区直采】【甜度更高、果肉细腻、汁水充盈】   \n2               20          19            【国内核心产区直采】【甜度更高、果肉细腻、汁水充盈】   \n3               20          19            【国内核心产区直采】【甜度更高、果肉细腻、汁水充盈】   \n4               20          19            【国内核心产区直采】【甜度更高、果肉细腻、汁水充盈】   \n...            ...         ...                                   ...   \n18580            1           0  绿衣裹红瓤，果味清新甘甜，果肉鲜脆多汁，喷涌汁液清甜入喉，甜蜜直达心田！   \n18581            1           0  绿衣裹红瓤，果味清新甘甜，果肉鲜脆多汁，喷涌汁液清甜入喉，甜蜜直达心田！   \n18582            1           0  绿衣裹红瓤，果味清新甘甜，果肉鲜脆多汁，喷涌汁液清甜入喉，甜蜜直达心田！   \n18583            1           0  绿衣裹红瓤，果味清新甘甜，果肉鲜脆多汁，喷涌汁液清甜入喉，甜蜜直达心田！   \n18584            1           0  绿衣裹红瓤，果味清新甘甜，果肉鲜脆多汁，喷涌汁液清甜入喉，甜蜜直达心田！   \n\n                                   Description Price  \\\n0      \\n京鲜生 手剥小西瓜 2粒 单果1.5kg 净重3kg 御麒麟西瓜 生鲜水果  59.9   \n1      \\n京鲜生 手剥小西瓜 2粒 单果1.5kg 净重3kg 御麒麟西瓜 生鲜水果  59.9   \n2      \\n京鲜生 手剥小西瓜 2粒 单果1.5kg 净重3kg 御麒麟西瓜 生鲜水果  59.9   \n3      \\n京鲜生 手剥小西瓜 2粒 单果1.5kg 净重3kg 御麒麟西瓜 生鲜水果  59.9   \n4      \\n京鲜生 手剥小西瓜 2粒 单果1.5kg 净重3kg 御麒麟西瓜 生鲜水果  59.9   \n...                                        ...   ...   \n18580          \\n京鲜生 国产麒麟西瓜 1粒装 单果2.5kg以上 生鲜水果  39.9   \n18581          \\n京鲜生 国产麒麟西瓜 1粒装 单果2.5kg以上 生鲜水果  39.9   \n18582          \\n京鲜生 国产麒麟西瓜 1粒装 单果2.5kg以上 生鲜水果  39.9   \n18583          \\n京鲜生 国产麒麟西瓜 1粒装 单果2.5kg以上 生鲜水果  39.9   \n18584          \\n京鲜生 国产麒麟西瓜 1粒装 单果2.5kg以上 生鲜水果  39.9   \n\n                                                   Image      Shop  \n0      //img13.360buyimg.com/n7/jfs/t1/30560/13/13153...  水果京东自营专区  \n1      //img13.360buyimg.com/n7/jfs/t1/30560/13/13153...  水果京东自营专区  \n2      //img13.360buyimg.com/n7/jfs/t1/30560/13/13153...  水果京东自营专区  \n3      //img13.360buyimg.com/n7/jfs/t1/30560/13/13153...  水果京东自营专区  \n4      //img13.360buyimg.com/n7/jfs/t1/30560/13/13153...  水果京东自营专区  \n...                                                  ...       ...  \n18580  //img11.360buyimg.com/n7/jfs/t1/220542/36/7792...  水果京东自营专区  \n18581  //img11.360buyimg.com/n7/jfs/t1/220542/36/7792...  水果京东自营专区  \n18582  //img11.360buyimg.com/n7/jfs/t1/220542/36/7792...  水果京东自营专区  \n18583  //img11.360buyimg.com/n7/jfs/t1/220542/36/7792...  水果京东自营专区  \n18584  //img11.360buyimg.com/n7/jfs/t1/220542/36/7792...  水果京东自营专区  \n\n[18585 rows x 57 columns]",
      "text/html": "<div>\n<style scoped>\n    .dataframe tbody tr th:only-of-type {\n        vertical-align: middle;\n    }\n\n    .dataframe tbody tr th {\n        vertical-align: top;\n    }\n\n    .dataframe thead th {\n        text-align: right;\n    }\n</style>\n<table border=\"1\" class=\"dataframe\">\n  <thead>\n    <tr style=\"text-align: right;\">\n      <th></th>\n      <th>id</th>\n      <th>guid</th>\n      <th>content</th>\n      <th>creationTime</th>\n      <th>isDelete</th>\n      <th>isTop</th>\n      <th>userImageUrl</th>\n      <th>topped</th>\n      <th>replyCount</th>\n      <th>score</th>\n      <th>...</th>\n      <th>afterImages</th>\n      <th>afterVideos</th>\n      <th>SKU</th>\n      <th>sales_order</th>\n      <th>Unnamed: 0</th>\n      <th>Title</th>\n      <th>Description</th>\n      <th>Price</th>\n      <th>Image</th>\n      <th>Shop</th>\n    </tr>\n  </thead>\n  <tbody>\n    <tr>\n      <th>0</th>\n      <td>19058365992</td>\n      <td>3a42ad2b13efd827680b403663445931</td>\n      <td>第一次在京东买水果，简直了，爱了爱了，包装很好，瓜果没有一点问题，拆开赶紧切了个西瓜?吃，皮...</td>\n      <td>2023-04-26 16:39:25</td>\n      <td>False</td>\n      <td>False</td>\n      <td>storage.360buyimg.com/i.imageUpload/e6a4e6a4bc...</td>\n      <td>0</td>\n      <td>0</td>\n      <td>5</td>\n      <td>...</td>\n      <td>NaN</td>\n      <td>NaN</td>\n      <td>100000263813</td>\n      <td>20</td>\n      <td>19</td>\n      <td>【国内核心产区直采】【甜度更高、果肉细腻、汁水充盈】</td>\n      <td>\\n京鲜生 手剥小西瓜 2粒 单果1.5kg 净重3kg 御麒麟西瓜 生鲜水果</td>\n      <td>59.9</td>\n      <td>//img13.360buyimg.com/n7/jfs/t1/30560/13/13153...</td>\n      <td>水果京东自营专区</td>\n    </tr>\n    <tr>\n      <th>1</th>\n      <td>19063662891</td>\n      <td>059df86d69f3033d82473f9a84d925de</td>\n      <td>西瓜足斤足两，到手后称了一下，将近4千克，很满意。切开后情况很好，瓜瓤很脆，吃起来脆甜脆甜的...</td>\n      <td>2023-04-28 14:18:46</td>\n      <td>False</td>\n      <td>False</td>\n      <td>storage.360buyimg.com/i.imageUpload/6a645f3433...</td>\n      <td>0</td>\n      <td>0</td>\n      <td>5</td>\n      <td>...</td>\n      <td>NaN</td>\n      <td>NaN</td>\n      <td>100000263813</td>\n      <td>20</td>\n      <td>19</td>\n      <td>【国内核心产区直采】【甜度更高、果肉细腻、汁水充盈】</td>\n      <td>\\n京鲜生 手剥小西瓜 2粒 单果1.5kg 净重3kg 御麒麟西瓜 生鲜水果</td>\n      <td>59.9</td>\n      <td>//img13.360buyimg.com/n7/jfs/t1/30560/13/13153...</td>\n      <td>水果京东自营专区</td>\n    </tr>\n    <tr>\n      <th>2</th>\n      <td>19027508331</td>\n      <td>aba66f4254a7b5b00f5750729e92e6e7</td>\n      <td>非常满意的一次购物体验，很甜！西瓜成熟度正好，口感脆甜可口，皮很薄，籽不多，分量足，包装完好...</td>\n      <td>2023-04-16 17:22:49</td>\n      <td>False</td>\n      <td>False</td>\n      <td>storage.360buyimg.com/i.imageUpload/6a645f6149...</td>\n      <td>0</td>\n      <td>1</td>\n      <td>5</td>\n      <td>...</td>\n      <td>NaN</td>\n      <td>NaN</td>\n      <td>100000263813</td>\n      <td>20</td>\n      <td>19</td>\n      <td>【国内核心产区直采】【甜度更高、果肉细腻、汁水充盈】</td>\n      <td>\\n京鲜生 手剥小西瓜 2粒 单果1.5kg 净重3kg 御麒麟西瓜 生鲜水果</td>\n      <td>59.9</td>\n      <td>//img13.360buyimg.com/n7/jfs/t1/30560/13/13153...</td>\n      <td>水果京东自营专区</td>\n    </tr>\n    <tr>\n      <th>3</th>\n      <td>19025228446</td>\n      <td>57419ebba5eabdb3035692ae06bb6b63</td>\n      <td>家里的水果都是京东买的，品质从来没有质疑过，已经是无限次回购的水果，家里人都很喜欢，京东的速...</td>\n      <td>2023-04-15 20:22:27</td>\n      <td>False</td>\n      <td>False</td>\n      <td>misc.360buyimg.com/user/myjd-2015/css/i/peison...</td>\n      <td>0</td>\n      <td>0</td>\n      <td>5</td>\n      <td>...</td>\n      <td>NaN</td>\n      <td>NaN</td>\n      <td>100000263813</td>\n      <td>20</td>\n      <td>19</td>\n      <td>【国内核心产区直采】【甜度更高、果肉细腻、汁水充盈】</td>\n      <td>\\n京鲜生 手剥小西瓜 2粒 单果1.5kg 净重3kg 御麒麟西瓜 生鲜水果</td>\n      <td>59.9</td>\n      <td>//img13.360buyimg.com/n7/jfs/t1/30560/13/13153...</td>\n      <td>水果京东自营专区</td>\n    </tr>\n    <tr>\n      <th>4</th>\n      <td>19098655478</td>\n      <td>b5d4417074b51b2cc41795937e49d610</td>\n      <td>京东自营商品质量有保证送货速度快，冷链物流送货保证新鲜，还有防撞空气袋特别安全，赶上活动价格...</td>\n      <td>2023-05-10 12:35:07</td>\n      <td>False</td>\n      <td>False</td>\n      <td>storage.360buyimg.com/i.imageUpload/6c6a737463...</td>\n      <td>0</td>\n      <td>0</td>\n      <td>5</td>\n      <td>...</td>\n      <td>NaN</td>\n      <td>NaN</td>\n      <td>100000263813</td>\n      <td>20</td>\n      <td>19</td>\n      <td>【国内核心产区直采】【甜度更高、果肉细腻、汁水充盈】</td>\n      <td>\\n京鲜生 手剥小西瓜 2粒 单果1.5kg 净重3kg 御麒麟西瓜 生鲜水果</td>\n      <td>59.9</td>\n      <td>//img13.360buyimg.com/n7/jfs/t1/30560/13/13153...</td>\n      <td>水果京东自营专区</td>\n    </tr>\n    <tr>\n      <th>...</th>\n      <td>...</td>\n      <td>...</td>\n      <td>...</td>\n      <td>...</td>\n      <td>...</td>\n      <td>...</td>\n      <td>...</td>\n      <td>...</td>\n      <td>...</td>\n      <td>...</td>\n      <td>...</td>\n      <td>...</td>\n      <td>...</td>\n      <td>...</td>\n      <td>...</td>\n      <td>...</td>\n      <td>...</td>\n      <td>...</td>\n      <td>...</td>\n      <td>...</td>\n      <td>...</td>\n    </tr>\n    <tr>\n      <th>18580</th>\n      <td>19085298937</td>\n      <td>2ae3c50e0f41ecd598cabfd57b885127</td>\n      <td>复购</td>\n      <td>2023-05-05 19:57:13</td>\n      <td>False</td>\n      <td>False</td>\n      <td>storage.360buyimg.com/i.imageUpload/6a645f3666...</td>\n      <td>0</td>\n      <td>0</td>\n      <td>5</td>\n      <td>...</td>\n      <td>NaN</td>\n      <td>NaN</td>\n      <td>4014101</td>\n      <td>1</td>\n      <td>0</td>\n      <td>绿衣裹红瓤，果味清新甘甜，果肉鲜脆多汁，喷涌汁液清甜入喉，甜蜜直达心田！</td>\n      <td>\\n京鲜生 国产麒麟西瓜 1粒装 单果2.5kg以上 生鲜水果</td>\n      <td>39.9</td>\n      <td>//img11.360buyimg.com/n7/jfs/t1/220542/36/7792...</td>\n      <td>水果京东自营专区</td>\n    </tr>\n    <tr>\n      <th>18581</th>\n      <td>19103209998</td>\n      <td>ec5d7e129c0162eabf68704e76d47ec7</td>\n      <td>甜</td>\n      <td>2023-05-11 21:55:13</td>\n      <td>False</td>\n      <td>False</td>\n      <td>misc.360buyimg.com/user/myjd-2015/css/i/peison...</td>\n      <td>0</td>\n      <td>0</td>\n      <td>5</td>\n      <td>...</td>\n      <td>NaN</td>\n      <td>NaN</td>\n      <td>4014101</td>\n      <td>1</td>\n      <td>0</td>\n      <td>绿衣裹红瓤，果味清新甘甜，果肉鲜脆多汁，喷涌汁液清甜入喉，甜蜜直达心田！</td>\n      <td>\\n京鲜生 国产麒麟西瓜 1粒装 单果2.5kg以上 生鲜水果</td>\n      <td>39.9</td>\n      <td>//img11.360buyimg.com/n7/jfs/t1/220542/36/7792...</td>\n      <td>水果京东自营专区</td>\n    </tr>\n    <tr>\n      <th>18582</th>\n      <td>19077434943</td>\n      <td>82782c8369860eaac9f8c30241b71275</td>\n      <td>好</td>\n      <td>2023-05-03 09:39:35</td>\n      <td>False</td>\n      <td>False</td>\n      <td>misc.360buyimg.com/user/myjd-2015/css/i/peison...</td>\n      <td>0</td>\n      <td>0</td>\n      <td>5</td>\n      <td>...</td>\n      <td>NaN</td>\n      <td>NaN</td>\n      <td>4014101</td>\n      <td>1</td>\n      <td>0</td>\n      <td>绿衣裹红瓤，果味清新甘甜，果肉鲜脆多汁，喷涌汁液清甜入喉，甜蜜直达心田！</td>\n      <td>\\n京鲜生 国产麒麟西瓜 1粒装 单果2.5kg以上 生鲜水果</td>\n      <td>39.9</td>\n      <td>//img11.360buyimg.com/n7/jfs/t1/220542/36/7792...</td>\n      <td>水果京东自营专区</td>\n    </tr>\n    <tr>\n      <th>18583</th>\n      <td>19082101472</td>\n      <td>aa006ae86d5353f22fd78ebec070a056</td>\n      <td>好</td>\n      <td>2023-05-04 18:47:06</td>\n      <td>False</td>\n      <td>False</td>\n      <td>storage.360buyimg.com/i.imageUpload/6e69636574...</td>\n      <td>0</td>\n      <td>0</td>\n      <td>5</td>\n      <td>...</td>\n      <td>NaN</td>\n      <td>NaN</td>\n      <td>4014101</td>\n      <td>1</td>\n      <td>0</td>\n      <td>绿衣裹红瓤，果味清新甘甜，果肉鲜脆多汁，喷涌汁液清甜入喉，甜蜜直达心田！</td>\n      <td>\\n京鲜生 国产麒麟西瓜 1粒装 单果2.5kg以上 生鲜水果</td>\n      <td>39.9</td>\n      <td>//img11.360buyimg.com/n7/jfs/t1/220542/36/7792...</td>\n      <td>水果京东自营专区</td>\n    </tr>\n    <tr>\n      <th>18584</th>\n      <td>19076618990</td>\n      <td>af3bc2fe4fbd7cebd15ee6884f932ad4</td>\n      <td>好</td>\n      <td>2023-05-02 21:11:53</td>\n      <td>False</td>\n      <td>False</td>\n      <td>misc.360buyimg.com/user/myjd-2015/css/i/peison...</td>\n      <td>0</td>\n      <td>0</td>\n      <td>5</td>\n      <td>...</td>\n      <td>NaN</td>\n      <td>NaN</td>\n      <td>4014101</td>\n      <td>1</td>\n      <td>0</td>\n      <td>绿衣裹红瓤，果味清新甘甜，果肉鲜脆多汁，喷涌汁液清甜入喉，甜蜜直达心田！</td>\n      <td>\\n京鲜生 国产麒麟西瓜 1粒装 单果2.5kg以上 生鲜水果</td>\n      <td>39.9</td>\n      <td>//img11.360buyimg.com/n7/jfs/t1/220542/36/7792...</td>\n      <td>水果京东自营专区</td>\n    </tr>\n  </tbody>\n</table>\n<p>18585 rows × 57 columns</p>\n</div>"
     },
     "execution_count": 28,
     "metadata": {},
     "output_type": "execute_result"
    }
   ],
   "source": [
    "save_df = pd.merge(all_comments_df,using_item,on='SKU',how='left')\n",
    "save_df"
   ],
   "metadata": {
    "collapsed": false,
    "pycharm": {
     "name": "#%%\n"
    }
   }
  },
  {
   "cell_type": "code",
   "execution_count": 35,
   "outputs": [],
   "source": [
    "# 去重\n",
    "save_df.drop_duplicates(['id'],inplace=True)"
   ],
   "metadata": {
    "collapsed": false,
    "pycharm": {
     "name": "#%%\n"
    }
   }
  },
  {
   "cell_type": "code",
   "execution_count": 36,
   "outputs": [],
   "source": [
    "save_df.to_csv('./data/合并后的评论数据_TOP20.csv',encoding='utf-8',index=False)"
   ],
   "metadata": {
    "collapsed": false,
    "pycharm": {
     "name": "#%%\n"
    }
   }
  }
 ],
 "metadata": {
  "kernelspec": {
   "name": "base",
   "language": "python",
   "display_name": "base"
  },
  "language_info": {
   "codemirror_mode": {
    "name": "ipython",
    "version": 2
   },
   "file_extension": ".py",
   "mimetype": "text/x-python",
   "name": "python",
   "nbconvert_exporter": "python",
   "pygments_lexer": "ipython2",
   "version": "2.7.6"
  }
 },
 "nbformat": 4,
 "nbformat_minor": 0
}